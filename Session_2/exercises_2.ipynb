{
 "cells": [
  {
   "cell_type": "markdown",
   "metadata": {},
   "source": [
    "# Exercises for Session 2 (Git, GitHub and GitHub Desktop)"
   ]
  },
  {
   "cell_type": "markdown",
   "metadata": {},
   "source": [
    "Go through the following bullet points to become acquainted with GitHub\n",
    "\n",
    "- Read the [Setup Document](https://github.com/Python-do-ECARES/Setup) of this course. \n",
    "\n",
    "- Make sure to **install Anaconda**, **open a GitHub account** and **install GitHub Desktop** before this class. \n",
    "\n",
    "- Familizare with GitHub online: add a picture and a description of yourself (if you want to), search for people and/or programs (e.g. Python).\n",
    "\n",
    "- Navigate through the [Python-do-ECARES GitHub Page](https://github.com/Python-do-ECARES). Read the content of each repository."
   ]
  }
 ],
 "metadata": {
  "kernelspec": {
   "display_name": "Python 3",
   "language": "python",
   "name": "python3"
  },
  "language_info": {
   "codemirror_mode": {
    "name": "ipython",
    "version": 3
   },
   "file_extension": ".py",
   "mimetype": "text/x-python",
   "name": "python",
   "nbconvert_exporter": "python",
   "pygments_lexer": "ipython3",
   "version": "3.7.4"
  }
 },
 "nbformat": 4,
 "nbformat_minor": 4
}
