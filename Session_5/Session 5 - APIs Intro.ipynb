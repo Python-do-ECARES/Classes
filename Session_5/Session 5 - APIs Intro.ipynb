{
 "cells": [
  {
   "cell_type": "markdown",
   "metadata": {
    "slideshow": {
     "slide_type": "slide"
    }
   },
   "source": [
    "# Python and APIs\n",
    "Angela, Moritz & Thomas"
   ]
  },
  {
   "cell_type": "markdown",
   "metadata": {
    "slideshow": {
     "slide_type": "slide"
    }
   },
   "source": [
    "### Outline of Session 5\n",
    "\n",
    "In these slides\n",
    "* Introduction \n",
    "* JSON\n",
    "* Hardcoding access with `requests`\n",
    "* Popular pre-written modules for geocoding and mapping\n",
    "\n",
    "External scripts\n",
    "* Trade data with Comtrade API (kudos Federico)\n",
    "* The Twitter API (kudos Charles)"
   ]
  },
  {
   "cell_type": "markdown",
   "metadata": {
    "slideshow": {
     "slide_type": "slide"
    }
   },
   "source": [
    "# What is an API?\n",
    "\n",
    "## API: Application programming interface\n",
    "\n",
    "_\"a set of clearly defined methods of communication between various software components.\"_\n",
    "\n",
    "\n",
    "- Pre-internet days: Extension of software beyond its usual capabilities\n",
    "- Nowadays: Interface by web service providers for you to connect/retrieve with your own application (i.e. without going through GUI)\n",
    "- You send data <-> You get data back\n",
    "- Most APIs have a similar structure: the REST architecture (REpresentational State Transfer)\n",
    "- Inititatives like the Linux Foundation's [OpenAPI](https://www.openapis.org/) develop these types of standards\n"
   ]
  },
  {
   "cell_type": "markdown",
   "metadata": {
    "slideshow": {
     "slide_type": "slide"
    }
   },
   "source": [
    "# Illustration: General Set-up\n",
    "\n",
    "<img src=\"Slide1.png\" width=\"800\" height=\"450\">\n",
    "\n",
    "Source: [MuleSoft Videos](https://www.youtube.com/embed/s7wmiS2mSXY)\n"
   ]
  },
  {
   "cell_type": "markdown",
   "metadata": {
    "slideshow": {
     "slide_type": "slide"
    }
   },
   "source": [
    "# Illustration: Making a request\n",
    "\n",
    "<img src=\"Slide2.png\" width=\"800\" height=\"450\">"
   ]
  },
  {
   "cell_type": "markdown",
   "metadata": {
    "slideshow": {
     "slide_type": "slide"
    }
   },
   "source": [
    "# Illustration: Returning Content\n",
    "\n",
    "<img src=\"Slide3.png\" width=\"800\" height=\"450\">"
   ]
  },
  {
   "cell_type": "markdown",
   "metadata": {
    "slideshow": {
     "slide_type": "slide"
    }
   },
   "source": [
    "# Elements of an API\n",
    "\n",
    "* A protocol (eg: https)\n",
    "* A server (eg: httpbin.org)\n",
    "* A method name / location (eg: /get)\n",
    "* A set of arguments (eg: hello=world and foo=bar)\n",
    "\n",
    "➥ https://httpbin.org/get?hello=world&foo=bar\n",
    "\n"
   ]
  },
  {
   "cell_type": "markdown",
   "metadata": {
    "slideshow": {
     "slide_type": "slide"
    }
   },
   "source": [
    "# The Request\n",
    "\n",
    "* You need to read the documentation (e.g. [Eurostat API documentation](https://ec.europa.eu/eurostat/web/json-and-unicode-web-services/getting-started/rest-request))\n",
    "* You need to specify the URL (if it is a remote API)\n",
    "* You need to import the `requests` module in Python"
   ]
  },
  {
   "cell_type": "markdown",
   "metadata": {
    "slideshow": {
     "slide_type": "slide"
    }
   },
   "source": [
    "# The returning object\n",
    "\n",
    "* Usually it is encoded in JSON \n",
    "* The other popular formats for data structure are XML (mainly old stuff) and CSV (spreadsheet compatible)"
   ]
  },
  {
   "cell_type": "markdown",
   "metadata": {
    "slideshow": {
     "slide_type": "slide"
    }
   },
   "source": [
    "# What is a JSON?\n",
    "* JSON = [(JavaScript Object Notation)](https://www.json.org/)\n",
    "* It is one of the most popular format for data in the world\n",
    "* It looks like a Python dictionary, except for the fact that:\n",
    "    - JSON is a string (it is inside a text file)\n",
    "    - JSON must use double quotation mark\n",
    "    - in JavaScript it is defined as Object\n",
    "* In Python there is a built-in module called `json` module \n",
    "* It follows this strcture {\"key\" : \"value\"}; see example below:\n",
    "\n"
   ]
  },
  {
   "cell_type": "code",
   "execution_count": 3,
   "metadata": {
    "slideshow": {
     "slide_type": "subslide"
    }
   },
   "outputs": [
    {
     "data": {
      "text/plain": [
       "{'friends': [{'name': 'Jose', 'degree': 'Applied Computing'},\n",
       "  {'name': 'Rolf', 'degree': 'Computer Science'},\n",
       "  {'name': 'Anna', 'degree': 'Physics'}]}"
      ]
     },
     "execution_count": 3,
     "metadata": {},
     "output_type": "execute_result"
    }
   ],
   "source": [
    "{\n",
    "  \"friends\": [\n",
    "    {\n",
    "      \"name\": \"Jose\",\n",
    "      \"degree\": \"Applied Computing\"\n",
    "    },\n",
    "    {\n",
    "      \"name\": \"Rolf\",\n",
    "      \"degree\": \"Computer Science\"\n",
    "    },\n",
    "    {\n",
    "      \"name\": \"Anna\",\n",
    "      \"degree\": \"Physics\"\n",
    "    }\n",
    "  ]\n",
    "}"
   ]
  },
  {
   "cell_type": "markdown",
   "metadata": {
    "slideshow": {
     "slide_type": "slide"
    }
   },
   "source": [
    "# What can I do with APIs? \n",
    "\n",
    "- Retrieve [World Bank Dev Indicators](https://datahelpdesk.worldbank.org/knowledgebase/articles/898581-api-basic-call-structures)\n",
    "- Track stock prices with [OpenFIGI](https://www.openfigi.com/api)\n",
    "- Geocode an address with [Here Maps](https://developer.here.com/)\n",
    "- Convert fiat currency with [opencurrency](https://openexchangerates.org/) or crypto with [alternative.me](https://alternative.me/crypto/api/)\n",
    "- Send tweets with [Twitter](https://developer.twitter.com/)\n",
    "- Download images from Mars or the Moon from [NASA](https://api.nasa.gov/)\n",
    "- ..."
   ]
  },
  {
   "cell_type": "markdown",
   "metadata": {
    "slideshow": {
     "slide_type": "slide"
    }
   },
   "source": [
    "\n",
    "<a href=\"https://imgflip.com/i/3rrkeh\"><img src=\"https://i.imgflip.com/3rrkeh.jpg\" title=\"madeatimgflip.com\"/></a>\n",
    "\n"
   ]
  },
  {
   "cell_type": "markdown",
   "metadata": {
    "slideshow": {
     "slide_type": "slide"
    }
   },
   "source": [
    "# The Starwars Character API\n",
    "\n",
    "- Let's get data on Starwars characters! \n",
    "- We find [the documentation](https://swapi.co/documentation) \n",
    "- We import the `requests` module \n",
    "- We set the base URL of the API: `https://swapi.co/api/`\n",
    "\n"
   ]
  },
  {
   "cell_type": "code",
   "execution_count": 4,
   "metadata": {
    "slideshow": {
     "slide_type": "subslide"
    }
   },
   "outputs": [
    {
     "name": "stdout",
     "output_type": "stream",
     "text": [
      "<Response [200]>\n"
     ]
    }
   ],
   "source": [
    "import requests\n",
    "\n",
    "url = \"https://swapi.co/api/\"\n",
    "\n",
    "# Launch request\n",
    "base_req = requests.get(url)\n",
    "print(base_req)"
   ]
  },
  {
   "cell_type": "code",
   "execution_count": 5,
   "metadata": {
    "scrolled": true,
    "slideshow": {
     "slide_type": "subslide"
    }
   },
   "outputs": [
    {
     "name": "stdout",
     "output_type": "stream",
     "text": [
      "{'people': 'https://swapi.co/api/people/', 'planets': 'https://swapi.co/api/planets/', 'films': 'https://swapi.co/api/films/', 'species': 'https://swapi.co/api/species/', 'vehicles': 'https://swapi.co/api/vehicles/', 'starships': 'https://swapi.co/api/starships/'}\n"
     ]
    }
   ],
   "source": [
    "# Explore json content of object\n",
    "print(base_req.json())\n"
   ]
  },
  {
   "cell_type": "markdown",
   "metadata": {
    "slideshow": {
     "slide_type": "slide"
    }
   },
   "source": [
    "# Making sense of the answer\n",
    "\n",
    "- The call to the basic URL returns various subfields\n",
    "`\n",
    "{\n",
    "    'people': 'https://swapi.co/api/people/', \n",
    "    'planets': 'https://swapi.co/api/planets/', \n",
    "    'films': 'https://swapi.co/api/films/', \n",
    "    'species': 'https://swapi.co/api/species/', \n",
    "    'vehicles': 'https://swapi.co/api/vehicles/', \n",
    "    'starships': 'https://swapi.co/api/starships/'\n",
    "    }\n",
    "`\n",
    "- The documentation adds: `/people/:id/ -- get a specific people resource`\n",
    "- Let's request info on the first id of the subfield `people`\n",
    "- We can request further info on a sub-subfield (e.g. `starships`)\n",
    "\n",
    "\n",
    "\n"
   ]
  },
  {
   "cell_type": "code",
   "execution_count": 6,
   "metadata": {
    "slideshow": {
     "slide_type": "subslide"
    }
   },
   "outputs": [
    {
     "name": "stdout",
     "output_type": "stream",
     "text": [
      "{'name': 'Luke Skywalker', 'height': '172', 'mass': '77', 'hair_color': 'blond', 'skin_color': 'fair', 'eye_color': 'blue', 'birth_year': '19BBY', 'gender': 'male', 'homeworld': 'https://swapi.co/api/planets/1/', 'films': ['https://swapi.co/api/films/2/', 'https://swapi.co/api/films/6/', 'https://swapi.co/api/films/3/', 'https://swapi.co/api/films/1/', 'https://swapi.co/api/films/7/'], 'species': ['https://swapi.co/api/species/1/'], 'vehicles': ['https://swapi.co/api/vehicles/14/', 'https://swapi.co/api/vehicles/30/'], 'starships': ['https://swapi.co/api/starships/12/', 'https://swapi.co/api/starships/22/'], 'created': '2014-12-09T13:50:51.644000Z', 'edited': '2014-12-20T21:17:56.891000Z', 'url': 'https://swapi.co/api/people/1/'}\n"
     ]
    }
   ],
   "source": [
    "# Let's try\n",
    "url = \"https://swapi.co/api/people/1\"\n",
    "\n",
    "# Launch request\n",
    "req_1 = requests.get(url)\n",
    "\n",
    "# Extract json\n",
    "req_1_js = req_1.json()\n",
    "print(req_1_js)"
   ]
  },
  {
   "cell_type": "code",
   "execution_count": 7,
   "metadata": {
    "slideshow": {
     "slide_type": "subslide"
    }
   },
   "outputs": [
    {
     "name": "stdout",
     "output_type": "stream",
     "text": [
      "['https://swapi.co/api/starships/12/', 'https://swapi.co/api/starships/22/']\n",
      "{'name': 'X-wing', 'model': 'T-65 X-wing', 'manufacturer': 'Incom Corporation', 'cost_in_credits': '149999', 'length': '12.5', 'max_atmosphering_speed': '1050', 'crew': '1', 'passengers': '0', 'cargo_capacity': '110', 'consumables': '1 week', 'hyperdrive_rating': '1.0', 'MGLT': '100', 'starship_class': 'Starfighter', 'pilots': ['https://swapi.co/api/people/1/', 'https://swapi.co/api/people/9/', 'https://swapi.co/api/people/18/', 'https://swapi.co/api/people/19/'], 'films': ['https://swapi.co/api/films/2/', 'https://swapi.co/api/films/3/', 'https://swapi.co/api/films/1/'], 'created': '2014-12-12T11:19:05.340000Z', 'edited': '2014-12-22T17:35:44.491233Z', 'url': 'https://swapi.co/api/starships/12/'}\n"
     ]
    }
   ],
   "source": [
    "# Let's extract Luke's starships\n",
    "ships = req_1_js.get(\"starships\")\n",
    "print(ships)\n",
    "\n",
    "# And get entry of first starship\n",
    "ship = requests.get(ships[0]).json()\n",
    "print(ship)\n"
   ]
  },
  {
   "cell_type": "markdown",
   "metadata": {
    "slideshow": {
     "slide_type": "slide"
    }
   },
   "source": [
    "# Geocoding\n",
    "\n",
    "- Most map services like Google Maps, Open Street Maps, Bing, etc. have APIs\n",
    "- Let's check out Open Street Maps' (OSM) API called [Nominatim](https://developer.mapquest.com/)\n",
    "- We will use the API through the Python module `geopy`\n",
    "- To install new modules check out this [tutorial](https://jakevdp.github.io/blog/2017/12/05/installing-python-packages-from-jupyter/)\n",
    "- But we still need to sign up with our email to obtain a key for Nominatim\n",
    "\n",
    "\n",
    "\n",
    "\n",
    "\n",
    "\n"
   ]
  },
  {
   "cell_type": "markdown",
   "metadata": {
    "slideshow": {
     "slide_type": "slide"
    }
   },
   "source": [
    "# Retriving a location\n",
    "\n",
    "* We install `geopy`\n",
    "* We sign up and obtain the key (in this example we use Moritz's key)\n",
    "* We search the location of two popular places among ULB students: the ULB and the bar Tavernier\n",
    "* We store and print out their coordinates"
   ]
  },
  {
   "cell_type": "code",
   "execution_count": 8,
   "metadata": {
    "slideshow": {
     "slide_type": "subslide"
    }
   },
   "outputs": [
    {
     "name": "stdout",
     "output_type": "stream",
     "text": [
      "Université Libre de Bruxelles (Campus du Solbosch), Square Albert Devèze - Albert Devèzesquare, Ixelles - Elsene, Région de Bruxelles-Capitale - Brussels Hoofdstedelijk Gewest, 1050, België - Belgique - Belgien\n",
      "Tavernier, 445, Chaussée de Boondael - Boondaalse Steenweg, Ixelles - Elsene, Région de Bruxelles-Capitale - Brussels Hoofdstedelijk Gewest, 1050, België - Belgique - Belgien\n",
      "[50.8134537, 4.381308819663028]\n",
      "[50.816496, 4.388727177209292]\n"
     ]
    }
   ],
   "source": [
    "#import sys \n",
    "#!{sys.executable} -m pip install geopy\n",
    "\n",
    "from geopy.geocoders import Nominatim\n",
    "\n",
    "# Replace the user agent key with your own key\n",
    "geolocator = Nominatim(user_agent=\"jjG4qnPniTAGpG7O0q8XcMhARm0Pxcln\")\n",
    "location_ULB = geolocator.geocode(\"Universite libre de Bruxelles\")\n",
    "\n",
    "location_tav = geolocator.geocode(\"Bar Tavernier Ixelles\")\n",
    "\n",
    "\n",
    "# Did it work?\n",
    "print(location_ULB)\n",
    "print(location_tav)\n",
    "# Like a charm...\n",
    "\n",
    "# Store coordinates in tuple\n",
    "ulb_coords = [location_ULB.latitude, location_ULB.longitude]\n",
    "print(ulb_coords)\n",
    "\n",
    "tav_coords = [location_tav.latitude, location_tav.longitude]\n",
    "print(tav_coords)\n",
    "\n",
    "\n",
    "\n"
   ]
  },
  {
   "cell_type": "markdown",
   "metadata": {
    "slideshow": {
     "slide_type": "slide"
    }
   },
   "source": [
    "# Mapping\n",
    "\n",
    "- Sadly, not everybody can associate a place to its coordinates in their mind :-P \n",
    "- With the free [Leaflet API](https://leafletjs.com/reference-1.6.0.html) we can pin point them on a map\n",
    "- Unfortunately written in Java Script\n",
    "- But no need to learn, use \"wrapper\" Python Module `Folium`\n",
    "- Example: Map of environmental violations of shale gas drilling in Pennsyilvania ([website](http://stateimpact.npr.org/pennsylvania/drilling/violations/))\n",
    "\n",
    " <img src=\"map.png\" alt=\"Map\" width=\"250\" height=\"250\">\n",
    "\n",
    "\n",
    "\n",
    "\n",
    "\n",
    "\n",
    "\n"
   ]
  },
  {
   "cell_type": "markdown",
   "metadata": {
    "slideshow": {
     "slide_type": "slide"
    }
   },
   "source": [
    "# Producing a map\n",
    "\n",
    "* We install `Folium`\n",
    "* We create a map for the ULB, specifying the location and a zoom level\n",
    "* We display the map"
   ]
  },
  {
   "cell_type": "code",
   "execution_count": 9,
   "metadata": {
    "slideshow": {
     "slide_type": "subslide"
    }
   },
   "outputs": [],
   "source": [
    "# Install Python module Folium, a wrapper of the Leaflet API\n",
    "#import sys\n",
    "#!{sys.executable} -m pip install folium\n",
    "\n",
    "import folium\n",
    "from folium.plugins import MarkerCluster\n",
    "import pandas as pd\n",
    "\n",
    "#Create the map\n",
    "my_map = folium.Map(location = ulb_coords, zoom_start = 14)\n",
    "\n",
    "\n"
   ]
  },
  {
   "cell_type": "code",
   "execution_count": 10,
   "metadata": {
    "slideshow": {
     "slide_type": "subslide"
    }
   },
   "outputs": [
    {
     "data": {
      "text/html": [
       "<div style=\"width:100%;\"><div style=\"position:relative;width:100%;height:0;padding-bottom:60%;\"><iframe src=\"about:blank\" style=\"position:absolute;width:100%;height:100%;left:0;top:0;border:none !important;\" data-html=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 onload=\"this.contentDocument.open();this.contentDocument.write(atob(this.getAttribute('data-html')));this.contentDocument.close();\" allowfullscreen webkitallowfullscreen mozallowfullscreen></iframe></div></div>"
      ],
      "text/plain": [
       "<folium.folium.Map at 0x7ff4816417d0>"
      ]
     },
     "execution_count": 10,
     "metadata": {},
     "output_type": "execute_result"
    }
   ],
   "source": [
    "# Display map\n",
    "my_map\n"
   ]
  },
  {
   "cell_type": "markdown",
   "metadata": {
    "slideshow": {
     "slide_type": "slide"
    }
   },
   "source": [
    "# Adding markers to the map\n",
    "\n",
    "* It is still not clear where the ULB and Tavernier are located: we need some markers!\n",
    "* We pin point them on the map by adding some representative icons ;-) "
   ]
  },
  {
   "cell_type": "code",
   "execution_count": 11,
   "metadata": {
    "slideshow": {
     "slide_type": "subslide"
    }
   },
   "outputs": [
    {
     "data": {
      "text/html": [
       "<div style=\"width:100%;\"><div style=\"position:relative;width:100%;height:0;padding-bottom:60%;\"><iframe src=\"about:blank\" style=\"position:absolute;width:100%;height:100%;left:0;top:0;border:none !important;\" data-html=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 onload=\"this.contentDocument.open();this.contentDocument.write(atob(this.getAttribute('data-html')));this.contentDocument.close();\" allowfullscreen webkitallowfullscreen mozallowfullscreen></iframe></div></div>"
      ],
      "text/plain": [
       "<folium.folium.Map at 0x7ff4816417d0>"
      ]
     },
     "execution_count": 11,
     "metadata": {},
     "output_type": "execute_result"
    }
   ],
   "source": [
    "# Let's add markers\n",
    "\n",
    "\n",
    "folium.Marker(ulb_coords, popup = 'ULB', icon = folium.Icon(icon='book')).add_to(my_map)\n",
    "folium.Marker(tav_coords, popup = 'STATA User Meeting', icon = folium.Icon(icon='glass', color='red')).add_to(my_map)\n",
    "\n",
    "my_map\n"
   ]
  }
 ],
 "metadata": {
  "celltoolbar": "Slideshow",
  "kernelspec": {
   "display_name": "Python 3",
   "language": "python",
   "name": "python3"
  },
  "language_info": {
   "codemirror_mode": {
    "name": "ipython",
    "version": 3
   },
   "file_extension": ".py",
   "mimetype": "text/x-python",
   "name": "python",
   "nbconvert_exporter": "python",
   "pygments_lexer": "ipython3",
   "version": "3.7.4"
  }
 },
 "nbformat": 4,
 "nbformat_minor": 2
}
