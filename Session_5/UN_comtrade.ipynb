{
 "cells": [
  {
   "cell_type": "markdown",
   "metadata": {},
   "source": [
    "# Working directory\n",
    "First, let us set up the working directory since we will download files from the UN comtrade. If this notebook is in the session 5 folder of your fork, you should have it as current directory."
   ]
  },
  {
   "cell_type": "code",
   "execution_count": 1,
   "metadata": {},
   "outputs": [
    {
     "name": "stdout",
     "output_type": "stream",
     "text": [
      "C:\\Users\\Fede\\Documents\\Data Analysis\\Classes\\Session_5\n"
     ]
    }
   ],
   "source": [
    "import os\n",
    "\n",
    "#The os.getcwd() returns a string, you can assign it to a variable if you need using var = os.getcwd(). Then, var will be assigned to that string.\n",
    "print(os.getcwd())"
   ]
  },
  {
   "cell_type": "markdown",
   "metadata": {},
   "source": [
    "Now, create a folder to store the data, call it *Data* inside your working directory. If for some reason jupyter did not set your working directory to the folder that you would like to use, just check out the \"os.chdir()\" function of the os library"
   ]
  },
  {
   "cell_type": "code",
   "execution_count": 2,
   "metadata": {},
   "outputs": [],
   "source": [
    "# In this example we use the os.mkdir() function, but it is annoying once you create the folder since each time you run this code again it will raise an error, so we wrap it using exception handling.\n",
    "# I suggest to use the os.makedirs() with the option \"exist_ok = True\" instead of the os.mkdir() to avoid the problem of folders already defined.\n",
    "try:\n",
    "    os.mkdir(\"Data\")\n",
    "except FileExistsError:\n",
    "    print(\"The folder Data already exists\")"
   ]
  },
  {
   "cell_type": "markdown",
   "metadata": {},
   "source": [
    "Now, let us first check how the UN Comtrade API works; then we will come back to folders management"
   ]
  },
  {
   "cell_type": "markdown",
   "metadata": {},
   "source": [
    "# UN Comtrade API\n",
    "You **need** to look at the [UN Comtrade documentation](https://comtrade.un.org/data/doc/api/) to get an idea of the parameters required to make a request. First, let us start with an example of a single request.\n",
    "\n",
    "Below you might receive the \"ChunkedEncodingError\" which stops your code. If you receive this before the function \"bilateral_requests\" is defined, just run again the block of code returning the error. Instead, if you get it in the bilateral_requests call, or in the blocks of code after that, just ignore it and read the rest of the code without running it. We have not used exception handling to solve this problem on purpose, since we want to show some of the problems you might have using the UN Comtrade API. At the end of this notebook we mention this (and other problems) and possible ways to solve them, but we leave it is an exercise to include those solutions in your code."
   ]
  },
  {
   "cell_type": "code",
   "execution_count": 3,
   "metadata": {},
   "outputs": [
    {
     "name": "stdout",
     "output_type": "stream",
     "text": [
      "Your request was successful\n"
     ]
    }
   ],
   "source": [
    "import requests\n",
    "\n",
    "# The url below is a request to get data on commodities (type=C), at an annual frequence (freq=A), for the reported Harmonised System (px=HS) classification, for the year(ps=2013), reporter country UK (r=826).\n",
    "# The trade partner considered is the aggregate Wolrd (p=0), for all trade flows available (imports, exports, re-exports, re-imports, as rg=all), and all the classification codes within the HS classification (cc=all)\n",
    "# The format returned is a csv file (fmt=csv) \n",
    "url = \"http://comtrade.un.org/api/get?max=100000&type=C&freq=A&px=HS&ps=2013&r=826&p=0&rg=all&cc=ALL&fmt=csv&head=M\"\n",
    "\n",
    "\n",
    "data_1 = requests.get(url)\n",
    "\n",
    "if data_1.status_code == 200:\n",
    "    print(\"Your request was successful\")\n",
    "else:\n",
    "    print(f\"Error {data_1.status_code} on your request \")"
   ]
  },
  {
   "cell_type": "markdown",
   "metadata": {},
   "source": [
    "You don't need to always print the status code when you download data. The HTTP code 200 means that the request was succesful and the object required has been returned. You can learn more about HTTP codes [here](https://www.w3.org/Protocols/rfc2616/rfc2616-sec10.html). The use of HTTP codes helps when you want to use exception handling to deal with possible problems in retrieving data."
   ]
  },
  {
   "cell_type": "markdown",
   "metadata": {},
   "source": [
    "Now that you have obtained an object as result from your query (in this case the csv file), you might want to store the file somewhere. In this case, we will use the *Data* folder of the previous step."
   ]
  },
  {
   "cell_type": "code",
   "execution_count": 4,
   "metadata": {},
   "outputs": [
    {
     "name": "stdout",
     "output_type": "stream",
     "text": [
      "Writing .csv file in C:\\Users\\Fede\\Documents\\Data Analysis\\Classes\\Session_5\\Data\\UK_world\n",
      "File .csv saved in C:\\Users\\Fede\\Documents\\Data Analysis\\Classes\\Session_5\\Data\\UK_world\n"
     ]
    }
   ],
   "source": [
    "# Remember that the working directory is not the data folder, for now let us assign the path to the data folder to a variable. Use one of the variables below depending on your OS.\n",
    "\n",
    "# For Windows\n",
    "data_path = os.getcwd() + \"\\\\Data\\\\UK_world\"\n",
    "\n",
    "# For MacOS\n",
    "#data_path = os.getcwd() + \"/Data\"\n",
    "def write(req, path, reporter = \"\", partner = \"\"):\n",
    "    \"\"\" This function takes the outcome of a request as first argument (req) and a path to a folder (path) as second argument.\n",
    "    \n",
    "        It will print the content of the request to a file following the path.\n",
    "    \"\"\"\n",
    "    \n",
    "    print(f\"Writing .csv file in {path}\")\n",
    "    # The function open below just opens the file defined as path in write mode. Then, while this file is open, the following line will write the text content of the request to this file (after some manipulation using join and replace)\n",
    "    with open(path + reporter + \"_\" + partner + \".csv\", 'w', newline = \"\") as f:\n",
    "        # This will access the content of our request, and we already know that it is a csv file. It will write that file in the directory that we specify as path.\n",
    "        f.write(\"\".join(req.text.replace(\";\",\"\")))\n",
    "    print(f\"File .csv saved in {path}\")\n",
    "\n",
    "write(data_1, data_path)"
   ]
  },
  {
   "cell_type": "markdown",
   "metadata": {},
   "source": [
    "Now you will have the csv file inside the data folder. That is just for one file, below we will use loops to improve our code."
   ]
  },
  {
   "cell_type": "markdown",
   "metadata": {},
   "source": [
    "First, let us delete the file that we just created."
   ]
  },
  {
   "cell_type": "code",
   "execution_count": 5,
   "metadata": {},
   "outputs": [],
   "source": [
    "os.remove(data_path + \"_.csv\")"
   ]
  },
  {
   "cell_type": "markdown",
   "metadata": {},
   "source": [
    "Now, you can change the parameters depending on the data that you want. First, let's get the unique id linked to each country"
   ]
  },
  {
   "cell_type": "code",
   "execution_count": 6,
   "metadata": {},
   "outputs": [],
   "source": [
    "# This is the url to the json file with the id-country pairs\n",
    "url_country_values= \"https://comtrade.un.org/Data/cache/reporterAreas.json\"\n",
    "\n",
    "country_values = requests.get(url_country_values).json()[\"results\"]"
   ]
  },
  {
   "cell_type": "code",
   "execution_count": 7,
   "metadata": {},
   "outputs": [
    {
     "name": "stdout",
     "output_type": "stream",
     "text": [
      "[('all', 'All'), ('4', 'Afghanistan'), ('8', 'Albania'), ('12', 'Algeria'), ('20', 'Andorra'), ('24', 'Angola'), ('660', 'Anguilla'), ('28', 'Antigua and Barbuda'), ('32', 'Argentina'), ('51', 'Armenia'), ('533', 'Aruba'), ('36', 'Australia'), ('40', 'Austria'), ('31', 'Azerbaijan'), ('44', 'Bahamas'), ('48', 'Bahrain'), ('50', 'Bangladesh'), ('52', 'Barbados'), ('112', 'Belarus'), ('56', 'Belgium'), ('58', 'Belgium-Luxembourg'), ('84', 'Belize'), ('204', 'Benin'), ('60', 'Bermuda'), ('64', 'Bhutan'), ('68', 'Bolivia (Plurinational State of)'), ('535', 'Bonaire'), ('70', 'Bosnia Herzegovina'), ('72', 'Botswana'), ('92', 'Br. Virgin Isds'), ('76', 'Brazil'), ('96', 'Brunei Darussalam'), ('100', 'Bulgaria'), ('854', 'Burkina Faso'), ('108', 'Burundi'), ('132', 'Cabo Verde'), ('116', 'Cambodia'), ('120', 'Cameroon'), ('124', 'Canada'), ('136', 'Cayman Isds'), ('140', 'Central African Rep.'), ('148', 'Chad'), ('152', 'Chile'), ('156', 'China'), ('344', 'China, Hong Kong SAR'), ('446', 'China, Macao SAR'), ('170', 'Colombia'), ('174', 'Comoros'), ('178', 'Congo'), ('184', 'Cook Isds'), ('188', 'Costa Rica'), ('384', \"Côte d'Ivoire\"), ('191', 'Croatia'), ('192', 'Cuba'), ('531', 'Curaçao'), ('196', 'Cyprus'), ('203', 'Czechia'), ('200', 'Czechoslovakia'), ('408', \"Dem. People's Rep. of Korea\"), ('180', 'Dem. Rep. of the Congo'), ('208', 'Denmark'), ('262', 'Djibouti'), ('212', 'Dominica'), ('214', 'Dominican Rep.'), ('588', 'East and West Pakistan'), ('218', 'Ecuador'), ('818', 'Egypt'), ('222', 'El Salvador'), ('226', 'Equatorial Guinea'), ('232', 'Eritrea'), ('233', 'Estonia'), ('231', 'Ethiopia'), ('97', 'EU-28'), ('234', 'Faeroe Isds'), ('238', 'Falkland Isds (Malvinas)'), ('242', 'Fiji'), ('246', 'Finland'), ('886', 'Fmr Arab Rep. of Yemen'), ('278', 'Fmr Dem. Rep. of Germany'), ('866', 'Fmr Dem. Rep. of Vietnam'), ('720', 'Fmr Dem. Yemen'), ('230', 'Fmr Ethiopia'), ('280', 'Fmr Fed. Rep. of Germany'), ('582', 'Fmr Pacific Isds'), ('590', 'Fmr Panama, excl.Canal Zone'), ('592', 'Fmr Panama-Canal-Zone'), ('868', 'Fmr Rep. of Vietnam'), ('717', 'Fmr Rhodesia Nyas'), ('736', 'Fmr Sudan'), ('835', 'Fmr Tanganyika'), ('810', 'Fmr USSR'), ('890', 'Fmr Yugoslavia'), ('836', 'Fmr Zanzibar and Pemba Isd'), ('251', 'France'), ('254', 'French Guiana'), ('258', 'French Polynesia'), ('583', 'FS Micronesia'), ('266', 'Gabon'), ('270', 'Gambia'), ('268', 'Georgia'), ('276', 'Germany'), ('288', 'Ghana'), ('292', 'Gibraltar'), ('300', 'Greece'), ('304', 'Greenland'), ('308', 'Grenada'), ('312', 'Guadeloupe'), ('320', 'Guatemala'), ('324', 'Guinea'), ('624', 'Guinea-Bissau'), ('328', 'Guyana'), ('332', 'Haiti'), ('336', 'Holy See (Vatican City State)'), ('340', 'Honduras'), ('348', 'Hungary'), ('352', 'Iceland'), ('699', 'India'), ('356', 'India, excl. Sikkim'), ('360', 'Indonesia'), ('364', 'Iran'), ('368', 'Iraq'), ('372', 'Ireland'), ('376', 'Israel'), ('381', 'Italy'), ('388', 'Jamaica'), ('392', 'Japan'), ('400', 'Jordan'), ('398', 'Kazakhstan'), ('404', 'Kenya'), ('296', 'Kiribati'), ('414', 'Kuwait'), ('417', 'Kyrgyzstan'), ('418', \"Lao People's Dem. Rep.\"), ('428', 'Latvia'), ('422', 'Lebanon'), ('426', 'Lesotho'), ('430', 'Liberia'), ('434', 'Libya'), ('440', 'Lithuania'), ('442', 'Luxembourg'), ('450', 'Madagascar'), ('454', 'Malawi'), ('458', 'Malaysia'), ('462', 'Maldives'), ('466', 'Mali'), ('470', 'Malta'), ('584', 'Marshall Isds'), ('474', 'Martinique'), ('478', 'Mauritania'), ('480', 'Mauritius'), ('175', 'Mayotte'), ('484', 'Mexico'), ('496', 'Mongolia'), ('499', 'Montenegro'), ('500', 'Montserrat'), ('504', 'Morocco'), ('508', 'Mozambique'), ('104', 'Myanmar'), ('580', 'N. Mariana Isds'), ('516', 'Namibia'), ('524', 'Nepal'), ('530', 'Neth. Antilles'), ('532', 'Neth. Antilles and Aruba'), ('528', 'Netherlands'), ('540', 'New Caledonia'), ('554', 'New Zealand'), ('558', 'Nicaragua'), ('562', 'Niger'), ('566', 'Nigeria'), ('579', 'Norway'), ('512', 'Oman'), ('490', 'Other Asia, nes'), ('586', 'Pakistan'), ('585', 'Palau'), ('591', 'Panama'), ('598', 'Papua New Guinea'), ('600', 'Paraguay'), ('459', 'Peninsula Malaysia'), ('604', 'Peru'), ('608', 'Philippines'), ('616', 'Poland'), ('620', 'Portugal'), ('634', 'Qatar'), ('410', 'Rep. of Korea'), ('498', 'Rep. of Moldova'), ('638', 'Réunion'), ('642', 'Romania'), ('643', 'Russian Federation'), ('646', 'Rwanda'), ('647', 'Ryukyu Isd'), ('461', 'Sabah'), ('654', 'Saint Helena'), ('659', 'Saint Kitts and Nevis'), ('658', 'Saint Kitts, Nevis and Anguilla'), ('662', 'Saint Lucia'), ('534', 'Saint Maarten'), ('666', 'Saint Pierre and Miquelon'), ('670', 'Saint Vincent and the Grenadines'), ('882', 'Samoa'), ('674', 'San Marino'), ('678', 'Sao Tome and Principe'), ('457', 'Sarawak'), ('682', 'Saudi Arabia'), ('686', 'Senegal'), ('688', 'Serbia'), ('891', 'Serbia and Montenegro'), ('690', 'Seychelles'), ('694', 'Sierra Leone'), ('702', 'Singapore'), ('703', 'Slovakia'), ('705', 'Slovenia'), ('711', 'So. African Customs Union'), ('90', 'Solomon Isds'), ('706', 'Somalia'), ('710', 'South Africa'), ('728', 'South Sudan'), ('724', 'Spain'), ('144', 'Sri Lanka'), ('275', 'State of Palestine'), ('729', 'Sudan'), ('740', 'Suriname'), ('748', 'Swaziland'), ('752', 'Sweden'), ('757', 'Switzerland'), ('760', 'Syria'), ('762', 'Tajikistan'), ('807', 'TFYR of Macedonia'), ('764', 'Thailand'), ('626', 'Timor-Leste'), ('768', 'Togo'), ('772', 'Tokelau'), ('776', 'Tonga'), ('780', 'Trinidad and Tobago'), ('788', 'Tunisia'), ('792', 'Turkey'), ('795', 'Turkmenistan'), ('796', 'Turks and Caicos Isds'), ('798', 'Tuvalu'), ('800', 'Uganda'), ('804', 'Ukraine'), ('784', 'United Arab Emirates'), ('826', 'United Kingdom'), ('834', 'United Rep. of Tanzania'), ('858', 'Uruguay'), ('850', 'US Virgin Isds'), ('842', 'USA'), ('841', 'USA (before 1981)'), ('860', 'Uzbekistan'), ('548', 'Vanuatu'), ('862', 'Venezuela'), ('704', 'Viet Nam'), ('876', 'Wallis and Futuna Isds'), ('887', 'Yemen'), ('894', 'Zambia'), ('716', 'Zimbabwe')]\n"
     ]
    }
   ],
   "source": [
    "# Below you can find two different ways to achieve the same result\n",
    "\"\"\"\n",
    "unpacked_id = []\n",
    "unpacked_countries = []\n",
    "for x in range(len(country_values)):\n",
    "    unpacked_id.append(country_values[x][\"id\"])\n",
    "    unpacked_countries.append(country_values[x][\"text\"])\n",
    "    \n",
    "unpacked_values = list(zip(unpacked_id, unpacked_countries))\n",
    "print(unpacked_values)\n",
    "\"\"\"\n",
    "unpacked_values = [(x, y) for entry in range(len(country_values)) for x, y in [(country_values[entry].get(\"id\"), country_values[entry].get(\"text\"))]]\n",
    "\n",
    "print(unpacked_values)"
   ]
  },
  {
   "cell_type": "markdown",
   "metadata": {},
   "source": [
    "Since we know the name of a country but not the id, which is what we need for the API request, we can construct a function that takes the name of the country as argument and return the associated id."
   ]
  },
  {
   "cell_type": "code",
   "execution_count": 8,
   "metadata": {},
   "outputs": [],
   "source": [
    "def obtain_id(country_name):\n",
    "    for x in range(len(unpacked_values)):\n",
    "        if country_name in unpacked_values[x]:\n",
    "            print(f\"The country {country_name} is in the list with id {unpacked_values[x][0]}\")\n",
    "            i = unpacked_values[x][0]\n",
    "            return i\n",
    "    else:\n",
    "        print(f\"The country {country_name} is not on the list, check the exact name used by the UN comtrade for that country\")"
   ]
  },
  {
   "cell_type": "markdown",
   "metadata": {},
   "source": [
    "Now, we will define a function that we are going to use during the rest of the exercise. It gets the name of the reporter country, the product classification, the frequence of the data and the year as input to create a path of folders to store the csv files that we will download later. Since we work on different OS, we will also add an argument that takes the string \"Windows\" or \"MacOS\""
   ]
  },
  {
   "cell_type": "code",
   "execution_count": 9,
   "metadata": {},
   "outputs": [],
   "source": [
    "def folder(frequency, classification, year, reporter, OS, month = \"\"):\n",
    "    if OS == \"Windows\":\n",
    "        path = os.getcwd() + \"\\\\Data\\\\\" + frequency + \"\\\\\" + classification + \"\\\\\" + year + month + \"\\\\\" + reporter\n",
    "        os.makedirs(path, exist_ok = True)\n",
    "        print(f\"The folder at {path} has been created.\")\n",
    "        return path + \"\\\\\"\n",
    "    elif OS == \"MacOS\":\n",
    "        path = os.getcwd() + \"/Data/\" + frequency + \"/\" + classification + \"/\" + year + month + \"/\" + reporter\n",
    "        os.makedirs(path, exist_ok = True)\n",
    "        print(f\"The folder at {path} has been created.\")\n",
    "        return path"
   ]
  },
  {
   "cell_type": "markdown",
   "metadata": {},
   "source": [
    "Now, create a function that creates the url for the request. It should take as arguments the parameters required by the API. Use the name of a country instead of the id, which we can recover from the previous function. As arguments use:\n",
    "* \"frequency\" to which we will assign the value \"A\" or \"M\" to get the data frequency\n",
    "* \"classification\" that takes the values \"HS\", \"H4\", etc. depending on the calssification that we want to use\n",
    "* \"year\" for the data reference year\n",
    "* \"reporter\" the reporter country, we will recover the id using the previous function\n",
    "* \"partner\" same as reporter but for the trading partner\n",
    "\n",
    "For the other parameters in the URL fix the following values:\n",
    "* Commodities (type=C)\n",
    "* Obtaind data on imports and exports (rg=1,2)\n",
    "* For all the classification codes within a classification (cc=all)\n",
    "* The format returned is a csv file (fmt=csv)\n",
    "\n",
    "This function should return the object of the query (like we did with \"data_1 = requests.get(url)\")"
   ]
  },
  {
   "cell_type": "markdown",
   "metadata": {},
   "source": [
    "We are including a frequency argument in the function but we will always use the annual frequency data for this exercise. If you want to get monthly data you should adjust the function in the following way:\n",
    "* If you did read the documentation of the API, you should have noticed that the format of the parameter at annual frequency is 2017, 2016, etc.\n",
    "* Instead, for the monthly frequency you have 201701, 201702, etc. the second part is the month\n",
    "* To obtain this parameter, you should add another argument (called \"month\") to the function. You will use the values 01, 02, 03, etc. for this parameter\n",
    "* In the url_year part you should concatenate the year and month arguments to get the required values, i.e. 201701.\n",
    "* The only classification available for the monthly data is \"HS\""
   ]
  },
  {
   "cell_type": "code",
   "execution_count": 10,
   "metadata": {},
   "outputs": [],
   "source": [
    "def query_constructor_C(frequency, classification, year, reporter, partner, month = \"\"):\n",
    "    url_frequency = \"http://comtrade.un.org/api/get?max=100000&type=C&freq=\" + frequency\n",
    "    url_classification = \"&px=\" + classification\n",
    "    url_year = \"&ps=\" + year + month\n",
    "    url_reporter = \"&r=\" + obtain_id(reporter)\n",
    "    url_partner = \"&p=\" + obtain_id(partner)\n",
    "    url_final = \"&rg=1,2&cc=ALL&fmt=csv&head=M\"\n",
    "    url = url_frequency + url_classification + url_year + url_reporter + url_partner + url_final\n",
    "    print(f\"The url for {classification} and trade flows between {reporter} and {partner} in {year + month} has been created. Processing request...\")\n",
    "    req = requests.get(url) \n",
    "    print(f\"The request for {classification}, {reporter}, {partner}, {year + month} has been completed. The HTTP code is: {req.status_code}\")\n",
    "    print(url)\n",
    "    return req"
   ]
  },
  {
   "cell_type": "markdown",
   "metadata": {},
   "source": [
    "First, let us try if the function is working properly. For now we will include it in a temporary function together with the folder function just to store the file. Then, we will check how to improve things."
   ]
  },
  {
   "cell_type": "code",
   "execution_count": 11,
   "metadata": {},
   "outputs": [],
   "source": [
    "def bilateral_requests(frequency, classification, year, reporter, partner, OS, month = \"\"):\n",
    "    path = folder(frequency, classification, year, reporter, OS, month = month)\n",
    "    req = query_constructor_C(frequency, classification, year, reporter, partner, month = month)\n",
    "    write(req, path, reporter, partner)\n",
    "    return req"
   ]
  },
  {
   "cell_type": "code",
   "execution_count": 12,
   "metadata": {},
   "outputs": [
    {
     "name": "stdout",
     "output_type": "stream",
     "text": [
      "The folder at C:\\Users\\Fede\\Documents\\Data Analysis\\Classes\\Session_5\\Data\\A\\H4\\2017\\France has been created.\n",
      "The country France is in the list with id 251\n",
      "The country Germany is in the list with id 276\n",
      "The url for H4 and trade flows between France and Germany in 2017 has been created. Processing request...\n",
      "The request for H4, France, Germany, 2017 has been completed. The HTTP code is: 200\n",
      "http://comtrade.un.org/api/get?max=100000&type=C&freq=A&px=H4&ps=2017&r=251&p=276&rg=1,2&cc=ALL&fmt=csv&head=M\n",
      "Writing .csv file in C:\\Users\\Fede\\Documents\\Data Analysis\\Classes\\Session_5\\Data\\A\\H4\\2017\\France\\\n",
      "File .csv saved in C:\\Users\\Fede\\Documents\\Data Analysis\\Classes\\Session_5\\Data\\A\\H4\\2017\\France\\\n",
      "The folder at C:\\Users\\Fede\\Documents\\Data Analysis\\Classes\\Session_5\\Data\\M\\HS\\201701\\France has been created.\n",
      "The country France is in the list with id 251\n",
      "The country Germany is in the list with id 276\n",
      "The url for HS and trade flows between France and Germany in 201701 has been created. Processing request...\n",
      "The request for HS, France, Germany, 201701 has been completed. The HTTP code is: 200\n",
      "http://comtrade.un.org/api/get?max=100000&type=C&freq=M&px=HS&ps=201701&r=251&p=276&rg=1,2&cc=ALL&fmt=csv&head=M\n",
      "Writing .csv file in C:\\Users\\Fede\\Documents\\Data Analysis\\Classes\\Session_5\\Data\\M\\HS\\201701\\France\\\n",
      "File .csv saved in C:\\Users\\Fede\\Documents\\Data Analysis\\Classes\\Session_5\\Data\\M\\HS\\201701\\France\\\n"
     ]
    },
    {
     "data": {
      "text/plain": [
       "<Response [200]>"
      ]
     },
     "execution_count": 12,
     "metadata": {},
     "output_type": "execute_result"
    }
   ],
   "source": [
    "# Check your folder now, this should have created the csv file\n",
    "bilateral_requests(\"A\", \"H4\", \"2017\", \"France\", \"Germany\", \"Windows\")\n",
    "# Let us try with monthly data\n",
    "bilateral_requests(\"M\", \"HS\", \"2017\", \"France\", \"Germany\", \"Windows\", month = \"01\")"
   ]
  },
  {
   "cell_type": "markdown",
   "metadata": {},
   "source": [
    "Everything should be fine for now. Instead of bilateral data, try to get trade values between France and all its trade partners."
   ]
  },
  {
   "cell_type": "code",
   "execution_count": 13,
   "metadata": {},
   "outputs": [
    {
     "name": "stdout",
     "output_type": "stream",
     "text": [
      "The folder at C:\\Users\\Fede\\Documents\\Data Analysis\\Classes\\Session_5\\Data\\A\\H4\\2017\\France has been created.\n",
      "The country France is in the list with id 251\n",
      "The country All is in the list with id all\n",
      "The url for H4 and trade flows between France and All in 2017 has been created. Processing request...\n",
      "The request for H4, France, All, 2017 has been completed. The HTTP code is: 200\n",
      "http://comtrade.un.org/api/get?max=100000&type=C&freq=A&px=H4&ps=2017&r=251&p=all&rg=1,2&cc=ALL&fmt=csv&head=M\n",
      "Writing .csv file in C:\\Users\\Fede\\Documents\\Data Analysis\\Classes\\Session_5\\Data\\A\\H4\\2017\\France\\\n",
      "File .csv saved in C:\\Users\\Fede\\Documents\\Data Analysis\\Classes\\Session_5\\Data\\A\\H4\\2017\\France\\\n"
     ]
    },
    {
     "data": {
      "text/plain": [
       "<Response [200]>"
      ]
     },
     "execution_count": 13,
     "metadata": {},
     "output_type": "execute_result"
    }
   ],
   "source": [
    "bilateral_requests(\"A\", \"H4\", \"2017\", \"France\", \"All\", \"Windows\")"
   ]
  },
  {
   "cell_type": "markdown",
   "metadata": {},
   "source": [
    "If you check the last file, you will notice that the request was successful but we did not get the data since the number of observations is above the limit. Usually, it is better to receive an error when you make the request that exceed the limit instead of a successful request code. However, this is how the UN Comtrade deisgned its API. Anyway, we can take a step back to avoid this problem. If you did check the API documentation, the UN Comtrade has a separate file to check the data availability (it returns a json with multiple informations). Let us define a couple of functions to use this data availability request."
   ]
  },
  {
   "cell_type": "code",
   "execution_count": 14,
   "metadata": {},
   "outputs": [],
   "source": [
    "def query_availability_C(frequency, classification, year, reporter, partner = \"\", month = \"\"):\n",
    "    url_frequency = \"http://comtrade.un.org/api/refs/da/view?type=C&freq=\" + frequency\n",
    "    url_classification = \"&px=\" + classification\n",
    "    url_year = \"&ps=\" + year + month\n",
    "    url_reporter = \"&r=\" + obtain_id(reporter)\n",
    "    if partner == \"\":\n",
    "        url_partner = \"&p=\"\n",
    "    elif partner != \"\":\n",
    "        url_partner = \"&p=\" + obtain_id(partner)\n",
    "    url_final = \"&rg=1,2&cc=ALL\"\n",
    "    url = url_frequency + url_classification + url_year + url_reporter + url_partner + url_final\n",
    "    print(f\"The url for {classification} and trade flows between {reporter} and {partner} in {year + month} has been created. Processing data availability file...\")\n",
    "    req = requests.get(url).json()\n",
    "    print(f\"The json for {classification}, {reporter}, {partner}, {year + month} is now available. Now it is time to unpack it.\")\n",
    "    unpacked = [(x) for entry in range(len(req)) for x in req[entry].items()]\n",
    "    print(unpacked)"
   ]
  },
  {
   "cell_type": "markdown",
   "metadata": {},
   "source": [
    "Now, start from our previous query on annual data between France and Germany."
   ]
  },
  {
   "cell_type": "code",
   "execution_count": 15,
   "metadata": {},
   "outputs": [
    {
     "name": "stdout",
     "output_type": "stream",
     "text": [
      "The country France is in the list with id 251\n",
      "The country Germany is in the list with id 276\n",
      "The url for H4 and trade flows between France and Germany in 2017 has been created. Processing data availability file...\n",
      "The json for H4, France, Germany, 2017 is now available. Now it is time to unpack it.\n",
      "[('type', 'COMMODITIES'), ('freq', 'ANNUAL'), ('px', 'H4'), ('r', '251'), ('rDesc', 'France'), ('ps', '2017'), ('TotalRecords', 684593), ('isOriginal', 0), ('publicationDate', '2018-08-24T00:00:00'), ('isPartnerDetail', 1)]\n"
     ]
    }
   ],
   "source": [
    "query_availability_C(\"A\", \"H4\", \"2017\", \"France\", partner = \"Germany\")"
   ]
  },
  {
   "cell_type": "markdown",
   "metadata": {},
   "source": [
    "As you can see, the data availabilty json is good if you have problems for observations between a reporter country and all its trade partners, while it is useless to solve the observation problem should it arise for bilateral flows (it should not since UN Comtrade increase the max size of the request). We did include a partner paramater but the request ignored it since it is not a paramenter of the data availability query. The request sent us the number of observations for all trade flows (including re-exports and re-imports) between the reporter country and all trade partners."
   ]
  },
  {
   "cell_type": "markdown",
   "metadata": {},
   "source": [
    "Let us check the availability for the monthly data just for fun"
   ]
  },
  {
   "cell_type": "code",
   "execution_count": 16,
   "metadata": {},
   "outputs": [
    {
     "name": "stdout",
     "output_type": "stream",
     "text": [
      "The country France is in the list with id 251\n",
      "The country All is in the list with id all\n",
      "The url for HS and trade flows between France and All in 201701 has been created. Processing data availability file...\n",
      "The json for HS, France, All, 201701 is now available. Now it is time to unpack it.\n",
      "[('type', 'COMMODITIES'), ('freq', 'MONTHLY'), ('px', 'HS'), ('r', '251'), ('rDesc', 'France'), ('ps', '201701'), ('TotalRecords', 373901), ('isOriginal', 1), ('publicationDate', '2018-08-22T00:00:00'), ('isPartnerDetail', 1)]\n"
     ]
    }
   ],
   "source": [
    "query_availability_C(\"M\", \"HS\", \"2017\", \"France\", partner = \"All\", month = \"01\")"
   ]
  },
  {
   "cell_type": "markdown",
   "metadata": {},
   "source": [
    "Same problem as before, we only get aggregate observations for France."
   ]
  },
  {
   "cell_type": "markdown",
   "metadata": {},
   "source": [
    "Clean the Data folder by deleting the csv files. We could also write down a function to do that. You can do that as an exercise, you will need to look at some of the functions in the os library."
   ]
  },
  {
   "cell_type": "code",
   "execution_count": 17,
   "metadata": {},
   "outputs": [],
   "source": [
    "# For Windows\n",
    "os.remove(os.getcwd() + \"\\\\Data\\\\A\\\\H4\\\\2017\\\\France\\\\France_Germany.csv\")\n",
    "os.remove(os.getcwd() + \"\\\\Data\\\\A\\\\H4\\\\2017\\\\France\\\\France_All.csv\")\n",
    "os.remove(os.getcwd() + \"\\\\Data\\\\M\\\\HS\\\\201701\\\\France\\\\France_Germany.csv\")\n",
    "\n",
    "# For MacOS\n",
    "# os.remove(os.getcwd() + \"/Data/A/H4/2017/France/France_Germany.csv\")\n",
    "# os.remove(os.getcwd() + \"/Data/A/H4/2017/France/France_All.csv\")\n",
    "# os.remove(os.getcwd() + \"/Data/M/HS/201701/France/France_Germany.csv\")"
   ]
  },
  {
   "cell_type": "markdown",
   "metadata": {},
   "source": [
    "We will look at some of the problems that you might have using the UN Comtrade API without a license below. First, we will create a for loop to make requests for bilateral data."
   ]
  },
  {
   "cell_type": "code",
   "execution_count": 18,
   "metadata": {},
   "outputs": [],
   "source": [
    "# We might include an elif to avoid the request for the \"All\" partner, but we do not know if, at least for some reporter country (maybe small countries) it works because there are less observations\n",
    "def reporter_requests(frequency, classification, year, reporter, OS, month = \"\"):\n",
    "    index = 0\n",
    "    for x in range(len(unpacked_values)):\n",
    "        if reporter == unpacked_values[x][1]:\n",
    "            continue\n",
    "        else:\n",
    "            req = bilateral_requests(frequency, classification, year, reporter, unpacked_values[x][1], OS, month = month)\n",
    "            index += 1\n",
    "            if req.status_code != 200:\n",
    "                print(f\"The request was not successful for {frequency}, {classification}, {year + month}, {reporter}, {unpacked_values[x][1]}\")\n",
    "                break\n",
    "            elif index == 4:\n",
    "                print(f\"Since this is only an example, we stop at the index {index} since you might not want to download all the bilateral data for {reporter} in {year + month}\")\n",
    "                break"
   ]
  },
  {
   "cell_type": "code",
   "execution_count": 19,
   "metadata": {},
   "outputs": [
    {
     "name": "stdout",
     "output_type": "stream",
     "text": [
      "The folder at C:\\Users\\Fede\\Documents\\Data Analysis\\Classes\\Session_5\\Data\\A\\H4\\2017\\France has been created.\n",
      "The country France is in the list with id 251\n",
      "The country All is in the list with id all\n",
      "The url for H4 and trade flows between France and All in 2017 has been created. Processing request...\n",
      "The request for H4, France, All, 2017 has been completed. The HTTP code is: 200\n",
      "http://comtrade.un.org/api/get?max=100000&type=C&freq=A&px=H4&ps=2017&r=251&p=all&rg=1,2&cc=ALL&fmt=csv&head=M\n",
      "Writing .csv file in C:\\Users\\Fede\\Documents\\Data Analysis\\Classes\\Session_5\\Data\\A\\H4\\2017\\France\\\n",
      "File .csv saved in C:\\Users\\Fede\\Documents\\Data Analysis\\Classes\\Session_5\\Data\\A\\H4\\2017\\France\\\n",
      "The folder at C:\\Users\\Fede\\Documents\\Data Analysis\\Classes\\Session_5\\Data\\A\\H4\\2017\\France has been created.\n",
      "The country France is in the list with id 251\n",
      "The country Afghanistan is in the list with id 4\n",
      "The url for H4 and trade flows between France and Afghanistan in 2017 has been created. Processing request...\n",
      "The request for H4, France, Afghanistan, 2017 has been completed. The HTTP code is: 200\n",
      "http://comtrade.un.org/api/get?max=100000&type=C&freq=A&px=H4&ps=2017&r=251&p=4&rg=1,2&cc=ALL&fmt=csv&head=M\n",
      "Writing .csv file in C:\\Users\\Fede\\Documents\\Data Analysis\\Classes\\Session_5\\Data\\A\\H4\\2017\\France\\\n",
      "File .csv saved in C:\\Users\\Fede\\Documents\\Data Analysis\\Classes\\Session_5\\Data\\A\\H4\\2017\\France\\\n",
      "The folder at C:\\Users\\Fede\\Documents\\Data Analysis\\Classes\\Session_5\\Data\\A\\H4\\2017\\France has been created.\n",
      "The country France is in the list with id 251\n",
      "The country Albania is in the list with id 8\n",
      "The url for H4 and trade flows between France and Albania in 2017 has been created. Processing request...\n",
      "The request for H4, France, Albania, 2017 has been completed. The HTTP code is: 200\n",
      "http://comtrade.un.org/api/get?max=100000&type=C&freq=A&px=H4&ps=2017&r=251&p=8&rg=1,2&cc=ALL&fmt=csv&head=M\n",
      "Writing .csv file in C:\\Users\\Fede\\Documents\\Data Analysis\\Classes\\Session_5\\Data\\A\\H4\\2017\\France\\\n",
      "File .csv saved in C:\\Users\\Fede\\Documents\\Data Analysis\\Classes\\Session_5\\Data\\A\\H4\\2017\\France\\\n",
      "The folder at C:\\Users\\Fede\\Documents\\Data Analysis\\Classes\\Session_5\\Data\\A\\H4\\2017\\France has been created.\n",
      "The country France is in the list with id 251\n",
      "The country Algeria is in the list with id 12\n",
      "The url for H4 and trade flows between France and Algeria in 2017 has been created. Processing request...\n",
      "The request for H4, France, Algeria, 2017 has been completed. The HTTP code is: 200\n",
      "http://comtrade.un.org/api/get?max=100000&type=C&freq=A&px=H4&ps=2017&r=251&p=12&rg=1,2&cc=ALL&fmt=csv&head=M\n",
      "Writing .csv file in C:\\Users\\Fede\\Documents\\Data Analysis\\Classes\\Session_5\\Data\\A\\H4\\2017\\France\\\n",
      "File .csv saved in C:\\Users\\Fede\\Documents\\Data Analysis\\Classes\\Session_5\\Data\\A\\H4\\2017\\France\\\n",
      "Since this is only an example, we stop at the index 4 since you might not want to download all the bilateral data for France in 2017\n"
     ]
    }
   ],
   "source": [
    "reporter_requests(\"A\", \"H4\", \"2017\", \"France\", \"Windows\")"
   ]
  },
  {
   "cell_type": "markdown",
   "metadata": {},
   "source": [
    "Now, let us mention a couple of problems that you might find using the UN Comtrade API:\n",
    "1. If you got an error at some point the loop will break. There are a couple of possible explanation for this:\n",
    " * We know that the request for the parameters above is well defined (meaning that the data are available, believe me on this). However, as we have seen before, they might exceed the number of observations available to free users. We have seen that this still return an HTTP code equal to 200, so it does not break the loop (more on this below). More on how to deal with large number of observations below.\n",
    " * Most likely, the problem is that free users can send 1 request per second. Since the files for the bilateral data are quite small, the loop might cycle requests really fast. In that case, you should get an HTTP code different from 200, breaking the loop. To avoid this, we can just import the time library and include a time.sleep(1) inside the loop.\n",
    " * You exceed the number of requests (100) that free users can make to the API in a 60 minutes window. To keep track of this, we can add an index = 0 at the beginning of the function, and increase it by 1 with each iteration of the for loop. Then, just add an if statement that, when the index is close to 100, uses time.sleep() for a sufficient number of minutes to reset the counter. Inside the function, after the time.sleep(), you can reset the index and go back to the iterations of the loop. Otherwise, instead of the counter, you can use exception handling to tell the code to sleep once the API returns the error (using an HTTP code) associated to the user request limit. When you hit the limit you receive a 409 HTTP code, which would stop the code, and the first row of the last file donwloaded will tell you why you received the error and, if the error was cause by the requests limit per hour, the time in which you can get back to sending requests. You could import in Python the first row from that file to extract, using regular expressions, the time to resume the requests, and use it to restart the loop creating the requests. We will not provide the code to do that here since we already cover a lot of topics in this session.  \n",
    "2. The loop stops after you have already completed a certain amount of iterations. This might happen for multiple reasons such as a loss of internet connection which leads to an error when you try to make the request or you simply interrupt the code by hand to close the notebook. In that case, you do not want to download again files that you have already stored in your folder, since it will burn your number of available requests per hour. Below we address this problem using a function that tells you whether a file is already stored in your folder and, in that case, does not submit a request since you already have the file. Below we do not provide the code to deal handle the exception from the loss of internet connection during a request. Try to write it without our help!"
   ]
  },
  {
   "cell_type": "markdown",
   "metadata": {},
   "source": [
    "Below the function to check the existing files in your folder."
   ]
  },
  {
   "cell_type": "code",
   "execution_count": 20,
   "metadata": {},
   "outputs": [],
   "source": [
    "def check_existence(frequency, classification, year, reporter, partner, OS, month = \"\"):\n",
    "    if OS == \"Windows\":\n",
    "        try:\n",
    "            if reporter + \"_\" + partner + \".csv\" in os.listdir(os.getcwd() + \"\\\\Data\\\\\" + frequency + \"\\\\\" + classification + \"\\\\\" + year + month + \"\\\\\" + reporter):\n",
    "                print (f\"File {reporter}_{partner}.csv already exists, skip to next iteration.\")\n",
    "                return True\n",
    "        except FileNotFoundError:\n",
    "                print (f\"The folder does not exist, implying that the file {reporter}_{partner}.csv does not exist, continue with this iteration.\")\n",
    "    elif OS == \"MacOS\":\n",
    "        try:\n",
    "            if reporter + \"_\" + partner + \".csv\" in os.listdir(os.getcwd() + \"/Data/\" + frequency + \"/\" + classification + \"/\" + year + month + \"/\" + reporter):\n",
    "                print (f\"File {reporter}_{partner}.csv already exists, skip to next iteration.\")\n",
    "                return True\n",
    "        except FileNotFoundError:\n",
    "                print (f\"The folder does not exist, implying that the file {reporter}_{partner}.csv does not exist, continue with this iteration.\")"
   ]
  },
  {
   "cell_type": "markdown",
   "metadata": {},
   "source": [
    "Slightly modify the reporter_requests function defined above to include this"
   ]
  },
  {
   "cell_type": "code",
   "execution_count": 21,
   "metadata": {},
   "outputs": [],
   "source": [
    "def reporter_requests_v2(frequency, classification, year, reporter, OS, month = \"\"):\n",
    "    index = 0\n",
    "    for x in range(len(unpacked_values)):\n",
    "        if reporter == unpacked_values[x][1]:\n",
    "            continue\n",
    "        else:\n",
    "            existence = check_existence(frequency, classification, year, reporter, unpacked_values[x][1], OS, month = month)\n",
    "            if existence:\n",
    "                continue\n",
    "            else:\n",
    "                req = bilateral_requests(frequency, classification, year, reporter, unpacked_values[x][1], OS, month = month)\n",
    "                index += 1\n",
    "                if req.status_code != 200:\n",
    "                    print(f\"The request was not successful for {frequency}, {classification}, {year + month}, {reporter}, {unpacked_values[x][1]}\")\n",
    "                    break\n",
    "                elif index == 4:\n",
    "                    print(f\"Since this is only an example, we stop at the index {index} since you might not want to download all the bilateral data for {reporter} in {year + month}\")\n",
    "                    break"
   ]
  },
  {
   "cell_type": "code",
   "execution_count": 22,
   "metadata": {},
   "outputs": [
    {
     "name": "stdout",
     "output_type": "stream",
     "text": [
      "The folder does not exist, implying that the file France_All.csv does not exist, continue with this iteration.\n",
      "The folder at C:\\Users\\Fede\\Documents\\Data Analysis\\Classes\\Session_5\\Data\\A\\H4\\2016\\France has been created.\n",
      "The country France is in the list with id 251\n",
      "The country All is in the list with id all\n",
      "The url for H4 and trade flows between France and All in 2016 has been created. Processing request...\n",
      "The request for H4, France, All, 2016 has been completed. The HTTP code is: 200\n",
      "http://comtrade.un.org/api/get?max=100000&type=C&freq=A&px=H4&ps=2016&r=251&p=all&rg=1,2&cc=ALL&fmt=csv&head=M\n",
      "Writing .csv file in C:\\Users\\Fede\\Documents\\Data Analysis\\Classes\\Session_5\\Data\\A\\H4\\2016\\France\\\n",
      "File .csv saved in C:\\Users\\Fede\\Documents\\Data Analysis\\Classes\\Session_5\\Data\\A\\H4\\2016\\France\\\n",
      "The folder at C:\\Users\\Fede\\Documents\\Data Analysis\\Classes\\Session_5\\Data\\A\\H4\\2016\\France has been created.\n",
      "The country France is in the list with id 251\n",
      "The country Afghanistan is in the list with id 4\n",
      "The url for H4 and trade flows between France and Afghanistan in 2016 has been created. Processing request...\n",
      "The request for H4, France, Afghanistan, 2016 has been completed. The HTTP code is: 200\n",
      "http://comtrade.un.org/api/get?max=100000&type=C&freq=A&px=H4&ps=2016&r=251&p=4&rg=1,2&cc=ALL&fmt=csv&head=M\n",
      "Writing .csv file in C:\\Users\\Fede\\Documents\\Data Analysis\\Classes\\Session_5\\Data\\A\\H4\\2016\\France\\\n",
      "File .csv saved in C:\\Users\\Fede\\Documents\\Data Analysis\\Classes\\Session_5\\Data\\A\\H4\\2016\\France\\\n",
      "The folder at C:\\Users\\Fede\\Documents\\Data Analysis\\Classes\\Session_5\\Data\\A\\H4\\2016\\France has been created.\n",
      "The country France is in the list with id 251\n",
      "The country Albania is in the list with id 8\n",
      "The url for H4 and trade flows between France and Albania in 2016 has been created. Processing request...\n",
      "The request for H4, France, Albania, 2016 has been completed. The HTTP code is: 200\n",
      "http://comtrade.un.org/api/get?max=100000&type=C&freq=A&px=H4&ps=2016&r=251&p=8&rg=1,2&cc=ALL&fmt=csv&head=M\n",
      "Writing .csv file in C:\\Users\\Fede\\Documents\\Data Analysis\\Classes\\Session_5\\Data\\A\\H4\\2016\\France\\\n",
      "File .csv saved in C:\\Users\\Fede\\Documents\\Data Analysis\\Classes\\Session_5\\Data\\A\\H4\\2016\\France\\\n",
      "The folder at C:\\Users\\Fede\\Documents\\Data Analysis\\Classes\\Session_5\\Data\\A\\H4\\2016\\France has been created.\n",
      "The country France is in the list with id 251\n",
      "The country Algeria is in the list with id 12\n",
      "The url for H4 and trade flows between France and Algeria in 2016 has been created. Processing request...\n",
      "The request for H4, France, Algeria, 2016 has been completed. The HTTP code is: 200\n",
      "http://comtrade.un.org/api/get?max=100000&type=C&freq=A&px=H4&ps=2016&r=251&p=12&rg=1,2&cc=ALL&fmt=csv&head=M\n",
      "Writing .csv file in C:\\Users\\Fede\\Documents\\Data Analysis\\Classes\\Session_5\\Data\\A\\H4\\2016\\France\\\n",
      "File .csv saved in C:\\Users\\Fede\\Documents\\Data Analysis\\Classes\\Session_5\\Data\\A\\H4\\2016\\France\\\n",
      "Since this is only an example, we stop at the index 4 since you might not want to download all the bilateral data for France in 2016\n"
     ]
    }
   ],
   "source": [
    "reporter_requests_v2(\"A\", \"H4\", \"2016\", \"France\", \"Windows\")"
   ]
  },
  {
   "cell_type": "markdown",
   "metadata": {},
   "source": [
    "To see another problem with the API, let us make a request for data that are not in the database (the H4 classification is from 2012, so there are no data using this classification in 1992)."
   ]
  },
  {
   "cell_type": "code",
   "execution_count": 23,
   "metadata": {},
   "outputs": [
    {
     "name": "stdout",
     "output_type": "stream",
     "text": [
      "The folder does not exist, implying that the file France_All.csv does not exist, continue with this iteration.\n",
      "The folder at C:\\Users\\Fede\\Documents\\Data Analysis\\Classes\\Session_5\\Data\\A\\H4\\1992\\France has been created.\n",
      "The country France is in the list with id 251\n",
      "The country All is in the list with id all\n",
      "The url for H4 and trade flows between France and All in 1992 has been created. Processing request...\n",
      "The request for H4, France, All, 1992 has been completed. The HTTP code is: 200\n",
      "http://comtrade.un.org/api/get?max=100000&type=C&freq=A&px=H4&ps=1992&r=251&p=all&rg=1,2&cc=ALL&fmt=csv&head=M\n",
      "Writing .csv file in C:\\Users\\Fede\\Documents\\Data Analysis\\Classes\\Session_5\\Data\\A\\H4\\1992\\France\\\n",
      "File .csv saved in C:\\Users\\Fede\\Documents\\Data Analysis\\Classes\\Session_5\\Data\\A\\H4\\1992\\France\\\n",
      "The folder at C:\\Users\\Fede\\Documents\\Data Analysis\\Classes\\Session_5\\Data\\A\\H4\\1992\\France has been created.\n",
      "The country France is in the list with id 251\n",
      "The country Afghanistan is in the list with id 4\n",
      "The url for H4 and trade flows between France and Afghanistan in 1992 has been created. Processing request...\n",
      "The request for H4, France, Afghanistan, 1992 has been completed. The HTTP code is: 200\n",
      "http://comtrade.un.org/api/get?max=100000&type=C&freq=A&px=H4&ps=1992&r=251&p=4&rg=1,2&cc=ALL&fmt=csv&head=M\n",
      "Writing .csv file in C:\\Users\\Fede\\Documents\\Data Analysis\\Classes\\Session_5\\Data\\A\\H4\\1992\\France\\\n",
      "File .csv saved in C:\\Users\\Fede\\Documents\\Data Analysis\\Classes\\Session_5\\Data\\A\\H4\\1992\\France\\\n",
      "The folder at C:\\Users\\Fede\\Documents\\Data Analysis\\Classes\\Session_5\\Data\\A\\H4\\1992\\France has been created.\n",
      "The country France is in the list with id 251\n",
      "The country Albania is in the list with id 8\n",
      "The url for H4 and trade flows between France and Albania in 1992 has been created. Processing request...\n",
      "The request for H4, France, Albania, 1992 has been completed. The HTTP code is: 200\n",
      "http://comtrade.un.org/api/get?max=100000&type=C&freq=A&px=H4&ps=1992&r=251&p=8&rg=1,2&cc=ALL&fmt=csv&head=M\n",
      "Writing .csv file in C:\\Users\\Fede\\Documents\\Data Analysis\\Classes\\Session_5\\Data\\A\\H4\\1992\\France\\\n",
      "File .csv saved in C:\\Users\\Fede\\Documents\\Data Analysis\\Classes\\Session_5\\Data\\A\\H4\\1992\\France\\\n",
      "The folder at C:\\Users\\Fede\\Documents\\Data Analysis\\Classes\\Session_5\\Data\\A\\H4\\1992\\France has been created.\n",
      "The country France is in the list with id 251\n",
      "The country Algeria is in the list with id 12\n",
      "The url for H4 and trade flows between France and Algeria in 1992 has been created. Processing request...\n",
      "The request for H4, France, Algeria, 1992 has been completed. The HTTP code is: 200\n",
      "http://comtrade.un.org/api/get?max=100000&type=C&freq=A&px=H4&ps=1992&r=251&p=12&rg=1,2&cc=ALL&fmt=csv&head=M\n",
      "Writing .csv file in C:\\Users\\Fede\\Documents\\Data Analysis\\Classes\\Session_5\\Data\\A\\H4\\1992\\France\\\n",
      "File .csv saved in C:\\Users\\Fede\\Documents\\Data Analysis\\Classes\\Session_5\\Data\\A\\H4\\1992\\France\\\n",
      "Since this is only an example, we stop at the index 4 since you might not want to download all the bilateral data for France in 1992\n"
     ]
    }
   ],
   "source": [
    "reporter_requests_v2(\"A\", \"H4\", \"1992\", \"France\", \"Windows\")"
   ]
  },
  {
   "cell_type": "markdown",
   "metadata": {},
   "source": [
    "If you try to open one of the .csv file downloaded, you will notice that the request was successful but the first entry of the downloaded file tells you that the data are not available for that query."
   ]
  },
  {
   "cell_type": "markdown",
   "metadata": {},
   "source": [
    "Check what we get from the data availability request if we use this classification and year"
   ]
  },
  {
   "cell_type": "code",
   "execution_count": 24,
   "metadata": {},
   "outputs": [
    {
     "name": "stdout",
     "output_type": "stream",
     "text": [
      "The country France is in the list with id 251\n",
      "The url for H4 and trade flows between France and  in 1992 has been created. Processing data availability file...\n",
      "The json for H4, France, , 1992 is now available. Now it is time to unpack it.\n",
      "[]\n"
     ]
    }
   ],
   "source": [
    "query_availability_C(\"A\", \"H4\", \"1992\", \"France\")"
   ]
  },
  {
   "cell_type": "markdown",
   "metadata": {},
   "source": [
    "It is empty, meaning that the data are not available for this combination of parameter. Let us discuss the problems of the current code and possible solutions. You can improve the code to include those solutions as an exercise."
   ]
  },
  {
   "cell_type": "markdown",
   "metadata": {},
   "source": [
    "# Exceeding number of observations"
   ]
  },
  {
   "cell_type": "markdown",
   "metadata": {},
   "source": [
    "We have seen that the query for the data availability does not really help to adrress this problem. We have also noticed that the request is successful but we get a file that in the first entry says \"Result too large: you do not have permissions to access such a large resultset.\".\n",
    "1. Remember that our query asks for imports and exports at the same time. You can rewrite the functions to include trade_flows as argument (adjust also the functions to construct folders, etc. obvisouly). In this way, you reduce the number of observations per file, but increase the number of requests you have to make.\n",
    "2. Include in our main function another function that opens each file that we download to read the first entry. If we get the string \"Results too large etc.\" we can then sae the parameters of this query to a list so that we know which query had the observations problem. Then, we will have to break down those query to find a request with fewer observations. For example, instead of downloading all the commodity codes at once, we split them up (look at the \"cc=\" parameters on the API documentation). Otherwise, split the trade flows as suggested in 1."
   ]
  },
  {
   "cell_type": "markdown",
   "metadata": {},
   "source": [
    "# More than 1 request per second"
   ]
  },
  {
   "cell_type": "markdown",
   "metadata": {},
   "source": [
    "The rate limit should return a 409 error (according to the documentation). This is the same code returned once you exceed 100 requests per hour (again, according to the documentation).\n",
    "1. To avoid the more than 1 request per second problem you just need to include a time.sleep(1) between iterations of the requests. \n",
    "2. Even if you have this problem, it is possible that the UN Comtrade will download a .csv file containing the error as first entry. As for the observations problem, you can just open the file and check the first entry to see if there is a problem. Then, just tell the loop to submit the query again if that was the problem listed in the file"
   ]
  },
  {
   "cell_type": "markdown",
   "metadata": {},
   "source": [
    "# Usage limit, more than 100 requests per hour"
   ]
  },
  {
   "cell_type": "markdown",
   "metadata": {},
   "source": [
    "As mentioned above, this should get a 409 status code, so you can deal with it using exception handling and time.sleep(). As for the previous problems, you might get a file that in the first entry report the error, including the time at which you can start submitting requests again. You can extract that and tell Python to restart the requests at that time. Otherwise, just include an index to keep track of how many requests you have made, to stop before the limit, and to tell the code to sleep."
   ]
  },
  {
   "cell_type": "markdown",
   "metadata": {},
   "source": [
    "# Data not available"
   ]
  },
  {
   "cell_type": "markdown",
   "metadata": {},
   "source": [
    "For this problem you can again use the first entry of the file downloaded, which will tell you that there is a problem of availability with the data. Otherwise, include at the start of the function the query for the avaialbility of the data. If the json from that query is an empty list you know that the data are not available, so you can avoid making that request for the data to the API. The latter approach is better since it should not burn your number of requests per hour (the request for the data availability probably is not included in the usage limit)"
   ]
  },
  {
   "cell_type": "markdown",
   "metadata": {},
   "source": [
    "# Folder management"
   ]
  },
  {
   "cell_type": "markdown",
   "metadata": {},
   "source": [
    "There are things that you can do to improve folder management of the data downloaded while keeping track of the requests made. You should add a function that deletes the file reporting errors (without data) after you open them to get information about the error contained and the parameter used for that request. In this way you can keep track of the paramaters for which you do not have data due to errors. You should also store these information somewhere since they might be useful at some point.\n",
    "\n",
    "If you want to update your data files over time you can create a function that looks at the creation time of your .csv files and delete them if they are older than your desired threshold. Then, you can download them again. Whether this is useful or not depends on how often UN Comtrade revises old data. For example, they might never change the content of files for trade flows between countries in 1973. In that case, deleting the old file and downloading it again is useless since there are no changes to the data. Instead, they might update trade flows data for the last 2-3 years, so you might want to update the files associated to this time window."
   ]
  }
 ],
 "metadata": {
  "kernelspec": {
   "display_name": "Python 3",
   "language": "python",
   "name": "python3"
  },
  "language_info": {
   "codemirror_mode": {
    "name": "ipython",
    "version": 3
   },
   "file_extension": ".py",
   "mimetype": "text/x-python",
   "name": "python",
   "nbconvert_exporter": "python",
   "pygments_lexer": "ipython3",
   "version": "3.7.6"
  }
 },
 "nbformat": 4,
 "nbformat_minor": 4
}
