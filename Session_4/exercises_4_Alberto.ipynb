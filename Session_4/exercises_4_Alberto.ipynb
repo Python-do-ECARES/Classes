{
 "cells": [
  {
   "cell_type": "markdown",
   "metadata": {},
   "source": [
    "# It gets loopy"
   ]
  },
  {
   "cell_type": "markdown",
   "metadata": {},
   "source": [
    "In this notebook, we will work with stock prices. I'll get you started by writing some code that go and fetch the last quotes of a few American stocks. We will then write loops and functions to do two things:\n",
    "\n",
    "1. Evaluate the performance of an investing strategy on past data\n",
    "2. Infer the possible performance of the same strategy on short-run future data"
   ]
  },
  {
   "cell_type": "markdown",
   "metadata": {},
   "source": [
    "## Setup"
   ]
  },
  {
   "cell_type": "markdown",
   "metadata": {},
   "source": [
    "We start by importing the quotes. It is not crucial to understand the code here below as we will see what a call to an API is during a future session. It works broadly like this: we call a server that sends us back a kind of nested dictionaries and lists that contain the quotes and date of those quotes for the 5 largest tech firms (that are sometimes referred to as GAFAM)."
   ]
  },
  {
   "cell_type": "code",
   "execution_count": 2,
   "metadata": {
    "collapsed": false,
    "jupyter": {
     "outputs_hidden": false
    }
   },
   "outputs": [],
   "source": [
    "from requests import get \n",
    "stock_quotes = {}\n",
    "# defines an empty dictionary/set\n",
    "\n",
    "tickers = {\"GOOG\" : \"Google\", \"AAPL\" : \"Apple\", \"FB\": \"Facebook\", \"AMZN\" : \"Amazon\", \"MSFT\": \"Microsoft\"}\n",
    "# defines a dictionary including Tickers and Stock Names\n",
    "\n",
    "for ticker in tickers: # for each key in the dictionary\n",
    "    \n",
    "    prices_and_dates = {} # create an empty set named prices_and_dates for each key of the dictionary\n",
    "    \n",
    "    query = \"https://financialmodelingprep.com/api/v3/historical-price-full/\"+ticker+\"?serietype=line\"\n",
    "    # defines the url from which we'll get the data\n",
    "    \n",
    "    histoire_des_prix = get(query).json()[\"historical\"]\n",
    "    # this query downloads a dataset including quotes and dates\n",
    "    # json is the format of the data\n",
    "    \n",
    "    prices_and_dates[\"quotes\"] = [cours[\"close\"] for cours in histoire_des_prix[-31:]]\n",
    "    prices_and_dates[\"dates\"] = [cours[\"date\"] for cours in histoire_des_prix[-31:]]\n",
    "    # these two commands store the quotes (end of the day) and dates of the last 30 days for the aforementioned stocks\n",
    "    \n",
    "    stock_quotes[ticker] = prices_and_dates\n",
    "    # stores the downloaded data into the previously defined set"
   ]
  },
  {
   "cell_type": "markdown",
   "metadata": {},
   "source": [
    "Run the cell above: it will run for some time and then ends without showing anything. In fact, it loads a peculiar data structure in the memory of your computer. The structure consists in prices and dates contained inside a dictionary which is itself contained in a dictionary. It is kind of a lousy structure so far but we will see in next sessions (the pandas one) how to make it easier. For now, we have to rely on this awkward structure. Here are some example of how to use it."
   ]
  },
  {
   "cell_type": "code",
   "execution_count": 3,
   "metadata": {
    "collapsed": false,
    "jupyter": {
     "outputs_hidden": false
    }
   },
   "outputs": [
    {
     "name": "stdout",
     "output_type": "stream",
     "text": [
      "[1451.7, 1480.39, 1484.4, 1485.95, 1486.65, 1466.71, 1433.9, 1452.56, 1458.63, 1455.84, 1434.23, 1485.94, 1447.07, 1448.23, 1476.23, 1479.23, 1508.68, 1508.79, 1518.27, 1514.66, 1520.74, 1519.67, 1526.69, 1518.15, 1485.11, 1421.59, 1388.45, 1393.18, 1318.09, 1339.33, 1389.11]\n",
      "[1, 2, 3, 4, 5, 6, 7, 8, 9, 10, 11, 12, 13, 14, 15, 16, 17, 18, 19, 20, 21, 22, 23, 24, 25, 26, 27, 28, 29, 30, 31]\n"
     ]
    }
   ],
   "source": [
    "# Show all prices for Google\n",
    "y=stock_quotes[\"GOOG\"][\"quotes\"]\n",
    "print(y)\n",
    "x = list(range(1,len(y)+1))\n",
    "print(x)"
   ]
  },
  {
   "cell_type": "code",
   "execution_count": 4,
   "metadata": {},
   "outputs": [
    {
     "data": {
      "text/plain": [
       "<Figure size 640x480 with 1 Axes>"
      ]
     },
     "metadata": {},
     "output_type": "display_data"
    }
   ],
   "source": [
    "import matplotlib.pyplot as plt # you need to install the visualization package pyplot to do this\n",
    "\n",
    "plt.plot(x, y)\n",
    "plt.show()"
   ]
  },
  {
   "cell_type": "code",
   "execution_count": 5,
   "metadata": {
    "collapsed": false,
    "jupyter": {
     "outputs_hidden": false
    }
   },
   "outputs": [
    {
     "name": "stdout",
     "output_type": "stream",
     "text": [
      "298.81\n"
     ]
    }
   ],
   "source": [
    "# Show the price of the Apple closing quote yesterday\n",
    "print(stock_quotes[\"AAPL\"][\"quotes\"][-1])"
   ]
  },
  {
   "cell_type": "code",
   "execution_count": 6,
   "metadata": {
    "collapsed": false,
    "jupyter": {
     "outputs_hidden": false
    }
   },
   "outputs": [
    {
     "name": "stdout",
     "output_type": "stream",
     "text": [
      "2020-01-21\n"
     ]
    }
   ],
   "source": [
    "# What is the date of the third quote for the Microsoft data?\n",
    "print(stock_quotes[\"MSFT\"][\"dates\"][2])"
   ]
  },
  {
   "cell_type": "markdown",
   "metadata": {},
   "source": [
    "## Let's work"
   ]
  },
  {
   "cell_type": "markdown",
   "metadata": {},
   "source": [
    "OK, enough playing around! Now is your turn: Let's start by stretching our programming muscles. I'll write a line that will create a new variable called *quotes_amazon* and that is a list that contains the quotes of Amazon (in dollars) for all the data we have.\n",
    "\n",
    "Your job is to create a new list, called *quotes_amazon_euro* in which you will store the quotes but in Euros (for this exercise, it is enough to consider that converting to Euros just means multiplying by *0.9* - please applied trade economists, don't crucify me for this approximation)."
   ]
  },
  {
   "cell_type": "code",
   "execution_count": 7,
   "metadata": {
    "collapsed": false,
    "jupyter": {
     "outputs_hidden": false
    }
   },
   "outputs": [
    {
     "name": "stdout",
     "output_type": "stream",
     "text": [
      "[1877.94, 1864.72, 1892.0, 1887.46, 1884.58, 1861.64, 1828.34, 1853.25, 1858.0, 1870.68, 2008.72, 2004.2, 2049.67, 2039.87, 2050.23, 2079.28, 2133.91, 2150.8, 2160.0, 2149.87, 2134.87, 2155.67, 2170.22, 2153.1, 2095.97, 2009.29, 1972.74, 1979.59, 1884.3, 1883.75, 1953.95]\n",
      "[1690.15, 1678.25, 1702.8, 1698.71, 1696.12, 1675.48, 1645.51, 1667.92, 1672.2, 1683.61, 1807.85, 1803.78, 1844.7, 1835.88, 1845.21, 1871.35, 1920.52, 1935.72, 1944.0, 1934.88, 1921.38, 1940.1, 1953.2, 1937.79, 1886.37, 1808.36, 1775.47, 1781.63, 1695.87, 1695.38, 1758.56]\n",
      "[1690.15, 1678.25, 1702.8, 1698.71, 1696.12, 1675.48, 1645.51, 1667.92, 1672.2, 1683.61, 1807.85, 1803.78, 1844.7, 1835.88, 1845.21, 1871.35, 1920.52, 1935.72, 1944.0, 1934.88, 1921.38, 1940.1, 1953.2, 1937.79, 1886.37, 1808.36, 1775.47, 1781.63, 1695.87, 1695.38, 1758.56]\n"
     ]
    }
   ],
   "source": [
    "quotes_amazon = stock_quotes[\"AMZN\"][\"quotes\"]\n",
    "print(quotes_amazon)\n",
    "\n",
    "# we can use what we learnt in the previous session, with for loops:\n",
    "quotes_amazon_euro1=[]\n",
    "for i in quotes_amazon:\n",
    "    quotes_amazon_euro1.append(round(i*0.9,2))\n",
    "    \n",
    "print(quotes_amazon_euro1)\n",
    "\n",
    "# or we can use the for inside the list:\n",
    "quotes_amazon_euro2=[round(quote*0.9,2) for quote in quotes_amazon]\n",
    "print(quotes_amazon_euro2)\n"
   ]
  },
  {
   "cell_type": "markdown",
   "metadata": {},
   "source": [
    "Done? Good! Now for a harder problem: We will create a function that will compute the mean of any list that is passed (provided it contains integers or floats, of course). The function will work broadly like this: You initialize a counter at 0, you loop over the list and, at each iteration, you add the value at that position to the counter. Once the loop is over, you divide this by the length of the list to obtain the average.\n",
    "\n",
    "Oddly enough, Python doesn't ship with a built-in mean function (it was not initially a scientific computing language). Implementing it is therefore needed to perform the next steps (in future session, we will see some libraries, the most important being Numpy, that provide implementation of means functions.\n",
    "\n",
    "Implement your function, call it my_mean and then see if it works on the list containing the prices of the Facebook stock (that will be stored in the variable *facebook_quotes*.\n",
    "\n",
    "*Don't forget that you must produce a **function**, it will be important because we will use it in the next part!*"
   ]
  },
  {
   "cell_type": "code",
   "execution_count": 8,
   "metadata": {
    "collapsed": false,
    "jupyter": {
     "outputs_hidden": false
    }
   },
   "outputs": [
    {
     "name": "stdout",
     "output_type": "stream",
     "text": [
      "Your function should produce the following result (plus ou minus numerical error):\t 210.6690322580645\n",
      "This is my Facebook mean computed via the loop: 210.66903225806453\n",
      "This is my Facebook mean computed via the inline fct: 210.66903225806453\n",
      "Bravo!\n"
     ]
    }
   ],
   "source": [
    "import numpy as np\n",
    "facebook_quotes = stock_quotes[\"FB\"][\"quotes\"]\n",
    "print(\"Your function should produce the following result (plus ou minus numerical error):\\t\"\n",
    "      , np.mean(facebook_quotes))\n",
    "\n",
    "# Your code comes here below\n",
    "\n",
    "# go as in the instructions\n",
    "def my_mean(l):\n",
    "    s=0\n",
    "    for i in l:\n",
    "        s=s+i\n",
    "    return(s/len(l))\n",
    "\n",
    "fb_mean1=my_mean(stock_quotes[\"FB\"][\"quotes\"])\n",
    "print(f'This is my Facebook mean computed via the loop:', fb_mean1)\n",
    "        \n",
    "# now do it faster\n",
    "my_mean_l = lambda l : sum(l)/len(l)\n",
    "fb_mean2=my_mean_l(stock_quotes[\"FB\"][\"quotes\"])\n",
    "print(f'This is my Facebook mean computed via the inline fct:',fb_mean2)\n",
    "\n",
    "# verify\n",
    "charlesmean=np.mean(facebook_quotes)\n",
    "if round(fb_mean1,2) == round(charlesmean,2):\n",
    "    print('Bravo!')\n",
    "else:\n",
    "    print('Nope! Check again!')\n"
   ]
  },
  {
   "cell_type": "markdown",
   "metadata": {},
   "source": [
    "Let's now build on top of what we did previously to build a function that computes the mobile average. Let's start by using a fix number of lags to be considered (you can always extend it later): We want to have a function that takes a list and produces a new list containing the average value of the three past value (you can either align the two list by setting the three first value of your result to *None* or not, this will impact the way you will have to solve the next exercises, but both ways will be equally practical). Test it on the Google quotes that are in the variable *google_quotes*."
   ]
  },
  {
   "cell_type": "code",
   "execution_count": 9,
   "metadata": {
    "collapsed": false,
    "jupyter": {
     "outputs_hidden": false
    }
   },
   "outputs": [
    {
     "name": "stdout",
     "output_type": "stream",
     "text": [
      "[1472.16, 1483.58, 1485.67, 1479.77, 1462.42, 1451.06, 1448.36, 1455.68, 1449.57, 1458.67, 1455.75, 1460.41, 1457.18, 1467.9, 1488.05, 1498.9, 1511.91, 1513.91, 1517.89, 1518.36, 1522.37, 1521.5, 1509.98, 1474.95, 1431.72, 1401.07, 1366.57, 1350.2]\n",
      "28\n",
      "31\n"
     ]
    },
    {
     "data": {
      "image/png": "[encoded data removed]",
      "text/plain": [
       "<Figure size 432x288 with 1 Axes>"
      ]
     },
     "metadata": {
      "needs_background": "light"
     },
     "output_type": "display_data"
    }
   ],
   "source": [
    "google_quotes = stock_quotes[\"GOOG\"][\"quotes\"]\n",
    "\n",
    "def mov_avg(inp):\n",
    "    av=[]\n",
    "    for x in inp[3:len(inp)+1]:\n",
    "        pos=inp.index(x)\n",
    "        new_list=[inp[pos-3],inp[pos-2],inp[pos-1]]\n",
    "        av_new_list=round(my_mean(new_list),2)\n",
    "        av.append(av_new_list)\n",
    "    return av\n",
    "\n",
    "a=mov_avg(google_quotes)\n",
    "print(a)\n",
    "\n",
    "print(len(a))\n",
    "print(len(google_quotes))\n",
    "\n",
    "x1 = list(range(1,len(a)+1))\n",
    "plt.plot(x1, a)\n",
    "x2 = list(range(1,len(google_quotes)+1))\n",
    "plt.plot(x2, google_quotes)\n",
    "plt.show()\n"
   ]
  },
  {
   "cell_type": "markdown",
   "metadata": {},
   "source": [
    "Now that we have done it for a fix number of lags, do it again but now allow for a second parameter to your function: the number of lags you want to consider for your moving average."
   ]
  },
  {
   "cell_type": "code",
   "execution_count": 10,
   "metadata": {
    "collapsed": false,
    "jupyter": {
     "outputs_hidden": false
    }
   },
   "outputs": [
    {
     "name": "stdout",
     "output_type": "stream",
     "text": [
      "[1472.16, 1483.58, 1485.67, 1479.77, 1462.42, 1451.06, 1448.36, 1455.68, 1449.57, 1458.67, 1455.75, 1460.41, 1457.18, 1467.9, 1488.05, 1498.9, 1511.91, 1513.91, 1517.89, 1518.36, 1522.37, 1521.5, 1509.98, 1474.95, 1431.72, 1401.07, 1366.57, 1350.2]\n",
      "28\n"
     ]
    },
    {
     "data": {
      "image/png": "[encoded data removed]",
      "text/plain": [
       "<Figure size 432x288 with 1 Axes>"
      ]
     },
     "metadata": {
      "needs_background": "light"
     },
     "output_type": "display_data"
    }
   ],
   "source": [
    "def moving(inp,p):\n",
    "    av=[]\n",
    "    for x in inp[p:len(inp)]:\n",
    "        pos=inp.index(x)\n",
    "        new_list=[inp[pos-3],inp[pos-2],inp[pos-1]]\n",
    "        av_new_list=round(my_mean(new_list),2)\n",
    "        av.append(av_new_list)\n",
    "    return av\n",
    "\n",
    "b=moving(google_quotes,3)\n",
    "print(b)\n",
    "print(len(b))\n",
    "\n",
    "x1 = list(range(1,len(b)+1))\n",
    "plt.plot(x1, b)\n",
    "x2 = list(range(1,len(google_quotes)+1))\n",
    "plt.plot(x2, google_quotes)\n",
    "plt.show()"
   ]
  },
  {
   "cell_type": "markdown",
   "metadata": {},
   "source": [
    "We are now going to compute the mean squared error. Write a function that sums over the squared differences between the actual value and your moving-average-based forecast. This will help us determining the optimal number of lags for our secret investment strategy at the next step."
   ]
  },
  {
   "cell_type": "code",
   "execution_count": 11,
   "metadata": {
    "collapsed": false,
    "jupyter": {
     "outputs_hidden": false
    }
   },
   "outputs": [
    {
     "name": "stdout",
     "output_type": "stream",
     "text": [
      "1265.8317500000005\n",
      "[1451.7, 1480.39, 1484.4, 1485.95, 1486.65, 1466.71, 1433.9, 1452.56, 1458.63, 1455.84, 1434.23, 1485.94, 1447.07, 1448.23, 1476.23, 1479.23, 1508.68, 1508.79, 1518.27, 1514.66, 1520.74, 1519.67, 1526.69, 1518.15, 1485.11, 1421.59, 1388.45, 1393.18, 1318.09, 1339.33, 1389.11]\n",
      "[1485.95, 1486.65, 1466.71, 1433.9, 1452.56, 1458.63, 1455.84, 1434.23, 1485.94, 1447.07, 1448.23, 1476.23, 1479.23, 1508.68, 1508.79, 1518.27, 1514.66, 1520.74, 1519.67, 1526.69, 1518.15, 1485.11, 1421.59, 1388.45, 1393.18, 1318.09, 1339.33, 1389.11]\n",
      "28\n",
      "28\n"
     ]
    }
   ],
   "source": [
    "def mse(l1,l2):\n",
    "    err=[]\n",
    "    for i in range(0,len(l1)):\n",
    "        err.append((l1[i]-l2[i])**2)\n",
    "    return my_mean(err)\n",
    "\n",
    "cut_quotes=google_quotes[3:len(google_quotes)]\n",
    "meansqerr=mse(cut_quotes,b)\n",
    "print(meansqerr)\n",
    "print(google_quotes)\n",
    "print(cut_quotes)\n",
    "print(len(cut_quotes))\n",
    "print(len(b))"
   ]
  },
  {
   "cell_type": "markdown",
   "metadata": {},
   "source": [
    "Our masterplan to get rich is getting together nicely...\n",
    "\n",
    "#[coming_together](https://i1.wp.com/media1.tenor.com/images/a71c94c3aa7ad66a5051f81f48d14dd2/tenor.gif?w=688&ssl=1)\n",
    "\n",
    "The last step before creating the actual investement strategy: we are going to evaluate which lag produces the smallest mean square error. For that, create a function that loops over the range between 2 and 6 and return the optimal lag (the one with the smallest MSE)."
   ]
  },
  {
   "cell_type": "code",
   "execution_count": 82,
   "metadata": {
    "collapsed": false,
    "jupyter": {
     "outputs_hidden": false
    }
   },
   "outputs": [
    {
     "name": "stdout",
     "output_type": "stream",
     "text": [
      "[1366.1409310344848, 1238.3782464285725, 1256.640774074075, 1297.6591076923085, 1349.188476000001]\n"
     ]
    },
    {
     "data": {
      "text/plain": [
       "3"
      ]
     },
     "execution_count": 82,
     "metadata": {},
     "output_type": "execute_result"
    }
   ],
   "source": [
    "def opt_lag(l1):\n",
    "    val=[]\n",
    "    lag=2\n",
    "    for q in range(2,7):\n",
    "        movav=moving(l1,q)\n",
    "        cut_quotes1=l1[q:len(l1)+1]\n",
    "        m=mse(cut_quotes1,movav)\n",
    "        if q>2:\n",
    "            if m<min(val):\n",
    "                lag=q\n",
    "        val.append(m)\n",
    "        #print(f'For {q} lags, the MSE is {round(mse(cut_quotes,movav),2)}')\n",
    "    #print('')\n",
    "    #print(f'The minimum MSE is {round(min(val),2)}')\n",
    "    #print(f'The optimal number of lags is {lag}')\n",
    "    print(val)\n",
    "    return(lag)\n",
    "    \n",
    "opt_lag(google_quotes)"
   ]
  },
  {
   "cell_type": "markdown",
   "metadata": {},
   "source": [
    "We are now going to devise an incredibly dumb investment strategy: if your moving-average prediction (with the optimal lag - see, we are already [double-dipping](https://en.wikipedia.org/wiki/Circular_analysis) in the data...) is higher than the current price on a day, we invest all our accrued fortune (if we currently had no stock) or hold (if we had already some value invested), if the prediction is below, we sell our whole position (or do nothing if we had no money invested at the time).\n",
    "\n",
    "How much would we have today if we had started using this strategy on February 3rd and started out with 100 Euros?\n",
    "\n",
    "This is a significantly more complex problem than the ones above and you might want to split it into subproblems (for example, a good idea could be to devise a function that takes two values and returns the variation between those). There are many ways to solve it, find the one that makes more sense to you. The result should be the same for everyone, though."
   ]
  },
  {
   "cell_type": "code",
   "execution_count": null,
   "metadata": {
    "collapsed": false,
    "jupyter": {
     "outputs_hidden": false
    }
   },
   "outputs": [],
   "source": [
    "\n",
    "    \n",
    "    \n",
    "    \n",
    "    "
   ]
  },
  {
   "cell_type": "markdown",
   "metadata": {},
   "source": [
    "## Get rich (fast) or code tryin'"
   ]
  },
  {
   "cell_type": "markdown",
   "metadata": {},
   "source": [
    "The last step for today is to assess how much we will make in the near future. For this, we will use a small, non-parametric Monte-Carlo simulation.\n",
    "\n",
    "![monte_carlo](http://www.azquotes.com/picture-quotes/quote-in-mathematics-as-in-physics-so-much-depends-on-chance-on-a-propitious-moment-stanislaw-ulam-111-21-35.jpg)\n",
    "\n",
    "Here's how it will go: we are going to reuse the function that simulates the performance of our stupid investment strategy but on simulated data that will be produced in the following way: we are going to simulate 20 periods of data by resampling at random the past prices. This can be done using the function [random.choices(population, weights=None, \\*, cum_weights=None, k=1)](https://docs.python.org/3/library/random.html#random.choices): We are going to produce a list containing all the price variations of the quote. We then are going to produce a list of 20 values between 0 and the length of the list we just create and use those as variations over the next 20 days. We test our investment strategy again this \"future reality\" as if we started today with 100 Euros and the result is the final value we would have after 20 days. We have one potential result that we store in a list, called *results*. We repeat the process 5000 times (you can do it less time if your computer is rather slow). In the end, we will end up with 5000 potential results of our investment strategy over the 20 next days. I'll write the function that plots the distribution so that we can see visually what we can expect.\n",
    "\n",
    "Again, this whole procedure will probably require several functions. Try to break down the problem in a sequence of intermediate steps."
   ]
  },
  {
   "cell_type": "code",
   "execution_count": null,
   "metadata": {
    "collapsed": false,
    "jupyter": {
     "outputs_hidden": false
    }
   },
   "outputs": [],
   "source": [
    "import random\n"
   ]
  },
  {
   "cell_type": "markdown",
   "metadata": {},
   "source": [
    "The next cell will represent the distribution of your profits, only execute it once you have your 5000 results in the variable *results*."
   ]
  },
  {
   "cell_type": "code",
   "execution_count": null,
   "metadata": {
    "collapsed": false,
    "jupyter": {
     "outputs_hidden": false
    }
   },
   "outputs": [],
   "source": [
    "import seaborn as sns\n",
    "\n",
    "sns.distplot(results)"
   ]
  }
 ],
 "metadata": {
  "kernelspec": {
   "display_name": "Python 3",
   "language": "python",
   "name": "python3"
  },
  "language_info": {
   "codemirror_mode": {
    "name": "ipython",
    "version": 3
   },
   "file_extension": ".py",
   "mimetype": "text/x-python",
   "name": "python",
   "nbconvert_exporter": "python",
   "pygments_lexer": "ipython3",
   "version": "3.7.4"
  },
  "name": "exercises_4.ipynb"
 },
 "nbformat": 4,
 "nbformat_minor": 4
}
