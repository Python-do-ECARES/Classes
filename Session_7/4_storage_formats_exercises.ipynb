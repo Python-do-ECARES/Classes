{
 "cells": [
  {
   "cell_type": "code",
   "execution_count": 18,
   "metadata": {
    "hide-output": false
   },
   "outputs": [
    {
     "name": "stdout",
     "output_type": "stream",
     "text": [
      "Requirement already satisfied: qeds in c:\\users\\asus\\anaconda3\\lib\\site-packages (0.6.2)\n",
      "Requirement already satisfied: pyarrow in c:\\users\\asus\\anaconda3\\lib\\site-packages (from qeds) (0.16.0)\n",
      "Requirement already satisfied: scipy in c:\\users\\asus\\anaconda3\\lib\\site-packages (from qeds) (1.3.1)\n",
      "Requirement already satisfied: openpyxl in c:\\users\\asus\\anaconda3\\lib\\site-packages (from qeds) (3.0.0)\n",
      "Requirement already satisfied: plotly in c:\\users\\asus\\anaconda3\\lib\\site-packages (from qeds) (4.5.4)\n",
      "Requirement already satisfied: statsmodels in c:\\users\\asus\\anaconda3\\lib\\site-packages (from qeds) (0.10.1)\n",
      "Requirement already satisfied: pandas-datareader in c:\\users\\asus\\anaconda3\\lib\\site-packages (from qeds) (0.8.1)\n",
      "Requirement already satisfied: quandl in c:\\users\\asus\\anaconda3\\lib\\site-packages (from qeds) (3.5.0)\n",
      "Requirement already satisfied: requests in c:\\users\\asus\\anaconda3\\lib\\site-packages (from qeds) (2.22.0)\n",
      "Requirement already satisfied: seaborn in c:\\users\\asus\\anaconda3\\lib\\site-packages (from qeds) (0.9.0)\n",
      "Requirement already satisfied: numpy in c:\\users\\asus\\anaconda3\\lib\\site-packages (from qeds) (1.16.5)\n",
      "Requirement already satisfied: scikit-learn in c:\\users\\asus\\anaconda3\\lib\\site-packages (from qeds) (0.21.3)\n",
      "Requirement already satisfied: quantecon in c:\\users\\asus\\anaconda3\\lib\\site-packages (from qeds) (0.4.6)\n",
      "Requirement already satisfied: pandas in c:\\users\\asus\\anaconda3\\lib\\site-packages (from qeds) (0.25.1)\n",
      "Requirement already satisfied: matplotlib in c:\\users\\asus\\anaconda3\\lib\\site-packages (from qeds) (3.1.1)\n",
      "Requirement already satisfied: six>=1.0.0 in c:\\users\\asus\\anaconda3\\lib\\site-packages (from pyarrow->qeds) (1.12.0)\n",
      "Requirement already satisfied: jdcal in c:\\users\\asus\\anaconda3\\lib\\site-packages (from openpyxl->qeds) (1.4.1)\n",
      "Requirement already satisfied: et-xmlfile in c:\\users\\asus\\anaconda3\\lib\\site-packages (from openpyxl->qeds) (1.0.1)\n",
      "Requirement already satisfied: retrying>=1.3.3 in c:\\users\\asus\\anaconda3\\lib\\site-packages (from plotly->qeds) (1.3.3)\n",
      "Requirement already satisfied: patsy>=0.4.0 in c:\\users\\asus\\anaconda3\\lib\\site-packages (from statsmodels->qeds) (0.5.1)\n",
      "Requirement already satisfied: lxml in c:\\users\\asus\\anaconda3\\lib\\site-packages (from pandas-datareader->qeds) (4.4.1)\n",
      "Requirement already satisfied: python-dateutil in c:\\users\\asus\\anaconda3\\lib\\site-packages (from quandl->qeds) (2.8.0)\n",
      "Requirement already satisfied: more-itertools in c:\\users\\asus\\anaconda3\\lib\\site-packages (from quandl->qeds) (7.2.0)\n",
      "Requirement already satisfied: inflection>=0.3.1 in c:\\users\\asus\\anaconda3\\lib\\site-packages (from quandl->qeds) (0.3.1)\n",
      "Requirement already satisfied: chardet<3.1.0,>=3.0.2 in c:\\users\\asus\\anaconda3\\lib\\site-packages (from requests->qeds) (3.0.4)\n",
      "Requirement already satisfied: certifi>=2017.4.17 in c:\\users\\asus\\anaconda3\\lib\\site-packages (from requests->qeds) (2019.9.11)\n",
      "Requirement already satisfied: urllib3!=1.25.0,!=1.25.1,<1.26,>=1.21.1 in c:\\users\\asus\\anaconda3\\lib\\site-packages (from requests->qeds) (1.24.2)\n",
      "Requirement already satisfied: idna<2.9,>=2.5 in c:\\users\\asus\\anaconda3\\lib\\site-packages (from requests->qeds) (2.8)\n",
      "Requirement already satisfied: joblib>=0.11 in c:\\users\\asus\\anaconda3\\lib\\site-packages (from scikit-learn->qeds) (0.13.2)\n",
      "Requirement already satisfied: sympy in c:\\users\\asus\\anaconda3\\lib\\site-packages (from quantecon->qeds) (1.4)\n",
      "Requirement already satisfied: numba>=0.38 in c:\\users\\asus\\anaconda3\\lib\\site-packages (from quantecon->qeds) (0.45.1)\n",
      "Requirement already satisfied: pytz>=2017.2 in c:\\users\\asus\\anaconda3\\lib\\site-packages (from pandas->qeds) (2019.3)\n",
      "Requirement already satisfied: cycler>=0.10 in c:\\users\\asus\\anaconda3\\lib\\site-packages (from matplotlib->qeds) (0.10.0)\n",
      "Requirement already satisfied: kiwisolver>=1.0.1 in c:\\users\\asus\\anaconda3\\lib\\site-packages (from matplotlib->qeds) (1.1.0)\n",
      "Requirement already satisfied: pyparsing!=2.0.4,!=2.1.2,!=2.1.6,>=2.0.1 in c:\\users\\asus\\anaconda3\\lib\\site-packages (from matplotlib->qeds) (2.4.2)\n",
      "Requirement already satisfied: mpmath>=0.19 in c:\\users\\asus\\anaconda3\\lib\\site-packages (from sympy->quantecon->qeds) (1.1.0)\n",
      "Requirement already satisfied: llvmlite>=0.29.0dev0 in c:\\users\\asus\\anaconda3\\lib\\site-packages (from numba>=0.38->quantecon->qeds) (0.29.0)\n",
      "Requirement already satisfied: setuptools in c:\\users\\asus\\anaconda3\\lib\\site-packages (from kiwisolver>=1.0.1->matplotlib->qeds) (41.4.0)\n",
      "Requirement already satisfied: pyarrow in c:\\users\\asus\\anaconda3\\lib\\site-packages (0.16.0)\n",
      "Requirement already satisfied: six>=1.0.0 in c:\\users\\asus\\anaconda3\\lib\\site-packages (from pyarrow) (1.12.0)\n",
      "Requirement already satisfied: numpy>=1.14 in c:\\users\\asus\\anaconda3\\lib\\site-packages (from pyarrow) (1.16.5)\n"
     ]
    }
   ],
   "source": [
    "! pip install qeds\n",
    "import pandas as pd\n",
    "import numpy as np\n",
    "!pip install pyarrow\n",
    "import pyarrow.feather"
   ]
  },
  {
   "cell_type": "markdown",
   "metadata": {},
   "source": [
    "# Storage Formats - Exercises"
   ]
  },
  {
   "cell_type": "markdown",
   "metadata": {},
   "source": [
    "## Exercise 1"
   ]
  },
  {
   "cell_type": "markdown",
   "metadata": {},
   "source": [
    "**In the cell below, the variable `url` contains a web address to a csv file containing the result of all NFL games from September 1920 to February 2017.**"
   ]
  },
  {
   "cell_type": "markdown",
   "metadata": {},
   "source": [
    "1. **Use `pd.read_csv` to read this file into a DataFrame named `nfl`.** "
   ]
  },
  {
   "cell_type": "code",
   "execution_count": 19,
   "metadata": {
    "hide-output": false
   },
   "outputs": [
    {
     "data": {
      "text/html": [
       "<div>\n",
       "<style scoped>\n",
       "    .dataframe tbody tr th:only-of-type {\n",
       "        vertical-align: middle;\n",
       "    }\n",
       "\n",
       "    .dataframe tbody tr th {\n",
       "        vertical-align: top;\n",
       "    }\n",
       "\n",
       "    .dataframe thead th {\n",
       "        text-align: right;\n",
       "    }\n",
       "</style>\n",
       "<table border=\"1\" class=\"dataframe\">\n",
       "  <thead>\n",
       "    <tr style=\"text-align: right;\">\n",
       "      <th></th>\n",
       "      <th>season</th>\n",
       "      <th>neutral</th>\n",
       "      <th>playoff</th>\n",
       "      <th>team1</th>\n",
       "      <th>team2</th>\n",
       "      <th>elo1</th>\n",
       "      <th>elo2</th>\n",
       "      <th>elo_prob1</th>\n",
       "      <th>score1</th>\n",
       "      <th>score2</th>\n",
       "      <th>result1</th>\n",
       "    </tr>\n",
       "    <tr>\n",
       "      <th>date</th>\n",
       "      <th></th>\n",
       "      <th></th>\n",
       "      <th></th>\n",
       "      <th></th>\n",
       "      <th></th>\n",
       "      <th></th>\n",
       "      <th></th>\n",
       "      <th></th>\n",
       "      <th></th>\n",
       "      <th></th>\n",
       "      <th></th>\n",
       "    </tr>\n",
       "  </thead>\n",
       "  <tbody>\n",
       "    <tr>\n",
       "      <td>1920-09-26</td>\n",
       "      <td>1920</td>\n",
       "      <td>0</td>\n",
       "      <td>0</td>\n",
       "      <td>RII</td>\n",
       "      <td>STP</td>\n",
       "      <td>1503.947000</td>\n",
       "      <td>1300.000000</td>\n",
       "      <td>0.824651</td>\n",
       "      <td>48</td>\n",
       "      <td>0</td>\n",
       "      <td>1.0</td>\n",
       "    </tr>\n",
       "    <tr>\n",
       "      <td>1920-10-03</td>\n",
       "      <td>1920</td>\n",
       "      <td>0</td>\n",
       "      <td>0</td>\n",
       "      <td>AKR</td>\n",
       "      <td>WHE</td>\n",
       "      <td>1503.420000</td>\n",
       "      <td>1300.000000</td>\n",
       "      <td>0.824212</td>\n",
       "      <td>43</td>\n",
       "      <td>0</td>\n",
       "      <td>1.0</td>\n",
       "    </tr>\n",
       "    <tr>\n",
       "      <td>1920-10-03</td>\n",
       "      <td>1920</td>\n",
       "      <td>0</td>\n",
       "      <td>0</td>\n",
       "      <td>RCH</td>\n",
       "      <td>ABU</td>\n",
       "      <td>1503.420000</td>\n",
       "      <td>1300.000000</td>\n",
       "      <td>0.824212</td>\n",
       "      <td>10</td>\n",
       "      <td>0</td>\n",
       "      <td>1.0</td>\n",
       "    </tr>\n",
       "    <tr>\n",
       "      <td>1920-10-03</td>\n",
       "      <td>1920</td>\n",
       "      <td>0</td>\n",
       "      <td>0</td>\n",
       "      <td>DAY</td>\n",
       "      <td>COL</td>\n",
       "      <td>1493.002000</td>\n",
       "      <td>1504.908000</td>\n",
       "      <td>0.575819</td>\n",
       "      <td>14</td>\n",
       "      <td>0</td>\n",
       "      <td>1.0</td>\n",
       "    </tr>\n",
       "    <tr>\n",
       "      <td>1920-10-03</td>\n",
       "      <td>1920</td>\n",
       "      <td>0</td>\n",
       "      <td>0</td>\n",
       "      <td>RII</td>\n",
       "      <td>MUN</td>\n",
       "      <td>1516.108000</td>\n",
       "      <td>1478.004000</td>\n",
       "      <td>0.644171</td>\n",
       "      <td>45</td>\n",
       "      <td>0</td>\n",
       "      <td>1.0</td>\n",
       "    </tr>\n",
       "    <tr>\n",
       "      <td>...</td>\n",
       "      <td>...</td>\n",
       "      <td>...</td>\n",
       "      <td>...</td>\n",
       "      <td>...</td>\n",
       "      <td>...</td>\n",
       "      <td>...</td>\n",
       "      <td>...</td>\n",
       "      <td>...</td>\n",
       "      <td>...</td>\n",
       "      <td>...</td>\n",
       "      <td>...</td>\n",
       "    </tr>\n",
       "    <tr>\n",
       "      <td>2017-01-15</td>\n",
       "      <td>2016</td>\n",
       "      <td>0</td>\n",
       "      <td>1</td>\n",
       "      <td>DAL</td>\n",
       "      <td>GB</td>\n",
       "      <td>1617.794683</td>\n",
       "      <td>1635.451172</td>\n",
       "      <td>0.567714</td>\n",
       "      <td>31</td>\n",
       "      <td>34</td>\n",
       "      <td>0.0</td>\n",
       "    </tr>\n",
       "    <tr>\n",
       "      <td>2017-01-15</td>\n",
       "      <td>2016</td>\n",
       "      <td>0</td>\n",
       "      <td>1</td>\n",
       "      <td>KC</td>\n",
       "      <td>PIT</td>\n",
       "      <td>1681.926463</td>\n",
       "      <td>1647.734179</td>\n",
       "      <td>0.638993</td>\n",
       "      <td>16</td>\n",
       "      <td>18</td>\n",
       "      <td>0.0</td>\n",
       "    </tr>\n",
       "    <tr>\n",
       "      <td>2017-01-22</td>\n",
       "      <td>2016</td>\n",
       "      <td>0</td>\n",
       "      <td>1</td>\n",
       "      <td>ATL</td>\n",
       "      <td>GB</td>\n",
       "      <td>1664.127266</td>\n",
       "      <td>1651.537731</td>\n",
       "      <td>0.609840</td>\n",
       "      <td>44</td>\n",
       "      <td>21</td>\n",
       "      <td>1.0</td>\n",
       "    </tr>\n",
       "    <tr>\n",
       "      <td>2017-01-22</td>\n",
       "      <td>2016</td>\n",
       "      <td>0</td>\n",
       "      <td>1</td>\n",
       "      <td>NE</td>\n",
       "      <td>PIT</td>\n",
       "      <td>1747.160321</td>\n",
       "      <td>1662.437215</td>\n",
       "      <td>0.703052</td>\n",
       "      <td>36</td>\n",
       "      <td>17</td>\n",
       "      <td>1.0</td>\n",
       "    </tr>\n",
       "    <tr>\n",
       "      <td>2017-02-05</td>\n",
       "      <td>2016</td>\n",
       "      <td>1</td>\n",
       "      <td>1</td>\n",
       "      <td>ATL</td>\n",
       "      <td>NE</td>\n",
       "      <td>1688.081418</td>\n",
       "      <td>1763.818168</td>\n",
       "      <td>0.392700</td>\n",
       "      <td>28</td>\n",
       "      <td>34</td>\n",
       "      <td>0.0</td>\n",
       "    </tr>\n",
       "  </tbody>\n",
       "</table>\n",
       "<p>15740 rows × 11 columns</p>\n",
       "</div>"
      ],
      "text/plain": [
       "            season  neutral  playoff team1 team2         elo1         elo2  \\\n",
       "date                                                                         \n",
       "1920-09-26    1920        0        0   RII   STP  1503.947000  1300.000000   \n",
       "1920-10-03    1920        0        0   AKR   WHE  1503.420000  1300.000000   \n",
       "1920-10-03    1920        0        0   RCH   ABU  1503.420000  1300.000000   \n",
       "1920-10-03    1920        0        0   DAY   COL  1493.002000  1504.908000   \n",
       "1920-10-03    1920        0        0   RII   MUN  1516.108000  1478.004000   \n",
       "...            ...      ...      ...   ...   ...          ...          ...   \n",
       "2017-01-15    2016        0        1   DAL    GB  1617.794683  1635.451172   \n",
       "2017-01-15    2016        0        1    KC   PIT  1681.926463  1647.734179   \n",
       "2017-01-22    2016        0        1   ATL    GB  1664.127266  1651.537731   \n",
       "2017-01-22    2016        0        1    NE   PIT  1747.160321  1662.437215   \n",
       "2017-02-05    2016        1        1   ATL    NE  1688.081418  1763.818168   \n",
       "\n",
       "            elo_prob1  score1  score2  result1  \n",
       "date                                            \n",
       "1920-09-26   0.824651      48       0      1.0  \n",
       "1920-10-03   0.824212      43       0      1.0  \n",
       "1920-10-03   0.824212      10       0      1.0  \n",
       "1920-10-03   0.575819      14       0      1.0  \n",
       "1920-10-03   0.644171      45       0      1.0  \n",
       "...               ...     ...     ...      ...  \n",
       "2017-01-15   0.567714      31      34      0.0  \n",
       "2017-01-15   0.638993      16      18      0.0  \n",
       "2017-01-22   0.609840      44      21      1.0  \n",
       "2017-01-22   0.703052      36      17      1.0  \n",
       "2017-02-05   0.392700      28      34      0.0  \n",
       "\n",
       "[15740 rows x 11 columns]"
      ]
     },
     "execution_count": 19,
     "metadata": {},
     "output_type": "execute_result"
    }
   ],
   "source": [
    "url = \"https://raw.githubusercontent.com/fivethirtyeight/nfl-elo-game/\"\n",
    "url = url + \"3488b7d0b46c5f6583679bc40fb3a42d729abd39/data/nfl_games.csv\"\n",
    "\n",
    "nfl = pd.read_csv(url, index_col=0)\n",
    "nfl"
   ]
  },
  {
   "cell_type": "markdown",
   "metadata": {},
   "source": [
    "2. **Print the shape and column names of `nfl`.**"
   ]
  },
  {
   "cell_type": "code",
   "execution_count": 20,
   "metadata": {},
   "outputs": [
    {
     "name": "stdout",
     "output_type": "stream",
     "text": [
      "nfl.shape= (15740, 11)\n",
      "Index(['season', 'neutral', 'playoff', 'team1', 'team2', 'elo1', 'elo2',\n",
      "       'elo_prob1', 'score1', 'score2', 'result1'],\n",
      "      dtype='object')\n"
     ]
    }
   ],
   "source": [
    "print(\"nfl.shape=\",nfl.shape)\n",
    "print(nfl.columns)"
   ]
  },
  {
   "cell_type": "markdown",
   "metadata": {},
   "source": [
    "3. **Save the DataFrame to a file named `nfl.xlsx`**  "
   ]
  },
  {
   "cell_type": "code",
   "execution_count": 21,
   "metadata": {},
   "outputs": [],
   "source": [
    "nfl.to_excel(\"nfl.xlsx\", \"nfl\")"
   ]
  },
  {
   "cell_type": "markdown",
   "metadata": {},
   "source": [
    "4. **Open the spreadsheet using Excel on your computer.**  "
   ]
  },
  {
   "cell_type": "markdown",
   "metadata": {},
   "source": [
    "## Exercise 2"
   ]
  },
  {
   "cell_type": "markdown",
   "metadata": {},
   "source": [
    "1. **Compute the average total points in each game (note, you will need to sum two of the columns to get total points).**  "
   ]
  },
  {
   "cell_type": "code",
   "execution_count": 22,
   "metadata": {},
   "outputs": [
    {
     "data": {
      "text/plain": [
       "39.95368487928844"
      ]
     },
     "execution_count": 22,
     "metadata": {},
     "output_type": "execute_result"
    }
   ],
   "source": [
    "#we compute the total points as score1 + score 2, then we take the average\n",
    "nfl[\"total_points\"] = nfl[\"score1\"]+nfl[\"score2\"]\n",
    "nfl[\"total_points\"].mean()"
   ]
  },
  {
   "cell_type": "markdown",
   "metadata": {},
   "source": [
    "2. **Repeat the above calculation, but only for playoff games.**  "
   ]
  },
  {
   "cell_type": "code",
   "execution_count": 23,
   "metadata": {},
   "outputs": [
    {
     "data": {
      "text/plain": [
       "42.70404411764706"
      ]
     },
     "execution_count": 23,
     "metadata": {},
     "output_type": "execute_result"
    }
   ],
   "source": [
    "#here we compute the average total points for the subset corresponding to playoff games\n",
    "nfl[\"total_points\"][nfl[\"playoff\"]==1].mean()"
   ]
  },
  {
   "cell_type": "markdown",
   "metadata": {},
   "source": [
    "3. **Compute the average score for your favorite team (you’ll need to consider when they were team1 vs team2).**   "
   ]
  },
  {
   "cell_type": "code",
   "execution_count": 24,
   "metadata": {},
   "outputs": [
    {
     "data": {
      "text/plain": [
       "17.125"
      ]
     },
     "execution_count": 24,
     "metadata": {},
     "output_type": "execute_result"
    }
   ],
   "source": [
    "#I don't have a smarter solution\n",
    "\n",
    "#in order to get the average for AKR:\n",
    "    #I sum the total points obtained by AKR either as team1 or team2\n",
    "    #I sum the total number of games of AKR either as team1 or team2\n",
    "    #then I divide the total points by the total number of games\n",
    "\n",
    "sum_teams12   = nfl[\"total_points\"][nfl[\"team1\"]==\"AKR\"].sum()   + nfl[\"total_points\"][nfl[\"team2\"]==\"AKR\"].sum()\n",
    "count_teams12 = nfl[\"total_points\"][nfl[\"team1\"]==\"AKR\"].count() + nfl[\"total_points\"][nfl[\"team2\"]==\"AKR\"].count()\n",
    "average = sum_teams12/count_teams12\n",
    "average"
   ]
  },
  {
   "cell_type": "markdown",
   "metadata": {},
   "source": [
    "4. **Compute the ratio of “upsets” to total games played. An upset is defined as a team with a lower ELO winning the game.** "
   ]
  },
  {
   "cell_type": "code",
   "execution_count": 25,
   "metadata": {},
   "outputs": [
    {
     "data": {
      "text/plain": [
       "0.34358322744599745"
      ]
     },
     "execution_count": 25,
     "metadata": {},
     "output_type": "execute_result"
    }
   ],
   "source": [
    "#for all the matches \n",
    "nfl.loc[((nfl['elo1']>nfl['elo2']) & (nfl['result1']==0)) | ((nfl['elo2']>nfl['elo1']) & (nfl['result1']==1))  , 'Upset?' ] =1 \n",
    "nfl.loc[(nfl['Upset?']!=1), 'Upset?']=0\n",
    "nfl['Upset?'].mean()"
   ]
  },
  {
   "cell_type": "code",
   "execution_count": 26,
   "metadata": {},
   "outputs": [
    {
     "data": {
      "text/plain": [
       "0.21739130434782608"
      ]
     },
     "execution_count": 26,
     "metadata": {},
     "output_type": "execute_result"
    }
   ],
   "source": [
    "#only for the matches of AKR (as team1)\n",
    "nfl.loc[((nfl['elo1']>nfl['elo2']) & (nfl['result1']==0)) | ((nfl['elo2']>nfl['elo1']) & (nfl['result1']==1))  , 'Upset?' ] =1 \n",
    "nfl.loc[(nfl['Upset?']!=1), 'Upset?']=0\n",
    "nfl['Upset?'][nfl[\"team1\"] == \"AKR\"].mean()"
   ]
  }
 ],
 "metadata": {
  "date": 1584040764.364358,
  "filename": "storage_formats.rst",
  "kernelspec": {
   "display_name": "Python 3",
   "language": "python",
   "name": "python3"
  },
  "language_info": {
   "codemirror_mode": {
    "name": "ipython",
    "version": 3
   },
   "file_extension": ".py",
   "mimetype": "text/x-python",
   "name": "python",
   "nbconvert_exporter": "python",
   "pygments_lexer": "ipython3",
   "version": "3.7.4"
  },
  "title": "Storage Formats"
 },
 "nbformat": 4,
 "nbformat_minor": 2
}
