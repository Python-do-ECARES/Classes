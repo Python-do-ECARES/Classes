{
 "cells": [
  {
   "cell_type": "code",
   "execution_count": 90,
   "metadata": {
    "hide-output": false
   },
   "outputs": [
    {
     "name": "stdout",
     "output_type": "stream",
     "text": [
      "Requirement already satisfied: qeds in c:\\users\\asus\\anaconda3\\lib\\site-packages (0.6.2)\n",
      "Requirement already satisfied: numpy in c:\\users\\asus\\anaconda3\\lib\\site-packages (from qeds) (1.16.5)\n",
      "Requirement already satisfied: pandas in c:\\users\\asus\\anaconda3\\lib\\site-packages (from qeds) (0.25.1)\n",
      "Requirement already satisfied: openpyxl in c:\\users\\asus\\anaconda3\\lib\\site-packages (from qeds) (3.0.0)\n",
      "Requirement already satisfied: plotly in c:\\users\\asus\\anaconda3\\lib\\site-packages (from qeds) (4.5.4)\n",
      "Requirement already satisfied: requests in c:\\users\\asus\\anaconda3\\lib\\site-packages (from qeds) (2.22.0)\n",
      "Requirement already satisfied: quantecon in c:\\users\\asus\\anaconda3\\lib\\site-packages (from qeds) (0.4.6)\n",
      "Requirement already satisfied: scikit-learn in c:\\users\\asus\\anaconda3\\lib\\site-packages (from qeds) (0.21.3)\n",
      "Requirement already satisfied: seaborn in c:\\users\\asus\\anaconda3\\lib\\site-packages (from qeds) (0.9.0)\n",
      "Requirement already satisfied: statsmodels in c:\\users\\asus\\anaconda3\\lib\\site-packages (from qeds) (0.10.1)\n",
      "Requirement already satisfied: pandas-datareader in c:\\users\\asus\\anaconda3\\lib\\site-packages (from qeds) (0.8.1)\n",
      "Requirement already satisfied: matplotlib in c:\\users\\asus\\anaconda3\\lib\\site-packages (from qeds) (3.1.1)\n",
      "Requirement already satisfied: pyarrow in c:\\users\\asus\\anaconda3\\lib\\site-packages (from qeds) (0.16.0)\n",
      "Requirement already satisfied: scipy in c:\\users\\asus\\anaconda3\\lib\\site-packages (from qeds) (1.3.1)\n",
      "Requirement already satisfied: quandl in c:\\users\\asus\\anaconda3\\lib\\site-packages (from qeds) (3.5.0)\n",
      "Requirement already satisfied: pytz>=2017.2 in c:\\users\\asus\\anaconda3\\lib\\site-packages (from pandas->qeds) (2019.3)\n",
      "Requirement already satisfied: python-dateutil>=2.6.1 in c:\\users\\asus\\anaconda3\\lib\\site-packages (from pandas->qeds) (2.8.0)\n",
      "Requirement already satisfied: jdcal in c:\\users\\asus\\anaconda3\\lib\\site-packages (from openpyxl->qeds) (1.4.1)\n",
      "Requirement already satisfied: et-xmlfile in c:\\users\\asus\\anaconda3\\lib\\site-packages (from openpyxl->qeds) (1.0.1)\n",
      "Requirement already satisfied: retrying>=1.3.3 in c:\\users\\asus\\anaconda3\\lib\\site-packages (from plotly->qeds) (1.3.3)\n",
      "Requirement already satisfied: six in c:\\users\\asus\\anaconda3\\lib\\site-packages (from plotly->qeds) (1.12.0)\n",
      "Requirement already satisfied: urllib3!=1.25.0,!=1.25.1,<1.26,>=1.21.1 in c:\\users\\asus\\anaconda3\\lib\\site-packages (from requests->qeds) (1.24.2)\n",
      "Requirement already satisfied: idna<2.9,>=2.5 in c:\\users\\asus\\anaconda3\\lib\\site-packages (from requests->qeds) (2.8)\n",
      "Requirement already satisfied: certifi>=2017.4.17 in c:\\users\\asus\\anaconda3\\lib\\site-packages (from requests->qeds) (2019.9.11)\n",
      "Requirement already satisfied: chardet<3.1.0,>=3.0.2 in c:\\users\\asus\\anaconda3\\lib\\site-packages (from requests->qeds) (3.0.4)\n",
      "Requirement already satisfied: sympy in c:\\users\\asus\\anaconda3\\lib\\site-packages (from quantecon->qeds) (1.4)\n",
      "Requirement already satisfied: numba>=0.38 in c:\\users\\asus\\anaconda3\\lib\\site-packages (from quantecon->qeds) (0.45.1)\n",
      "Requirement already satisfied: joblib>=0.11 in c:\\users\\asus\\anaconda3\\lib\\site-packages (from scikit-learn->qeds) (0.13.2)\n",
      "Requirement already satisfied: patsy>=0.4.0 in c:\\users\\asus\\anaconda3\\lib\\site-packages (from statsmodels->qeds) (0.5.1)\n",
      "Requirement already satisfied: lxml in c:\\users\\asus\\anaconda3\\lib\\site-packages (from pandas-datareader->qeds) (4.4.1)\n",
      "Requirement already satisfied: cycler>=0.10 in c:\\users\\asus\\anaconda3\\lib\\site-packages (from matplotlib->qeds) (0.10.0)\n",
      "Requirement already satisfied: kiwisolver>=1.0.1 in c:\\users\\asus\\anaconda3\\lib\\site-packages (from matplotlib->qeds) (1.1.0)\n",
      "Requirement already satisfied: pyparsing!=2.0.4,!=2.1.2,!=2.1.6,>=2.0.1 in c:\\users\\asus\\anaconda3\\lib\\site-packages (from matplotlib->qeds) (2.4.2)\n",
      "Requirement already satisfied: more-itertools in c:\\users\\asus\\anaconda3\\lib\\site-packages (from quandl->qeds) (7.2.0)\n",
      "Requirement already satisfied: inflection>=0.3.1 in c:\\users\\asus\\anaconda3\\lib\\site-packages (from quandl->qeds) (0.3.1)\n",
      "Requirement already satisfied: mpmath>=0.19 in c:\\users\\asus\\anaconda3\\lib\\site-packages (from sympy->quantecon->qeds) (1.1.0)\n",
      "Requirement already satisfied: llvmlite>=0.29.0dev0 in c:\\users\\asus\\anaconda3\\lib\\site-packages (from numba>=0.38->quantecon->qeds) (0.29.0)\n",
      "Requirement already satisfied: setuptools in c:\\users\\asus\\anaconda3\\lib\\site-packages (from kiwisolver>=1.0.1->matplotlib->qeds) (41.4.0)\n"
     ]
    }
   ],
   "source": [
    "! pip install qeds\n",
    "import pandas as pd\n",
    "%matplotlib inline\n",
    "import qeds\n",
    "qeds.themes.mpl_style();"
   ]
  },
  {
   "cell_type": "markdown",
   "metadata": {},
   "source": [
    "# Basic Functionality - Exercises"
   ]
  },
  {
   "cell_type": "markdown",
   "metadata": {},
   "source": [
    "\n",
    "**For these exercises we use unemployment data by state at a monthly frequency.**\n",
    "\n",
    "- **We download the data directly from a url and read it into a pandas DataFrame.**\n",
    "\n",
    "- **Since we want to look at the unemployment rate across different states over time, we proceed to a transformation of the data similar to an Excel pivot-table.**"
   ]
  },
  {
   "cell_type": "code",
   "execution_count": 91,
   "metadata": {
    "hide-output": false
   },
   "outputs": [],
   "source": [
    "#Download the data directly from a url and read it into a pandas DataFrame.\n",
    "url = \"https://datascience.quantecon.org/assets/data/state_unemployment.csv\"\n",
    "unemp_raw = pd.read_csv(url, parse_dates=[\"Date\"])"
   ]
  },
  {
   "cell_type": "code",
   "execution_count": 92,
   "metadata": {
    "hide-output": false
   },
   "outputs": [
    {
     "data": {
      "text/html": [
       "<div>\n",
       "<style scoped>\n",
       "    .dataframe tbody tr th:only-of-type {\n",
       "        vertical-align: middle;\n",
       "    }\n",
       "\n",
       "    .dataframe tbody tr th {\n",
       "        vertical-align: top;\n",
       "    }\n",
       "\n",
       "    .dataframe thead th {\n",
       "        text-align: right;\n",
       "    }\n",
       "</style>\n",
       "<table border=\"1\" class=\"dataframe\">\n",
       "  <thead>\n",
       "    <tr style=\"text-align: right;\">\n",
       "      <th>state</th>\n",
       "      <th>Alabama</th>\n",
       "      <th>Alaska</th>\n",
       "      <th>Arizona</th>\n",
       "      <th>Arkansas</th>\n",
       "      <th>California</th>\n",
       "      <th>Colorado</th>\n",
       "      <th>Connecticut</th>\n",
       "      <th>Delaware</th>\n",
       "      <th>Florida</th>\n",
       "      <th>Georgia</th>\n",
       "      <th>...</th>\n",
       "      <th>South Dakota</th>\n",
       "      <th>Tennessee</th>\n",
       "      <th>Texas</th>\n",
       "      <th>Utah</th>\n",
       "      <th>Vermont</th>\n",
       "      <th>Virginia</th>\n",
       "      <th>Washington</th>\n",
       "      <th>West Virginia</th>\n",
       "      <th>Wisconsin</th>\n",
       "      <th>Wyoming</th>\n",
       "    </tr>\n",
       "    <tr>\n",
       "      <th>Date</th>\n",
       "      <th></th>\n",
       "      <th></th>\n",
       "      <th></th>\n",
       "      <th></th>\n",
       "      <th></th>\n",
       "      <th></th>\n",
       "      <th></th>\n",
       "      <th></th>\n",
       "      <th></th>\n",
       "      <th></th>\n",
       "      <th></th>\n",
       "      <th></th>\n",
       "      <th></th>\n",
       "      <th></th>\n",
       "      <th></th>\n",
       "      <th></th>\n",
       "      <th></th>\n",
       "      <th></th>\n",
       "      <th></th>\n",
       "      <th></th>\n",
       "      <th></th>\n",
       "    </tr>\n",
       "  </thead>\n",
       "  <tbody>\n",
       "    <tr>\n",
       "      <td>2000-01-01</td>\n",
       "      <td>4.7</td>\n",
       "      <td>6.3</td>\n",
       "      <td>4.1</td>\n",
       "      <td>4.4</td>\n",
       "      <td>5.0</td>\n",
       "      <td>2.8</td>\n",
       "      <td>2.8</td>\n",
       "      <td>3.5</td>\n",
       "      <td>3.7</td>\n",
       "      <td>3.7</td>\n",
       "      <td>...</td>\n",
       "      <td>2.4</td>\n",
       "      <td>3.7</td>\n",
       "      <td>4.6</td>\n",
       "      <td>3.1</td>\n",
       "      <td>2.7</td>\n",
       "      <td>2.6</td>\n",
       "      <td>4.9</td>\n",
       "      <td>5.8</td>\n",
       "      <td>3.2</td>\n",
       "      <td>4.1</td>\n",
       "    </tr>\n",
       "    <tr>\n",
       "      <td>2000-02-01</td>\n",
       "      <td>4.7</td>\n",
       "      <td>6.3</td>\n",
       "      <td>4.1</td>\n",
       "      <td>4.3</td>\n",
       "      <td>5.0</td>\n",
       "      <td>2.8</td>\n",
       "      <td>2.7</td>\n",
       "      <td>3.6</td>\n",
       "      <td>3.7</td>\n",
       "      <td>3.6</td>\n",
       "      <td>...</td>\n",
       "      <td>2.4</td>\n",
       "      <td>3.7</td>\n",
       "      <td>4.6</td>\n",
       "      <td>3.1</td>\n",
       "      <td>2.6</td>\n",
       "      <td>2.5</td>\n",
       "      <td>4.9</td>\n",
       "      <td>5.6</td>\n",
       "      <td>3.2</td>\n",
       "      <td>3.9</td>\n",
       "    </tr>\n",
       "    <tr>\n",
       "      <td>2000-03-01</td>\n",
       "      <td>4.6</td>\n",
       "      <td>6.3</td>\n",
       "      <td>4.0</td>\n",
       "      <td>4.3</td>\n",
       "      <td>5.0</td>\n",
       "      <td>2.7</td>\n",
       "      <td>2.6</td>\n",
       "      <td>3.6</td>\n",
       "      <td>3.7</td>\n",
       "      <td>3.6</td>\n",
       "      <td>...</td>\n",
       "      <td>2.4</td>\n",
       "      <td>3.8</td>\n",
       "      <td>4.5</td>\n",
       "      <td>3.1</td>\n",
       "      <td>2.6</td>\n",
       "      <td>2.4</td>\n",
       "      <td>5.0</td>\n",
       "      <td>5.5</td>\n",
       "      <td>3.3</td>\n",
       "      <td>3.9</td>\n",
       "    </tr>\n",
       "    <tr>\n",
       "      <td>2000-04-01</td>\n",
       "      <td>4.6</td>\n",
       "      <td>6.3</td>\n",
       "      <td>4.0</td>\n",
       "      <td>4.3</td>\n",
       "      <td>5.1</td>\n",
       "      <td>2.7</td>\n",
       "      <td>2.5</td>\n",
       "      <td>3.7</td>\n",
       "      <td>3.7</td>\n",
       "      <td>3.7</td>\n",
       "      <td>...</td>\n",
       "      <td>2.4</td>\n",
       "      <td>3.8</td>\n",
       "      <td>4.4</td>\n",
       "      <td>3.1</td>\n",
       "      <td>2.7</td>\n",
       "      <td>2.4</td>\n",
       "      <td>5.0</td>\n",
       "      <td>5.4</td>\n",
       "      <td>3.4</td>\n",
       "      <td>3.8</td>\n",
       "    </tr>\n",
       "    <tr>\n",
       "      <td>2000-05-01</td>\n",
       "      <td>4.5</td>\n",
       "      <td>6.3</td>\n",
       "      <td>4.0</td>\n",
       "      <td>4.2</td>\n",
       "      <td>5.1</td>\n",
       "      <td>2.7</td>\n",
       "      <td>2.4</td>\n",
       "      <td>3.7</td>\n",
       "      <td>3.7</td>\n",
       "      <td>3.7</td>\n",
       "      <td>...</td>\n",
       "      <td>2.4</td>\n",
       "      <td>3.9</td>\n",
       "      <td>4.3</td>\n",
       "      <td>3.2</td>\n",
       "      <td>2.7</td>\n",
       "      <td>2.3</td>\n",
       "      <td>5.1</td>\n",
       "      <td>5.4</td>\n",
       "      <td>3.5</td>\n",
       "      <td>3.8</td>\n",
       "    </tr>\n",
       "  </tbody>\n",
       "</table>\n",
       "<p>5 rows × 50 columns</p>\n",
       "</div>"
      ],
      "text/plain": [
       "state       Alabama  Alaska  Arizona  Arkansas  California  Colorado  \\\n",
       "Date                                                                   \n",
       "2000-01-01      4.7     6.3      4.1       4.4         5.0       2.8   \n",
       "2000-02-01      4.7     6.3      4.1       4.3         5.0       2.8   \n",
       "2000-03-01      4.6     6.3      4.0       4.3         5.0       2.7   \n",
       "2000-04-01      4.6     6.3      4.0       4.3         5.1       2.7   \n",
       "2000-05-01      4.5     6.3      4.0       4.2         5.1       2.7   \n",
       "\n",
       "state       Connecticut  Delaware  Florida  Georgia  ...  South Dakota  \\\n",
       "Date                                                 ...                 \n",
       "2000-01-01          2.8       3.5      3.7      3.7  ...           2.4   \n",
       "2000-02-01          2.7       3.6      3.7      3.6  ...           2.4   \n",
       "2000-03-01          2.6       3.6      3.7      3.6  ...           2.4   \n",
       "2000-04-01          2.5       3.7      3.7      3.7  ...           2.4   \n",
       "2000-05-01          2.4       3.7      3.7      3.7  ...           2.4   \n",
       "\n",
       "state       Tennessee  Texas  Utah  Vermont  Virginia  Washington  \\\n",
       "Date                                                                \n",
       "2000-01-01        3.7    4.6   3.1      2.7       2.6         4.9   \n",
       "2000-02-01        3.7    4.6   3.1      2.6       2.5         4.9   \n",
       "2000-03-01        3.8    4.5   3.1      2.6       2.4         5.0   \n",
       "2000-04-01        3.8    4.4   3.1      2.7       2.4         5.0   \n",
       "2000-05-01        3.9    4.3   3.2      2.7       2.3         5.1   \n",
       "\n",
       "state       West Virginia  Wisconsin  Wyoming  \n",
       "Date                                           \n",
       "2000-01-01            5.8        3.2      4.1  \n",
       "2000-02-01            5.6        3.2      3.9  \n",
       "2000-03-01            5.5        3.3      3.9  \n",
       "2000-04-01            5.4        3.4      3.8  \n",
       "2000-05-01            5.4        3.5      3.8  \n",
       "\n",
       "[5 rows x 50 columns]"
      ]
     },
     "execution_count": 92,
     "metadata": {},
     "output_type": "execute_result"
    }
   ],
   "source": [
    "#Transformation of the data similar to an Excel pivot-table\n",
    "unemp_all = (\n",
    "    unemp_raw\n",
    "    .reset_index()\n",
    "    .pivot_table(index=\"Date\", columns=\"state\", values=\"UnemploymentRate\")\n",
    ")\n",
    "unemp_all.head()"
   ]
  },
  {
   "cell_type": "code",
   "execution_count": 93,
   "metadata": {},
   "outputs": [
    {
     "data": {
      "text/html": [
       "<div>\n",
       "<style scoped>\n",
       "    .dataframe tbody tr th:only-of-type {\n",
       "        vertical-align: middle;\n",
       "    }\n",
       "\n",
       "    .dataframe tbody tr th {\n",
       "        vertical-align: top;\n",
       "    }\n",
       "\n",
       "    .dataframe thead th {\n",
       "        text-align: right;\n",
       "    }\n",
       "</style>\n",
       "<table border=\"1\" class=\"dataframe\">\n",
       "  <thead>\n",
       "    <tr style=\"text-align: right;\">\n",
       "      <th>state</th>\n",
       "      <th>Arizona</th>\n",
       "      <th>California</th>\n",
       "      <th>Florida</th>\n",
       "      <th>Illinois</th>\n",
       "      <th>Michigan</th>\n",
       "      <th>New York</th>\n",
       "      <th>Texas</th>\n",
       "    </tr>\n",
       "    <tr>\n",
       "      <th>Date</th>\n",
       "      <th></th>\n",
       "      <th></th>\n",
       "      <th></th>\n",
       "      <th></th>\n",
       "      <th></th>\n",
       "      <th></th>\n",
       "      <th></th>\n",
       "    </tr>\n",
       "  </thead>\n",
       "  <tbody>\n",
       "    <tr>\n",
       "      <td>2000-01-01</td>\n",
       "      <td>4.1</td>\n",
       "      <td>5.0</td>\n",
       "      <td>3.7</td>\n",
       "      <td>4.2</td>\n",
       "      <td>3.3</td>\n",
       "      <td>4.7</td>\n",
       "      <td>4.6</td>\n",
       "    </tr>\n",
       "    <tr>\n",
       "      <td>2000-02-01</td>\n",
       "      <td>4.1</td>\n",
       "      <td>5.0</td>\n",
       "      <td>3.7</td>\n",
       "      <td>4.2</td>\n",
       "      <td>3.2</td>\n",
       "      <td>4.7</td>\n",
       "      <td>4.6</td>\n",
       "    </tr>\n",
       "    <tr>\n",
       "      <td>2000-03-01</td>\n",
       "      <td>4.0</td>\n",
       "      <td>5.0</td>\n",
       "      <td>3.7</td>\n",
       "      <td>4.3</td>\n",
       "      <td>3.2</td>\n",
       "      <td>4.6</td>\n",
       "      <td>4.5</td>\n",
       "    </tr>\n",
       "    <tr>\n",
       "      <td>2000-04-01</td>\n",
       "      <td>4.0</td>\n",
       "      <td>5.1</td>\n",
       "      <td>3.7</td>\n",
       "      <td>4.3</td>\n",
       "      <td>3.3</td>\n",
       "      <td>4.6</td>\n",
       "      <td>4.4</td>\n",
       "    </tr>\n",
       "    <tr>\n",
       "      <td>2000-05-01</td>\n",
       "      <td>4.0</td>\n",
       "      <td>5.1</td>\n",
       "      <td>3.7</td>\n",
       "      <td>4.3</td>\n",
       "      <td>3.5</td>\n",
       "      <td>4.6</td>\n",
       "      <td>4.3</td>\n",
       "    </tr>\n",
       "  </tbody>\n",
       "</table>\n",
       "</div>"
      ],
      "text/plain": [
       "state       Arizona  California  Florida  Illinois  Michigan  New York  Texas\n",
       "Date                                                                         \n",
       "2000-01-01      4.1         5.0      3.7       4.2       3.3       4.7    4.6\n",
       "2000-02-01      4.1         5.0      3.7       4.2       3.2       4.7    4.6\n",
       "2000-03-01      4.0         5.0      3.7       4.3       3.2       4.6    4.5\n",
       "2000-04-01      4.0         5.1      3.7       4.3       3.3       4.6    4.4\n",
       "2000-05-01      4.0         5.1      3.7       4.3       3.5       4.6    4.3"
      ]
     },
     "execution_count": 93,
     "metadata": {},
     "output_type": "execute_result"
    }
   ],
   "source": [
    "#subset of the columns \n",
    "states = [\n",
    "    \"Arizona\", \"California\", \"Florida\", \"Illinois\",\n",
    "    \"Michigan\", \"New York\", \"Texas\"\n",
    "]\n",
    "unemp = unemp_all[states]\n",
    "unemp.head()"
   ]
  },
  {
   "cell_type": "markdown",
   "metadata": {},
   "source": [
    "## Exercise 1"
   ]
  },
  {
   "cell_type": "markdown",
   "metadata": {},
   "source": [
    "**Looking at the unemp DataFrame above, can you identify the index? The columns? You can use the cell below to verify your visual intuition.**"
   ]
  },
  {
   "cell_type": "code",
   "execution_count": 94,
   "metadata": {},
   "outputs": [
    {
     "data": {
      "text/plain": [
       "DatetimeIndex(['2000-01-01', '2000-02-01', '2000-03-01', '2000-04-01',\n",
       "               '2000-05-01', '2000-06-01', '2000-07-01', '2000-08-01',\n",
       "               '2000-09-01', '2000-10-01',\n",
       "               ...\n",
       "               '2017-03-01', '2017-04-01', '2017-05-01', '2017-06-01',\n",
       "               '2017-07-01', '2017-08-01', '2017-09-01', '2017-10-01',\n",
       "               '2017-11-01', '2017-12-01'],\n",
       "              dtype='datetime64[ns]', name='Date', length=216, freq=None)"
      ]
     },
     "execution_count": 94,
     "metadata": {},
     "output_type": "execute_result"
    }
   ],
   "source": [
    "#index\n",
    "unemp.index"
   ]
  },
  {
   "cell_type": "code",
   "execution_count": 95,
   "metadata": {},
   "outputs": [
    {
     "data": {
      "text/plain": [
       "Index(['Arizona', 'California', 'Florida', 'Illinois', 'Michigan', 'New York',\n",
       "       'Texas'],\n",
       "      dtype='object', name='state')"
      ]
     },
     "execution_count": 95,
     "metadata": {},
     "output_type": "execute_result"
    }
   ],
   "source": [
    "#columns\n",
    "unemp.columns"
   ]
  },
  {
   "cell_type": "markdown",
   "metadata": {},
   "source": [
    "## Exercise 2\n",
    "\n",
    "**Do the following exercises in separate code cells below:**\n",
    "\n",
    "1. **At each date, what is the minimum unemployment rate across all states in our sample?**"
   ]
  },
  {
   "cell_type": "code",
   "execution_count": 96,
   "metadata": {},
   "outputs": [
    {
     "data": {
      "text/plain": [
       "state\n",
       "Arizona       3.6\n",
       "California    4.5\n",
       "Florida       3.1\n",
       "Illinois      4.2\n",
       "Michigan      3.2\n",
       "New York      4.2\n",
       "Texas         3.9\n",
       "dtype: float64"
      ]
     },
     "execution_count": 96,
     "metadata": {},
     "output_type": "execute_result"
    }
   ],
   "source": [
    "# min unemployment rate by state\n",
    "unemp.min()\n",
    "\n",
    "#alternatively, we can use unemp.agg(min)"
   ]
  },
  {
   "cell_type": "code",
   "execution_count": 97,
   "metadata": {},
   "outputs": [
    {
     "data": {
      "text/plain": [
       "Date\n",
       "2000-01-01    3.3\n",
       "2000-02-01    3.2\n",
       "2000-03-01    3.2\n",
       "2000-04-01    3.3\n",
       "2000-05-01    3.5\n",
       "             ... \n",
       "2017-08-01    4.0\n",
       "2017-09-01    3.9\n",
       "2017-10-01    3.9\n",
       "2017-11-01    3.9\n",
       "2017-12-01    3.9\n",
       "Length: 216, dtype: float64"
      ]
     },
     "execution_count": 97,
     "metadata": {},
     "output_type": "execute_result"
    }
   ],
   "source": [
    "# The argument axis=1 allows to search within rows. This gives the min overall for a given date\n",
    "unemp.min(axis=1)"
   ]
  },
  {
   "cell_type": "markdown",
   "metadata": {},
   "source": [
    "2. **What was the median unemployment rate in each state?**"
   ]
  },
  {
   "cell_type": "code",
   "execution_count": 98,
   "metadata": {},
   "outputs": [
    {
     "data": {
      "text/plain": [
       "state\n",
       "Arizona       5.80\n",
       "California    6.50\n",
       "Florida       5.35\n",
       "Illinois      6.15\n",
       "Michigan      7.00\n",
       "New York      5.70\n",
       "Texas         5.40\n",
       "dtype: float64"
      ]
     },
     "execution_count": 98,
     "metadata": {},
     "output_type": "execute_result"
    }
   ],
   "source": [
    "# median unemployment rate by state\n",
    "unemp.median()"
   ]
  },
  {
   "cell_type": "markdown",
   "metadata": {},
   "source": [
    "3. **What was the maximum unemployment rate across the states in our sample? What state did it happen in? In what month/year was this achieved?**\n",
    "        Hint 1: What Python type (not dtype) is returned by the aggregation?\n",
    "        Hint 2: Read documentation for the method idxmax"
   ]
  },
  {
   "cell_type": "code",
   "execution_count": 99,
   "metadata": {},
   "outputs": [
    {
     "data": {
      "text/plain": [
       "14.6"
      ]
     },
     "execution_count": 99,
     "metadata": {},
     "output_type": "execute_result"
    }
   ],
   "source": [
    "# max unemployment rate across all states and Year\n",
    "unemp.max().max()"
   ]
  },
  {
   "cell_type": "code",
   "execution_count": 100,
   "metadata": {},
   "outputs": [
    {
     "data": {
      "text/plain": [
       "'Michigan'"
      ]
     },
     "execution_count": 100,
     "metadata": {},
     "output_type": "execute_result"
    }
   ],
   "source": [
    "#type(unemp)\n",
    "unemp.max().idxmax()\n",
    "\n",
    "#if we use unemp.max() we get the max value across all states\n",
    "#but we want to know more: \n",
    "    #we want the state that had the max of all max unemployment rates and the month/year in which it has been achieved"
   ]
  },
  {
   "cell_type": "code",
   "execution_count": 101,
   "metadata": {},
   "outputs": [
    {
     "data": {
      "text/plain": [
       "Timestamp('2009-06-01 00:00:00')"
      ]
     },
     "execution_count": 101,
     "metadata": {},
     "output_type": "execute_result"
    }
   ],
   "source": [
    "unemp.max(axis=1).idxmax() \n",
    "\n",
    "#we can check whether for this date Michigan registered indeed the highest value by doing unemp.loc[\"06/01/2009\",:]\n",
    "#we will get True"
   ]
  },
  {
   "cell_type": "markdown",
   "metadata": {},
   "source": [
    "4. **Classify each state as high or low volatility based on whether the variance of their unemployment is above or below 4.**\n"
   ]
  },
  {
   "cell_type": "code",
   "execution_count": 102,
   "metadata": {},
   "outputs": [
    {
     "data": {
      "text/plain": [
       "state\n",
       "Arizona       High\n",
       "California    High\n",
       "Florida       High\n",
       "Illinois       Low\n",
       "Michigan      High\n",
       "New York       Low\n",
       "Texas          Low\n",
       "dtype: object"
      ]
     },
     "execution_count": 102,
     "metadata": {},
     "output_type": "execute_result"
    }
   ],
   "source": [
    "# high or low volatility\n",
    "\n",
    "# 1. we create our aggregation function\n",
    "\n",
    "def high_or_low_vol(v):\n",
    "    if v.var() > 4:\n",
    "        out = \"High\"\n",
    "    else:\n",
    "        out = \"Low\"\n",
    "        \n",
    "    return out\n",
    "\n",
    "# 2. we apply the function via the agg method\n",
    "\n",
    "unemp.agg(high_or_low_vol)"
   ]
  },
  {
   "cell_type": "markdown",
   "metadata": {},
   "source": [
    "## Exercise 3"
   ]
  },
  {
   "cell_type": "markdown",
   "metadata": {},
   "source": [
    "**Imagine that we want to determine whether unemployment was high (> 6.5),medium (4.5 < x <= 6.5), or low (<= 4.5) for each state and each month.**"
   ]
  },
  {
   "cell_type": "markdown",
   "metadata": {},
   "source": [
    "1. **Write a Python function that takes a single number as an input and outputs a single string noting if that number is high, medium, or low.** "
   ]
  },
  {
   "cell_type": "code",
   "execution_count": 103,
   "metadata": {},
   "outputs": [],
   "source": [
    "# Part 1: Write a Python function to classify unemployment levels.\n",
    "\n",
    "def unemployment_levels(ul):\n",
    "    if ul > 6.5:\n",
    "        return \"high\"\n",
    "    elif 4.5 < ul <= 6.5:\n",
    "    #elif ul < 6.5: #equivalent to the line above\n",
    "        return \"medium\"\n",
    "    else:\n",
    "        return \"low\"\n",
    "    \n",
    "    return ul"
   ]
  },
  {
   "cell_type": "markdown",
   "metadata": {},
   "source": [
    "2. **Pass your function to `applymap` (quiz: why `applymap` and not `agg` or `apply`?) and save the result in a new DataFrame called `unemp_bins`.**  "
   ]
  },
  {
   "cell_type": "code",
   "execution_count": 104,
   "metadata": {},
   "outputs": [
    {
     "data": {
      "text/html": [
       "<div>\n",
       "<style scoped>\n",
       "    .dataframe tbody tr th:only-of-type {\n",
       "        vertical-align: middle;\n",
       "    }\n",
       "\n",
       "    .dataframe tbody tr th {\n",
       "        vertical-align: top;\n",
       "    }\n",
       "\n",
       "    .dataframe thead th {\n",
       "        text-align: right;\n",
       "    }\n",
       "</style>\n",
       "<table border=\"1\" class=\"dataframe\">\n",
       "  <thead>\n",
       "    <tr style=\"text-align: right;\">\n",
       "      <th>state</th>\n",
       "      <th>Arizona</th>\n",
       "      <th>California</th>\n",
       "      <th>Florida</th>\n",
       "      <th>Illinois</th>\n",
       "      <th>Michigan</th>\n",
       "      <th>New York</th>\n",
       "      <th>Texas</th>\n",
       "    </tr>\n",
       "    <tr>\n",
       "      <th>Date</th>\n",
       "      <th></th>\n",
       "      <th></th>\n",
       "      <th></th>\n",
       "      <th></th>\n",
       "      <th></th>\n",
       "      <th></th>\n",
       "      <th></th>\n",
       "    </tr>\n",
       "  </thead>\n",
       "  <tbody>\n",
       "    <tr>\n",
       "      <td>2000-01-01</td>\n",
       "      <td>low</td>\n",
       "      <td>medium</td>\n",
       "      <td>low</td>\n",
       "      <td>low</td>\n",
       "      <td>low</td>\n",
       "      <td>medium</td>\n",
       "      <td>medium</td>\n",
       "    </tr>\n",
       "    <tr>\n",
       "      <td>2000-02-01</td>\n",
       "      <td>low</td>\n",
       "      <td>medium</td>\n",
       "      <td>low</td>\n",
       "      <td>low</td>\n",
       "      <td>low</td>\n",
       "      <td>medium</td>\n",
       "      <td>medium</td>\n",
       "    </tr>\n",
       "    <tr>\n",
       "      <td>2000-03-01</td>\n",
       "      <td>low</td>\n",
       "      <td>medium</td>\n",
       "      <td>low</td>\n",
       "      <td>low</td>\n",
       "      <td>low</td>\n",
       "      <td>medium</td>\n",
       "      <td>low</td>\n",
       "    </tr>\n",
       "    <tr>\n",
       "      <td>2000-04-01</td>\n",
       "      <td>low</td>\n",
       "      <td>medium</td>\n",
       "      <td>low</td>\n",
       "      <td>low</td>\n",
       "      <td>low</td>\n",
       "      <td>medium</td>\n",
       "      <td>low</td>\n",
       "    </tr>\n",
       "    <tr>\n",
       "      <td>2000-05-01</td>\n",
       "      <td>low</td>\n",
       "      <td>medium</td>\n",
       "      <td>low</td>\n",
       "      <td>low</td>\n",
       "      <td>low</td>\n",
       "      <td>medium</td>\n",
       "      <td>low</td>\n",
       "    </tr>\n",
       "  </tbody>\n",
       "</table>\n",
       "</div>"
      ],
      "text/plain": [
       "state      Arizona California Florida Illinois Michigan New York   Texas\n",
       "Date                                                                    \n",
       "2000-01-01     low     medium     low      low      low   medium  medium\n",
       "2000-02-01     low     medium     low      low      low   medium  medium\n",
       "2000-03-01     low     medium     low      low      low   medium     low\n",
       "2000-04-01     low     medium     low      low      low   medium     low\n",
       "2000-05-01     low     medium     low      low      low   medium     low"
      ]
     },
     "execution_count": 104,
     "metadata": {},
     "output_type": "execute_result"
    }
   ],
   "source": [
    "# Part 2: Pass your function from part 1 to applymap\n",
    "#Apply map allows to apply a function that takes a scalar and returns a scalar to a dataframe\n",
    "\n",
    "unemp_bins = unemp.applymap(unemployment_levels) #replace this comment with your code!!\n",
    "unemp_bins.head()"
   ]
  },
  {
   "cell_type": "markdown",
   "metadata": {},
   "source": [
    "   3. **(Challenging) Use another transform on `unemp_bins` to count how many times each state had each of the three classifications.**\n",
    "    - Hint 1: Will this value counting function be a Series or scalar transform?  \n",
    "    - Hint 2: Try googling \"pandas count unique value\" or something similar to find the right transform.  \n",
    " "
   ]
  },
  {
   "cell_type": "code",
   "execution_count": 105,
   "metadata": {},
   "outputs": [
    {
     "data": {
      "text/html": [
       "<div>\n",
       "<style scoped>\n",
       "    .dataframe tbody tr th:only-of-type {\n",
       "        vertical-align: middle;\n",
       "    }\n",
       "\n",
       "    .dataframe tbody tr th {\n",
       "        vertical-align: top;\n",
       "    }\n",
       "\n",
       "    .dataframe thead th {\n",
       "        text-align: right;\n",
       "    }\n",
       "</style>\n",
       "<table border=\"1\" class=\"dataframe\">\n",
       "  <thead>\n",
       "    <tr style=\"text-align: right;\">\n",
       "      <th>state</th>\n",
       "      <th>Arizona</th>\n",
       "      <th>California</th>\n",
       "      <th>Florida</th>\n",
       "      <th>Illinois</th>\n",
       "      <th>Michigan</th>\n",
       "      <th>New York</th>\n",
       "      <th>Texas</th>\n",
       "    </tr>\n",
       "  </thead>\n",
       "  <tbody>\n",
       "    <tr>\n",
       "      <td>high</td>\n",
       "      <td>75</td>\n",
       "      <td>106</td>\n",
       "      <td>68</td>\n",
       "      <td>91</td>\n",
       "      <td>142</td>\n",
       "      <td>65</td>\n",
       "      <td>51</td>\n",
       "    </tr>\n",
       "    <tr>\n",
       "      <td>low</td>\n",
       "      <td>44</td>\n",
       "      <td>4</td>\n",
       "      <td>69</td>\n",
       "      <td>19</td>\n",
       "      <td>17</td>\n",
       "      <td>22</td>\n",
       "      <td>58</td>\n",
       "    </tr>\n",
       "    <tr>\n",
       "      <td>medium</td>\n",
       "      <td>97</td>\n",
       "      <td>106</td>\n",
       "      <td>79</td>\n",
       "      <td>106</td>\n",
       "      <td>57</td>\n",
       "      <td>129</td>\n",
       "      <td>107</td>\n",
       "    </tr>\n",
       "  </tbody>\n",
       "</table>\n",
       "</div>"
      ],
      "text/plain": [
       "state   Arizona  California  Florida  Illinois  Michigan  New York  Texas\n",
       "high         75         106       68        91       142        65     51\n",
       "low          44           4       69        19        17        22     58\n",
       "medium       97         106       79       106        57       129    107"
      ]
     },
     "execution_count": 105,
     "metadata": {},
     "output_type": "execute_result"
    }
   ],
   "source": [
    "# Part 3: Count the number of times each state had each classification.\n",
    "\n",
    "# we count the number of times each state had each classification. \n",
    "def count_bins(cb):\n",
    "    var = cb.value_counts()   \n",
    "    return var\n",
    "\n",
    "unemp_count = unemp_bins.apply(count_bins)\n",
    "unemp_count"
   ]
  },
  {
   "cell_type": "code",
   "execution_count": 106,
   "metadata": {},
   "outputs": [
    {
     "data": {
      "text/html": [
       "<div>\n",
       "<style scoped>\n",
       "    .dataframe tbody tr th:only-of-type {\n",
       "        vertical-align: middle;\n",
       "    }\n",
       "\n",
       "    .dataframe tbody tr th {\n",
       "        vertical-align: top;\n",
       "    }\n",
       "\n",
       "    .dataframe thead th {\n",
       "        text-align: right;\n",
       "    }\n",
       "</style>\n",
       "<table border=\"1\" class=\"dataframe\">\n",
       "  <thead>\n",
       "    <tr style=\"text-align: right;\">\n",
       "      <th></th>\n",
       "      <th>Arizona</th>\n",
       "      <th>California</th>\n",
       "      <th>Florida</th>\n",
       "      <th>Illinois</th>\n",
       "      <th>Michigan</th>\n",
       "      <th>New York</th>\n",
       "      <th>Texas</th>\n",
       "    </tr>\n",
       "  </thead>\n",
       "  <tbody>\n",
       "    <tr>\n",
       "      <td>low</td>\n",
       "      <td>44.0</td>\n",
       "      <td>4.0</td>\n",
       "      <td>69.0</td>\n",
       "      <td>19.0</td>\n",
       "      <td>17.0</td>\n",
       "      <td>22.0</td>\n",
       "      <td>58.0</td>\n",
       "    </tr>\n",
       "    <tr>\n",
       "      <td>medium</td>\n",
       "      <td>97.0</td>\n",
       "      <td>106.0</td>\n",
       "      <td>79.0</td>\n",
       "      <td>106.0</td>\n",
       "      <td>57.0</td>\n",
       "      <td>129.0</td>\n",
       "      <td>107.0</td>\n",
       "    </tr>\n",
       "    <tr>\n",
       "      <td>high</td>\n",
       "      <td>75.0</td>\n",
       "      <td>106.0</td>\n",
       "      <td>68.0</td>\n",
       "      <td>91.0</td>\n",
       "      <td>142.0</td>\n",
       "      <td>65.0</td>\n",
       "      <td>51.0</td>\n",
       "    </tr>\n",
       "  </tbody>\n",
       "</table>\n",
       "</div>"
      ],
      "text/plain": [
       "        Arizona  California  Florida  Illinois  Michigan  New York  Texas\n",
       "low        44.0         4.0     69.0      19.0      17.0      22.0   58.0\n",
       "medium     97.0       106.0     79.0     106.0      57.0     129.0  107.0\n",
       "high       75.0       106.0     68.0      91.0     142.0      65.0   51.0"
      ]
     },
     "execution_count": 106,
     "metadata": {},
     "output_type": "execute_result"
    }
   ],
   "source": [
    "# alternative solution: value_counts is a series function (columns) so I loop over columns to have the frequencies for each states, then append each series\n",
    "unemp_freq_cat = pd.DataFrame()\n",
    "for iter in unemp_bins.columns:\n",
    "    series=unemp_bins[iter].value_counts()\n",
    "    unemp_freq_cat=unemp_freq_cat.append(series)\n",
    "unemp_freq_cat=unemp_freq_cat[['low', 'medium', 'high']]\n",
    "# We can transpose the table to make it more readable, matter of preferences\n",
    "unemp_freq_catT=unemp_freq_cat.T\n",
    "unemp_freq_catT"
   ]
  },
  {
   "cell_type": "markdown",
   "metadata": {},
   "source": [
    "4. **Construct a horizontal bar chart of the number of occurrences of each level with one bar per state and classification (21 total bars).** "
   ]
  },
  {
   "cell_type": "code",
   "execution_count": 107,
   "metadata": {},
   "outputs": [
    {
     "data": {
      "text/plain": [
       "<matplotlib.axes._subplots.AxesSubplot at 0x1bd9a14a648>"
      ]
     },
     "execution_count": 107,
     "metadata": {},
     "output_type": "execute_result"
    },
    {
     "data": {
      "image/png": "[encoded data removed]",
      "text/plain": [
       "<Figure size 576x576 with 1 Axes>"
      ]
     },
     "metadata": {},
     "output_type": "display_data"
    },
    {
     "data": {
      "image/png": "[encoded data removed]",
      "text/plain": [
       "<Figure size 576x576 with 1 Axes>"
      ]
     },
     "metadata": {},
     "output_type": "display_data"
    }
   ],
   "source": [
    "## then make a horizontal bar chart here\n",
    "unemp_count.T.plot.barh(figsize=(8,8))\n",
    "unemp_count.plot.barh(figsize=(8,8))"
   ]
  },
  {
   "cell_type": "markdown",
   "metadata": {},
   "source": [
    "5. **(Challenging) Repeat the previous step, but count how many states had each classification in each month. Which month had the most states with high unemployment? What about medium and low?**  "
   ]
  },
  {
   "cell_type": "code",
   "execution_count": 108,
   "metadata": {},
   "outputs": [
    {
     "name": "stdout",
     "output_type": "stream",
     "text": [
      "The month with high unemployment is 2009-04-01 00:00:00.\n",
      "The month with medium unemployment is 2001-09-01 00:00:00.\n",
      "The month with low unemployment is 2000-08-01 00:00:00.\n"
     ]
    }
   ],
   "source": [
    "# Part 4: Apply the same transform from part 4, but to each date instead of to each state.\n",
    "\n",
    "#a solution based on this lecture has not been found :p\n",
    "#alternative solution: we transpose the previous table in order to be able to apply the same function as before \n",
    "    #for more informtion on reshaping the DataFrames, check Lecture 6\n",
    "unemp_binsT = unemp_bins.T\n",
    "unemp_binsT\n",
    "\n",
    "#we call the function previously created for the transposed DataFrame\n",
    "unemp_countT = unemp_binsT.apply(count_bins)\n",
    "unemp_countT.T.head()\n",
    "\n",
    "#we create a for loop to answer the question\n",
    "times = [\"high\", \"medium\", \"low\"]\n",
    "\n",
    "for x in times:\n",
    "    m=unemp_countT.T[x].idxmax()\n",
    "    \n",
    "    print(f\"The month with {x} unemployment is {m}.\")"
   ]
  },
  {
   "cell_type": "markdown",
   "metadata": {},
   "source": [
    "## Exercise 4"
   ]
  },
  {
   "cell_type": "markdown",
   "metadata": {},
   "source": [
    "1. **For a single state of your choice, determine what the mean unemployment is during \"Low\", \"Medium\", and \"High\" unemployment times (recall your `unemp_bins` DataFrame from the exercise above).**\n",
    "    - Think about how you would do this for all the states in our sample and write your thoughts... We will soon learn tools that will *greatly* simplify operations like this that operate on distinct *groups* of data at a time.  "
   ]
  },
  {
   "cell_type": "code",
   "execution_count": 109,
   "metadata": {},
   "outputs": [
    {
     "name": "stdout",
     "output_type": "stream",
     "text": [
      "During high unemployment times, the mean unemployment in Arizona is 8.73333333333333.\n",
      "During medium unemployment times, the mean unemployment in Arizona is 5.436082474226807.\n",
      "During low unemployment times, the mean unemployment in Arizona is 4.0636363636363635.\n"
     ]
    }
   ],
   "source": [
    "#The analysis is performed on Arizona\n",
    "\n",
    "times = [\"high\", \"medium\", \"low\"]\n",
    "\n",
    "for x in times:\n",
    "    Arizona_x  = unemp[\"Arizona\"].loc[unemp_bins[\"Arizona\"]==x].mean()\n",
    "\n",
    "    print(f\"During {x} unemployment times, the mean unemployment in Arizona is {Arizona_x}.\")"
   ]
  },
  {
   "cell_type": "code",
   "execution_count": 110,
   "metadata": {},
   "outputs": [
    {
     "data": {
      "text/plain": [
       "Arizona_Bins\n",
       "high      8.733333\n",
       "low       4.063636\n",
       "medium    5.436082\n",
       "Name: Arizona_Values, dtype: float64"
      ]
     },
     "execution_count": 110,
     "metadata": {},
     "output_type": "execute_result"
    }
   ],
   "source": [
    "#Alternative solution:\n",
    "\n",
    "# I chose Arizona. I extract both values and bin series, rename them and concatenate it into an new data frame.\n",
    "Arizona_bins=pd.Series(unemp_bins['Arizona'], name='Arizona_Bins')\n",
    "Arizona_val=pd.Series(unemp['Arizona'], name='Arizona_Values')\n",
    "Arizona_valbins = pd.concat([Arizona_bins, Arizona_val], axis=1)\n",
    "Arizona_valbins.head()\n",
    "Arizona_valbins.groupby('Arizona_Bins')['Arizona_Values'].mean()"
   ]
  },
  {
   "cell_type": "code",
   "execution_count": 111,
   "metadata": {},
   "outputs": [
    {
     "name": "stdout",
     "output_type": "stream",
     "text": [
      "Arizona - high: 8.73333333333333.\n",
      "Arizona - medium: 5.436082474226807.\n",
      "Arizona - low: 4.0636363636363635.\n",
      "California - high: 9.249056603773582.\n",
      "California - medium: 5.454716981132074.\n",
      "California - low: 4.5.\n",
      "Florida - high: 9.155882352941177.\n",
      "Florida - medium: 5.331645569620254.\n",
      "Florida - low: 3.807246376811594.\n",
      "Illinois - high: 8.740659340659343.\n",
      "Illinois - medium: 5.618867924528302.\n",
      "Illinois - low: 4.35263157894737.\n",
      "Michigan - high: 8.76267605633803.\n",
      "Michigan - medium: 5.4070175438596495.\n",
      "Michigan - low: 3.8764705882352946.\n",
      "New York - high: 8.16923076923077.\n",
      "New York - medium: 5.3612403100775206.\n",
      "New York - low: 4.340909090909091.\n",
      "Texas - high: 7.552941176470585.\n",
      "Texas - medium: 5.567289719626171.\n",
      "Texas - low: 4.298275862068967.\n"
     ]
    }
   ],
   "source": [
    "#Now, we perform the same analysis on all countries\n",
    "\n",
    "states = [\"Arizona\", \"California\", \"Florida\", \"Illinois\",\n",
    "          \"Michigan\", \"New York\", \"Texas\"]\n",
    "\n",
    "for y in states:\n",
    "    for x in times:\n",
    "        y_x  = unemp[y].loc[unemp_bins[y]==x].mean()\n",
    "\n",
    "        print(f\"{y} - {x}: {y_x}.\")"
   ]
  },
  {
   "cell_type": "markdown",
   "metadata": {},
   "source": [
    "2. **Which states in our sample performs the best during \"bad times?\" To determine this, compute the mean unemployment for each state only for months in which the mean unemployment rate in our sample is greater than 7.**  "
   ]
  },
  {
   "cell_type": "code",
   "execution_count": 112,
   "metadata": {},
   "outputs": [
    {
     "data": {
      "text/plain": [
       "state\n",
       "Texas    7.972727\n",
       "dtype: float64"
      ]
     },
     "execution_count": 112,
     "metadata": {},
     "output_type": "execute_result"
    }
   ],
   "source": [
    "# Between bracket, the condition that the value is greater than 7\n",
    "df=unemp[unemp>7].mean()\n",
    "df=df.loc[df==min(df)]\n",
    "df\n",
    "# There must be a way to be more concise"
   ]
  },
  {
   "cell_type": "code",
   "execution_count": 113,
   "metadata": {},
   "outputs": [
    {
     "name": "stdout",
     "output_type": "stream",
     "text": [
      "Arizona: 9.038461538461535\n",
      "California: 10.234210526315788\n",
      "Florida: 9.568965517241377\n",
      "Illinois: 9.423529411764704\n",
      "Michigan: 9.465384615384618\n",
      "New York: 8.286666666666667\n",
      "Texas: 7.972727272727272\n"
     ]
    }
   ],
   "source": [
    "#Alternative solution\n",
    "def unemployment_levels2(ul2):\n",
    "    if ul2 > 7:\n",
    "        return \"High\"\n",
    "    else:\n",
    "        return \"Low\"\n",
    "    \n",
    "    return ul2\n",
    "\n",
    "unemp_bins2 = unemp.applymap(unemployment_levels2)\n",
    "\n",
    "for s in states:\n",
    "    s_high  = unemp[s].loc[unemp_bins2[s]==\"High\"].mean()\n",
    "     \n",
    "    print(f\"{s}: {s_high}\")\n",
    "    \n",
    "#The 3 states that perform the best during high unemployment times (>7) are, in ascending order, Texas, New York, Arizona"
   ]
  }
 ],
 "metadata": {
  "date": 1584040758.8912327,
  "filename": "basics.rst",
  "kernelspec": {
   "display_name": "Python 3",
   "language": "python",
   "name": "python3"
  },
  "language_info": {
   "codemirror_mode": {
    "name": "ipython",
    "version": 3
   },
   "file_extension": ".py",
   "mimetype": "text/x-python",
   "name": "python",
   "nbconvert_exporter": "python",
   "pygments_lexer": "ipython3",
   "version": "3.7.4"
  },
  "title": "Basic Functionality"
 },
 "nbformat": 4,
 "nbformat_minor": 2
}
