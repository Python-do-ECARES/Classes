{
 "cells": [
  {
   "cell_type": "markdown",
   "metadata": {
    "slideshow": {
     "slide_type": "slide"
    }
   },
   "source": [
    "# Session 3: introduction to Python\n",
    "We will cover (more details about the topics below are available in the [Python Bible](https://docs.python.org/3.7/library/stdtypes.html)):\n",
    "* Numeric types, *int* and *float*, *booleans* operators and *strings* \n",
    "* Containers: *dictionaries*, *lists*, *sets*, *tuples*\n",
    " * We will not cover other containers, you can find them [here](https://docs.python.org/3.7/library/collections.html)\n",
    "* Introduction to functions, which we will cover more in-depth next week\n",
    "* Loops\n",
    "\n",
    "First, let's see the solutions to the exercises"
   ]
  },
  {
   "cell_type": "markdown",
   "metadata": {
    "slideshow": {
     "slide_type": "subslide"
    }
   },
   "source": [
    "# RISE: slideshow using jupyter notebook\n",
    "* Step 1: Follow the installation procedure in the [RISE webpage: Installation](https://rise.readthedocs.io/en/stable/installation.html)\n",
    " * If you don't use conda, consider using virtual environments ([pipenv](https://pipenv-fork.readthedocs.io/en/latest/)) instead of pip\n",
    "* Step 2: Write your code on jupyter lab or jupyter notebook (you can also use other editors, but you will have to organise the code after)\n",
    "* Step 3: Open jupyter notebook\n",
    "* Step 2: From the \"View\" tab select \"Cell Toolbar -> Slideshow\"\n",
    "* Step 5: Organise the slide type for each block of content (details for this on the [RISE webpage: Usage](https://rise.readthedocs.io/en/stable/usage.html))\n",
    "* Step 6: Use shortcuts or the \"Enter/Exit RISE slideshow\" button in your jupyter notebook to start the presentation"
   ]
  },
  {
   "cell_type": "markdown",
   "metadata": {
    "slideshow": {
     "slide_type": "slide"
    }
   },
   "source": [
    "### Exercise 1: Variables, Numbers and Strings\n",
    "\n",
    "You have a variable of type *int* and another one of type *float*.\n",
    "* They are both numeric types\n",
    "* *float* is used for floating-point numbers\n",
    " * We insert decimal floating-point numbers, and the computer approximates them to base 2 fractions\n",
    "* *int* is for integer numbers\n",
    "* You can also write complex numbers"
   ]
  },
  {
   "cell_type": "code",
   "execution_count": null,
   "metadata": {
    "slideshow": {
     "slide_type": "fragment"
    }
   },
   "outputs": [],
   "source": [
    "a = 40\n",
    "b = 4.0\n",
    "print(type(a))\n",
    "print(type(b))\n",
    "# Otherwise, you can write print(type(40)) and print(type(4.0)) instead of assigning values to variables"
   ]
  },
  {
   "cell_type": "markdown",
   "metadata": {
    "slideshow": {
     "slide_type": "subslide"
    }
   },
   "source": [
    "Convert the integer *a* to a *float*, and viceversa."
   ]
  },
  {
   "cell_type": "code",
   "execution_count": null,
   "metadata": {
    "slideshow": {
     "slide_type": "fragment"
    }
   },
   "outputs": [],
   "source": [
    "a = float(a)\n",
    "print(type(a))\n",
    "b = int(b)\n",
    "print(type(b))"
   ]
  },
  {
   "cell_type": "markdown",
   "metadata": {
    "slideshow": {
     "slide_type": "-"
    }
   },
   "source": [
    "The function *int()* truncates *float* numbers, and truncating a number is different from rounding it"
   ]
  },
  {
   "cell_type": "code",
   "execution_count": null,
   "metadata": {
    "slideshow": {
     "slide_type": "-"
    }
   },
   "outputs": [],
   "source": [
    "print(b)\n",
    "# Remember that b as float is 4.0\n",
    "temp = 4.6\n",
    "print(temp)\n",
    "temp = int(temp)\n",
    "print(temp)"
   ]
  },
  {
   "cell_type": "markdown",
   "metadata": {
    "slideshow": {
     "slide_type": "subslide"
    }
   },
   "source": [
    "Sum, subtract, multiply and divide the two variables above by one another. Print the output of each operation. Notice the type of the output."
   ]
  },
  {
   "cell_type": "code",
   "execution_count": null,
   "metadata": {
    "slideshow": {
     "slide_type": "-"
    }
   },
   "outputs": [],
   "source": [
    "c = a + b\n",
    "print(c)\n",
    "d = a - b\n",
    "print(d)\n",
    "e = a * b\n",
    "print(e)\n",
    "f = a / b\n",
    "print(f)\n",
    "# You can take an exponent using two asterisks\n",
    "print(a ** b)"
   ]
  },
  {
   "cell_type": "markdown",
   "metadata": {
    "slideshow": {
     "slide_type": "fragment"
    }
   },
   "source": [
    "Now, *a* is a *float* and *b* is an *integer*. Divide them by one another to get an *integer*. (Hint: a / b won't work. and \"/\" is different from \"//\" )"
   ]
  },
  {
   "cell_type": "code",
   "execution_count": null,
   "metadata": {
    "slideshow": {
     "slide_type": "-"
    }
   },
   "outputs": [],
   "source": [
    "a = int(a)\n",
    "g = a // b\n",
    "print(g)\n",
    "print(type(g))\n",
    "# The operation \"//\" is a floored quotient, meaning that it rounds the result to the greates integer below the floating result.\n",
    "# For example, you can try to change the numerator to (a + 11) and check the output "
   ]
  },
  {
   "cell_type": "markdown",
   "metadata": {
    "slideshow": {
     "slide_type": "slide"
    }
   },
   "source": [
    "Let's now move onto **strings**. Create two strings, one with the text *Hello* and the other with *World*. Print them."
   ]
  },
  {
   "cell_type": "code",
   "execution_count": null,
   "metadata": {
    "slideshow": {
     "slide_type": "-"
    }
   },
   "outputs": [],
   "source": [
    "string_1 = \"Hello\"\n",
    "string_2 = \"World\"\n",
    "print(string_1)\n",
    "print(string_2)"
   ]
  },
  {
   "cell_type": "code",
   "execution_count": null,
   "metadata": {
    "slideshow": {
     "slide_type": "fragment"
    }
   },
   "outputs": [],
   "source": [
    "# There are a lot of things that you can do using strings, just to mention a few of them:\n",
    "# Concatenate strings\n",
    "print(string_1 + string_2)\n",
    "# The output does not include a space, you can write print(string_1 + \" \" + string_2) to include it, or\n",
    "print(\" \".join([string_1, string_2]))\n",
    "# Add a string multiple times to itself\n",
    "print(string_1 * 4)\n",
    "# Slice the string\n",
    "print(string_1[0:2])\n",
    "# Get the number of elements in the string\n",
    "print(len(string_1))\n",
    "temp_2=\"Hello!\"\n",
    "print(len(temp_2))\n",
    "# Check if a string is part of another string!\n",
    "print(\"He\" in string_1)"
   ]
  },
  {
   "cell_type": "markdown",
   "metadata": {
    "slideshow": {
     "slide_type": "subslide"
    }
   },
   "source": [
    "Below a brief introduction to formatted string literals:"
   ]
  },
  {
   "cell_type": "code",
   "execution_count": null,
   "metadata": {
    "slideshow": {
     "slide_type": "fragment"
    }
   },
   "outputs": [],
   "source": [
    "temp_name = \"Fede\"\n",
    "temp_age = 24\n",
    "print(f\"Name: {temp_name}; age: {temp_age}\")"
   ]
  },
  {
   "cell_type": "markdown",
   "metadata": {
    "slideshow": {
     "slide_type": "-"
    }
   },
   "source": [
    "This might look useless for now, but wait for it!"
   ]
  },
  {
   "cell_type": "markdown",
   "metadata": {
    "slideshow": {
     "slide_type": "slide"
    }
   },
   "source": [
    "### Exercise 2: Lists\n",
    "\n",
    "Create a list including *a*, *b*, and *\"Hello, World!\"*. Print the entire list and its third element separately. (Hint = the index of the first element in Python is 0)"
   ]
  },
  {
   "cell_type": "code",
   "execution_count": null,
   "metadata": {
    "slideshow": {
     "slide_type": "-"
    }
   },
   "outputs": [],
   "source": [
    "list_1 = [a, b, string_1 + \", \" + string_2 +\"!\"]\n",
    "print(list_1)\n",
    "print(type(list_1))\n",
    "print(list_1[2])"
   ]
  },
  {
   "cell_type": "markdown",
   "metadata": {
    "slideshow": {
     "slide_type": "fragment"
    }
   },
   "source": [
    "Remove the element that is not a number, and replace it with an *int*."
   ]
  },
  {
   "cell_type": "code",
   "execution_count": null,
   "metadata": {
    "slideshow": {
     "slide_type": "-"
    }
   },
   "outputs": [],
   "source": [
    "list_1.remove(list_1[2])\n",
    "list_1.append(8)\n",
    "print(list_1)"
   ]
  },
  {
   "cell_type": "markdown",
   "metadata": {
    "slideshow": {
     "slide_type": "fragment"
    }
   },
   "source": [
    "Print the length of the list defined above."
   ]
  },
  {
   "cell_type": "code",
   "execution_count": null,
   "metadata": {
    "slideshow": {
     "slide_type": "-"
    }
   },
   "outputs": [],
   "source": [
    "print(len(list_1))"
   ]
  },
  {
   "cell_type": "code",
   "execution_count": null,
   "metadata": {
    "scrolled": true,
    "slideshow": {
     "slide_type": "subslide"
    }
   },
   "outputs": [],
   "source": [
    "# Add a list to itself multiple times\n",
    "print(f\"{list_1 * 3} \\nThe length of this list is: {len(list_1 * 3)}\")\n",
    "# Check if an element is in a list or not\n",
    "print(8.0 in list_1)\n",
    "print(8 not in list_1)\n",
    "# List slicing\n",
    "print(list_1[0])\n",
    "print(list_1[0:2])\n",
    "# Append an item. Remember that if you try to append an item using temp_list[3].append(40) you get an error\n",
    "# You can use temp_list = list_1[:] instead of the copy method\n",
    "temp_list = list_1.copy()\n",
    "temp_list.append(4)\n",
    "# Check the occurrences of an element in a list\n",
    "print(temp_list.count(4))\n",
    "# Check the min in the list (can use max(temp_list) for the max)\n",
    "print(min(temp_list))\n",
    "# The remove method removes the first item in the list with the specified value\n",
    "print(temp_list)\n",
    "temp_list.remove(4)\n",
    "print(temp_list)"
   ]
  },
  {
   "cell_type": "code",
   "execution_count": null,
   "metadata": {
    "slideshow": {
     "slide_type": "subslide"
    }
   },
   "outputs": [],
   "source": [
    "temp_list = list_1.copy()\n",
    "temp_list.append(4)\n",
    "# You can also use \".pop\" and del to remove items in a different way\n",
    "print(temp_list.pop(1))\n",
    "print(temp_list)\n",
    "del temp_list[1]\n",
    "print(temp_list)\n",
    "# For delete you can also use list slicing with steps\n",
    "temp_list2 = list(range(10))\n",
    "print(temp_list2)\n",
    "del temp_list2[0:10:2]\n",
    "print(temp_list2)"
   ]
  },
  {
   "cell_type": "code",
   "execution_count": null,
   "metadata": {
    "slideshow": {
     "slide_type": "fragment"
    }
   },
   "outputs": [],
   "source": [
    "# You can also create a list of lists (a matrix)\n",
    "temp_list3 = [list_1] * 3\n",
    "print(temp_list3)\n",
    "# The first element of this list is a list. You can slice the first element of the first list\n",
    "print(temp_list3[0])\n",
    "print(temp_list3[0][0])\n",
    "temp_list3.remove([40, 4, 8])\n",
    "print(temp_list3)\n",
    "temp_list3.append([20, 2, 4])\n",
    "print(temp_list3)\n",
    "print(temp_list3.pop(2))"
   ]
  },
  {
   "cell_type": "markdown",
   "metadata": {
    "slideshow": {
     "slide_type": "subslide"
    }
   },
   "source": [
    "#### List comprehension"
   ]
  },
  {
   "cell_type": "code",
   "execution_count": null,
   "metadata": {
    "slideshow": {
     "slide_type": "-"
    }
   },
   "outputs": [],
   "source": [
    "temp_list4 = [x for x in list_1]\n",
    "print(temp_list4)\n",
    "# This gives an outcome similar to the method .copy mentioned above\n",
    "temp_list5 = [x for x in range(10)]\n",
    "print(temp_list5)\n",
    "temp_list6 = [x for x in temp_list5 if temp_list5[x] % 2 is 0]\n",
    "print(temp_list6)"
   ]
  },
  {
   "cell_type": "code",
   "execution_count": null,
   "metadata": {
    "slideshow": {
     "slide_type": "fragment"
    }
   },
   "outputs": [],
   "source": [
    "# We can use the list index in a f string\n",
    "temp_list_name = [\"Fede\", \"Ale\"]\n",
    "temp_list_age = [24, 27]\n",
    "print(f\"Name: {temp_list_name[0]}; Age: {temp_list_age[0]} \\nName: {temp_list_name[1]}; Age: {temp_list_age[1]}\")"
   ]
  },
  {
   "cell_type": "markdown",
   "metadata": {
    "slideshow": {
     "slide_type": "slide"
    }
   },
   "source": [
    "### Exercise 3: Tuples, sets and dictionaries\n",
    "\n",
    "Create a tuple and a dictionary including a, b, and \"Hello, World!\"."
   ]
  },
  {
   "cell_type": "code",
   "execution_count": null,
   "metadata": {},
   "outputs": [],
   "source": [
    "tuple_1 = (a, b, string_1 + \", \" + string_2 +\"!\")\n",
    "print(tuple_1)\n",
    "dict_1 = {'int_1': a, 'int_2': b, 'string_1': string_1 + \", \" + string_2 +\"!\"}\n",
    "print(dict_1)"
   ]
  },
  {
   "cell_type": "markdown",
   "metadata": {},
   "source": [
    "The dictionary includes *key: value* pairs, and the keys within a dictionary must be unique. You can use strings or numbers as keys, but also tuples that contain strings, numbers, or other tuples."
   ]
  },
  {
   "cell_type": "markdown",
   "metadata": {
    "slideshow": {
     "slide_type": "subslide"
    }
   },
   "source": [
    "The tuples are immutable objects, meaning that: \"Such an object cannot be altered. A new object has to be created if a different value has to be stored.\""
   ]
  },
  {
   "cell_type": "code",
   "execution_count": null,
   "metadata": {},
   "outputs": [],
   "source": [
    "print(tuple_1[0])\n",
    "tuple_1[0] = 20"
   ]
  },
  {
   "cell_type": "markdown",
   "metadata": {
    "slideshow": {
     "slide_type": "fragment"
    }
   },
   "source": [
    "\n",
    "Add another *int* to the tuple."
   ]
  },
  {
   "cell_type": "code",
   "execution_count": null,
   "metadata": {},
   "outputs": [],
   "source": [
    "tuple_1 += (8,)\n",
    "print(tuple_1)"
   ]
  },
  {
   "cell_type": "markdown",
   "metadata": {
    "slideshow": {
     "slide_type": "subslide"
    }
   },
   "source": [
    "You can include lists inside a tuple"
   ]
  },
  {
   "cell_type": "code",
   "execution_count": null,
   "metadata": {},
   "outputs": [],
   "source": [
    "temp_tuple1 = ([\"Fede\", \"Ale\"], [24, 27])\n",
    "print(type(temp_tuple1))\n",
    "temp_tuple1[1][0] = 42\n",
    "print(temp_tuple1)"
   ]
  },
  {
   "cell_type": "code",
   "execution_count": null,
   "metadata": {},
   "outputs": [],
   "source": [
    "temp_tuple1[1] = [54, 57]"
   ]
  },
  {
   "cell_type": "markdown",
   "metadata": {
    "slideshow": {
     "slide_type": "subslide"
    }
   },
   "source": [
    "Print the value associated to the first key of the dictionary defined above."
   ]
  },
  {
   "cell_type": "code",
   "execution_count": null,
   "metadata": {},
   "outputs": [],
   "source": [
    "print(dict_1['int_1'])"
   ]
  },
  {
   "cell_type": "code",
   "execution_count": null,
   "metadata": {},
   "outputs": [],
   "source": [
    "temp_dict1 = dict_1.copy()\n",
    "print(temp_dict1)\n",
    "temp_dict1[\"goodbye_1\"] = \"Goodbye, World!\" \n",
    "print(temp_dict1)\n",
    "# To get the keys in different orders\n",
    "print(f\"Not sorted:{list(temp_dict1)} \\nSorted:{sorted(temp_dict1)}\")\n",
    "# You can check if a key is in the dictionary\n",
    "print(\"goodbye_1\" in temp_dict1)\n",
    "print(\"Goodbye, World!\" in temp_dict1[\"goodbye_1\"])\n",
    "# You can delete keys and their associated values using del\n",
    "del temp_dict1[\"goodbye_1\"]\n",
    "print(\"goodbye_1\" in temp_dict1)\n",
    "print(\"goodbye_1\" not in temp_dict1)"
   ]
  },
  {
   "cell_type": "markdown",
   "metadata": {
    "slideshow": {
     "slide_type": "subslide"
    }
   },
   "source": [
    "You can create a dictionary in different ways:"
   ]
  },
  {
   "cell_type": "code",
   "execution_count": null,
   "metadata": {
    "scrolled": true
   },
   "outputs": [],
   "source": [
    "# From a list of tuples\n",
    "temp_dict2 = dict([(\"int_1\", 40), (\"int_2\", 4), (\"string_1\", \"Hello, World!\")])\n",
    "print(temp_dict2)\n",
    "# From a list of lists\n",
    "temp_dict3 = dict([[\"int_1\", 40], [\"int_2\", 4], [\"string_1\", \"Hello, World!\"]])\n",
    "print(temp_dict3)\n",
    "temp_dict3[\"int_1\"] = 41\n",
    "print(temp_dict3)\n",
    "# Using a dict comprehension\n",
    "temp_dict4 = {x: [y, y**2] for x, y in [[\"int_1\", 1], [\"int_2\", 2], [\"int_3\", 3]]}\n",
    "print(temp_dict4)"
   ]
  },
  {
   "cell_type": "code",
   "execution_count": null,
   "metadata": {
    "slideshow": {
     "slide_type": "subslide"
    }
   },
   "outputs": [],
   "source": [
    "# With dict you need 2 arguments per element, but the second one containing values can include multiple elements\n",
    "temp_dict5 = dict([(\"int_1\", (40, 41, 42)), (\"int_2\", (4, 5, 6)), (\"string_1\", \"Hello, World!\")])\n",
    "print(temp_dict5)\n",
    "# If the values for a key are in a tuple, you will not be able to change them, but you can change the tuple assigned to that key\n",
    "temp_dict5[\"int_1\"] = (41, 42, 43)\n",
    "print(temp_dict5)\n",
    "# While you can do that using lists\n",
    "temp_dict6 = dict([[\"int_1\", [40, 41, 42]], [\"int_2\", [4, 5, 6]], [\"string_1\", \"Hello, World!\"]])\n",
    "print(temp_dict6)\n",
    "temp_dict6[\"int_1\"][0] = 41\n",
    "print(temp_dict6)"
   ]
  },
  {
   "cell_type": "markdown",
   "metadata": {
    "slideshow": {
     "slide_type": "subslide"
    }
   },
   "source": [
    "### Sets\n",
    "A set is an unordered collection with no duplicate elements"
   ]
  },
  {
   "cell_type": "code",
   "execution_count": null,
   "metadata": {},
   "outputs": [],
   "source": [
    "set_1 = {0, 1, 2, 3, 4, 5, 6, 7, 8, 9, 0, 1, 2, 3}\n",
    "set_2 = {0, 2, 4, 6, 10, 11, 12}\n",
    "print(set_1)\n",
    "print(type(set_1))\n",
    "# You can print the element in set_1 that are not in set_2, you can alse use \"set_1 - set_2\" to do that)\n",
    "print(set_1.difference(set_2))\n",
    "# You can print the union of two sets (use \"set_1 | set_2\")\n",
    "print(set_1.union(set_2))\n",
    "# The intesection (use \"set_1 & set_2\" or set_1.intersection(set_2))\n",
    "print(set_1 & set_2)\n",
    "# The symmetric difference for elements in set_1 or set_2 but not in both (you can use \"set_1 ^ set_2\")\n",
    "print(set_1.symmetric_difference(set_2))"
   ]
  },
  {
   "cell_type": "code",
   "execution_count": null,
   "metadata": {
    "slideshow": {
     "slide_type": "fragment"
    }
   },
   "outputs": [],
   "source": [
    "# Check if an element is in a set\n",
    "print(f\"Is 9 an element of set 1? {9 in set_1} \\nIs 9 an element of set 2? {9 in set_2}\")\n",
    "# You can use set comprehension to create a set\n",
    "set_3 = {x for x in range(10)}\n",
    "print(set_1.symmetric_difference(set_3))"
   ]
  },
  {
   "cell_type": "markdown",
   "metadata": {
    "slideshow": {
     "slide_type": "slide"
    }
   },
   "source": [
    "### Exercise 4: Functions and logical statements\n",
    "\n",
    "Create a function that takes an *int*, a *float* and a *string* as inputs and returns a list containing the three of them."
   ]
  },
  {
   "cell_type": "code",
   "execution_count": null,
   "metadata": {
    "slideshow": {
     "slide_type": "-"
    }
   },
   "outputs": [],
   "source": [
    "# The typing package is not necessary, but it helps in keeping track of the inputs' types and the type of the function output\n",
    "\n",
    "def func_1(int_1: int, float_1: float, str_1: str) -> list:\n",
    "    return [str(int_1), str(float_1), str_1]\n",
    "\n",
    "# Below the function using positional arguments, you can also use keyword arguments: func_1(int_1 = 4, float_1 = 3.0, str_1 = \"hello\")\n",
    "# You can use keyword arguments after positional arguments (as long as they do not assign values to the same argument), but not the opposite\n",
    "func_1(4, 3.0, 'hello')"
   ]
  },
  {
   "cell_type": "markdown",
   "metadata": {
    "slideshow": {
     "slide_type": "-"
    }
   },
   "source": [
    "The functions start with a \"def\", then you have the name of the function and the inputs inside round brackets.\n",
    "\n",
    "After the semicolons you can write the function, remember that you need one indentation level for each function (or loop). You can use 4 spaces or a tab to do the indent.\n",
    "\n",
    "The return at the end of the function gives the output from that function. If return is not assigned, Python will give by default an output \"None\" (same happens if return is included but it does not have an expression argument defined)"
   ]
  },
  {
   "cell_type": "markdown",
   "metadata": {
    "slideshow": {
     "slide_type": "subslide"
    }
   },
   "source": [
    "### More fun with FUNctions\n",
    "Remember to define the functions before they are called in the code. You can set default values for the parameters, and you have to order the parameters starting from the one that do not have default values"
   ]
  },
  {
   "cell_type": "code",
   "execution_count": null,
   "metadata": {
    "slideshow": {
     "slide_type": "-"
    }
   },
   "outputs": [],
   "source": [
    "def temp_func1(float_1: float, str_1: str, int_1: int = 4) -> list:\n",
    "    temp = temp_func2()\n",
    "    return [[str(int_1), str(float_1), str_1], temp]\n",
    "\n",
    "print(temp_func1(3.0, \"hello\"))\n",
    "\n",
    "def temp_func2(int_2: int = 8, float_2: float = 6.0, str_2: str = \"Hello\") -> list:\n",
    "    return [str(int_2), str(float_2), str_2]"
   ]
  },
  {
   "cell_type": "markdown",
   "metadata": {
    "slideshow": {
     "slide_type": "subslide"
    }
   },
   "source": [
    "You can use unpacking argument for lists and tuples (using \"*\"), while double asterisks for dictionaries, to get the values used in a function"
   ]
  },
  {
   "cell_type": "code",
   "execution_count": null,
   "metadata": {
    "slideshow": {
     "slide_type": "-"
    }
   },
   "outputs": [],
   "source": [
    "def temp_func3(float_1: float, str_1: str, int_1: int = 4) -> list:\n",
    "    return [str(int_1), str(float_1), str_1]\n",
    "\n",
    "temp_tuple2 = (6.0, \"Hello\", 8)\n",
    "print(temp_func3(*temp_tuple2))\n",
    "\n",
    "temp_dict7 = {\"int_1\": 8, \"float_1\": 6.0, \"str_1\": \"Hello\"}\n",
    "print(temp_func3(**temp_dict7))"
   ]
  },
  {
   "cell_type": "code",
   "execution_count": null,
   "metadata": {
    "slideshow": {
     "slide_type": "fragment"
    }
   },
   "outputs": [],
   "source": [
    "# You can (and should) include a documentation inside your function\n",
    "def temp_doc():\n",
    "    \"\"\" Usually the summary in the first line.\n",
    "    \n",
    "    Leave one black space between the summary and the rest of the text\n",
    "    \"\"\"\n",
    "    pass\n",
    "\n",
    "print(temp_doc.__doc__)"
   ]
  },
  {
   "cell_type": "markdown",
   "metadata": {
    "slideshow": {
     "slide_type": "subslide"
    }
   },
   "source": [
    "Use a lambda function to achieve the same result. It is a short function (in one line) that take parameters and an expression; the latter after the semicolons."
   ]
  },
  {
   "cell_type": "code",
   "execution_count": null,
   "metadata": {
    "slideshow": {
     "slide_type": "-"
    }
   },
   "outputs": [],
   "source": [
    "lambda_1 = lambda a, b, c : [str(a), str(b), c]\n",
    "print(lambda_1(4, 3.0, 'hello'))\n",
    "print(type(lambda_1(4, 3.0, 'hello')))"
   ]
  },
  {
   "cell_type": "markdown",
   "metadata": {
    "slideshow": {
     "slide_type": "subslide"
    }
   },
   "source": [
    "Let's move into something slightly more involving. This function checks the type of the input. \n",
    "* The part of code in the \"if\" statement environment is evaluated if the initial condition is *True*.\n",
    "* If the \"if\" condition evaluates to *False*, we jump to the elseif (or else) statement that follows the initial \"if\" statement. Elseif is short for else if.\n",
    "* You can include else or elseif statements, they are not necessary in the code. In that case, when the if statement is true, the code will continue as if there is an else statement containing *pass*, meaning that it does nothing when the if statement evaluates to *False* "
   ]
  },
  {
   "cell_type": "code",
   "execution_count": null,
   "metadata": {
    "slideshow": {
     "slide_type": "-"
    }
   },
   "outputs": [],
   "source": [
    "def func_2(x):\n",
    "    if type(x) == int:\n",
    "        print(f\"{x} is an integer\")\n",
    "    elif type(x) == float:\n",
    "        print(f\"{x} is a float\")"
   ]
  },
  {
   "cell_type": "markdown",
   "metadata": {
    "slideshow": {
     "slide_type": "subslide"
    }
   },
   "source": [
    "Notice that the function only checks if the input is an *int* or a *float*. Add an extra condition to check if the input is a *string*"
   ]
  },
  {
   "cell_type": "code",
   "execution_count": null,
   "metadata": {
    "slideshow": {
     "slide_type": "-"
    }
   },
   "outputs": [],
   "source": [
    "def func_2(x):\n",
    "    if type(x) == int:\n",
    "        print(f\"{x} is an integer\")\n",
    "    elif type(x) == float:\n",
    "        print(f\"{x} is a float\")\n",
    "    elif type(x) == str:\n",
    "        print(f\"{x} is a string\")"
   ]
  },
  {
   "cell_type": "code",
   "execution_count": null,
   "metadata": {
    "slideshow": {
     "slide_type": "fragment"
    }
   },
   "outputs": [],
   "source": [
    "func_2(\"hello\")"
   ]
  },
  {
   "cell_type": "markdown",
   "metadata": {
    "slideshow": {
     "slide_type": "subslide"
    }
   },
   "source": [
    "### Comparisons\n",
    "The comparisons yield boolean values (*True* or *False*). We will discuss:\n",
    "* Value comparisons, which compare the values of two objects\n",
    " * In this group you can find equality comparison \"==\" and \"!=\"\n",
    " * Order comparison, \"<\", \">\", \"<=\", \">=\"\n",
    "* Membership test, we have seen them previously as \"x in y\" and \"z not in f\"\n",
    "* Identity comparisons \"x is y\"and \"z is not f\""
   ]
  },
  {
   "cell_type": "markdown",
   "metadata": {
    "slideshow": {
     "slide_type": "subslide"
    }
   },
   "source": [
    "### Value comparisons"
   ]
  },
  {
   "cell_type": "code",
   "execution_count": null,
   "metadata": {
    "slideshow": {
     "slide_type": "-"
    }
   },
   "outputs": [],
   "source": [
    "# Comparison of numbers\n",
    "print(5 == 5)\n",
    "print(5 != 5)\n",
    "print(7 < 10)\n",
    "print(7 < 10 < 20)\n",
    "# This is pretty much the same as \"7 < 20 and 20 < 10\".\n",
    "# The first comparison evaluates \"True\", but the second is \"False\", so the presence of \"and\" gives a \"False\"\n",
    "print(7 < 20 < 10)\n",
    "# For strings the comparison is realised looking at the unicode of each character\n",
    "print(\"hello\" < \"Hello\")\n",
    "print(\"h unicode is\", ord('h'), \", H unicode is\", ord('H'))"
   ]
  },
  {
   "cell_type": "code",
   "execution_count": null,
   "metadata": {
    "slideshow": {
     "slide_type": "subslide"
    }
   },
   "outputs": [],
   "source": [
    "# You can compare collections if they have the same type (a list with a list, set with another set, etc.)\n",
    "# Lexicographic comparison\n",
    "print([1, 2, 3] < [1, 2, 4])\n",
    "print([1, 2] < [1, 2, 4])\n",
    "print([1, 3] < [1, 2, 4])\n",
    "# For dictionaries you can only use equality comparison, it evaluates the equality between (key, value) pairs\n",
    "temp_dict8 = {\"temp_1\": 1, \"temp_2\": 2}\n",
    "temp_dict9 = {\"temp_1\": 1, \"temp_2\": 2}\n",
    "print(temp_dict8 == temp_dict9)\n",
    "# For sets we have order comparison operators to realise subset and superset tests\n",
    "temp_set1 = {1, 2}\n",
    "temp_set2 = {1, 2, 3}\n",
    "print(temp_set1 == temp_set2)\n",
    "print(temp_set1 < temp_set2)\n",
    "print(temp_set1 > temp_set2)"
   ]
  },
  {
   "cell_type": "markdown",
   "metadata": {
    "slideshow": {
     "slide_type": "subslide"
    }
   },
   "source": [
    "### Identity comparison\n",
    "It is not the same as equality comparisons as you can see below"
   ]
  },
  {
   "cell_type": "code",
   "execution_count": null,
   "metadata": {
    "slideshow": {
     "slide_type": "-"
    }
   },
   "outputs": [],
   "source": [
    "temp_var = [1, 2]\n",
    "temp_var2 = [1, 2]\n",
    "print(id(temp_var2))\n",
    "print(id(temp_var))\n",
    "print(temp_var is temp_var2)\n",
    "print(temp_var == temp_var2)"
   ]
  },
  {
   "cell_type": "markdown",
   "metadata": {
    "slideshow": {
     "slide_type": "subslide"
    }
   },
   "source": [
    "### Boolean operations\n",
    "The boolean values are *True* and *False*. But what exactly evaluate to these two values?\n",
    "* Values for *False*: False, None, numeric zero of all types, empy strings and containers.\n",
    "* Values for *True*: All the values that do not evaluate to *False*.\n",
    "\n",
    "We can use the following operator and expressions:\n",
    "* The opeartor \"not\" yields *True* if its argument is false, *False* otherwise. In other words, it reverses the result.\n",
    "* The expression *x and y* first evaluates x; if x is false, its value is returned; otherwise, y is evaluated and the resulting value is returned.\n",
    "* The expression x or y first evaluates x; if x is true, its value is returned; otherwise, y is evaluated and the resulting value is returned."
   ]
  },
  {
   "cell_type": "code",
   "execution_count": null,
   "metadata": {
    "slideshow": {
     "slide_type": "subslide"
    }
   },
   "outputs": [],
   "source": [
    "x = 42\n",
    "y = 20\n",
    "z = 22\n",
    "print(not(x == 42 and y + z == x))\n",
    "print(not(x == 42 and y + z != x))\n",
    "print(x != 42 or y == 20)\n",
    "print(bool([]))\n",
    "print(bool([1]))"
   ]
  },
  {
   "cell_type": "markdown",
   "metadata": {
    "slideshow": {
     "slide_type": "slide"
    }
   },
   "source": [
    "### Exercise 5: For and While Loops\n",
    "\n",
    "Python allows you to loop over several type of objects. A simple loop looks like"
   ]
  },
  {
   "cell_type": "code",
   "execution_count": null,
   "metadata": {
    "slideshow": {
     "slide_type": "-"
    }
   },
   "outputs": [],
   "source": [
    "for x in range(10):\n",
    "    print(x, end=\" \")"
   ]
  },
  {
   "cell_type": "markdown",
   "metadata": {
    "slideshow": {
     "slide_type": "-"
    }
   },
   "source": [
    "The for statement iterates over the items of a sequence. In this case, the sequence of numbers generated by the *range(10)* function.\n",
    "\n",
    "You can notice that the for statement follows the order in which the items appear in the sequence."
   ]
  },
  {
   "cell_type": "markdown",
   "metadata": {
    "slideshow": {
     "slide_type": "subslide"
    }
   },
   "source": [
    "Modify the script above to loop over a list containing both numbers (*int* and/or *float*) and *string*. Print the type of the input at each iteration."
   ]
  },
  {
   "cell_type": "code",
   "execution_count": null,
   "metadata": {
    "slideshow": {
     "slide_type": "-"
    }
   },
   "outputs": [],
   "source": [
    "for x in [1, 3.0, \"hello\"]:\n",
    "    print(\"The input supplied is a \" + str(type(x)))\n",
    "    \n",
    "# If you want a better look for your print output use the \"__name__\" dunder method, more regarding dunder below\n",
    "for x in [1, 3.0, \"hello\"]:\n",
    "    print(\"The input supplied is a \" + str(type(x).__name__))"
   ]
  },
  {
   "cell_type": "markdown",
   "metadata": {
    "slideshow": {
     "slide_type": "subslide"
    }
   },
   "source": [
    "The next chunk of code fills in an empty list with a sequence of integers."
   ]
  },
  {
   "cell_type": "code",
   "execution_count": null,
   "metadata": {
    "slideshow": {
     "slide_type": "-"
    }
   },
   "outputs": [],
   "source": [
    "list_1 = []\n",
    "\n",
    "for i in range(10):\n",
    "    list_1.append(i)\n",
    "    \n",
    "print(list_1)"
   ]
  },
  {
   "cell_type": "markdown",
   "metadata": {
    "slideshow": {
     "slide_type": "subslide"
    }
   },
   "source": [
    "Produce the same result using a while loop instead (Hint: create a new list, call it *list_2*. Make sure to update the counter at each iteration of the loop)."
   ]
  },
  {
   "cell_type": "code",
   "execution_count": null,
   "metadata": {
    "slideshow": {
     "slide_type": "-"
    }
   },
   "outputs": [],
   "source": [
    "i = 0\n",
    "list_2 = []\n",
    "while i < 10:\n",
    "    list_2.append(i)\n",
    "    i += 1\n",
    "\n",
    "print(list_2)\n",
    "print(list_1 == list_2)"
   ]
  },
  {
   "cell_type": "markdown",
   "metadata": {
    "slideshow": {
     "slide_type": "-"
    }
   },
   "source": [
    "The *while* loop executes the code inside its environment as long as the initial condition (in this case \"i < 10\") evaluates to *True*"
   ]
  },
  {
   "cell_type": "markdown",
   "metadata": {
    "slideshow": {
     "slide_type": "fragment"
    }
   },
   "source": [
    "Sum the strings above to obtain *Hello, World!*. Print the result."
   ]
  },
  {
   "cell_type": "code",
   "execution_count": null,
   "metadata": {
    "slideshow": {
     "slide_type": "-"
    }
   },
   "outputs": [],
   "source": [
    "string_3 = string_1 + \", \" + string_2 +\"!\"\n",
    "print(string_3)\n",
    "# Otherwise, use:\n",
    "# print(string_1 + \", \" + string_2 +\"!\")"
   ]
  },
  {
   "cell_type": "code",
   "execution_count": null,
   "metadata": {
    "slideshow": {
     "slide_type": "subslide"
    }
   },
   "outputs": [],
   "source": [
    "# You can add more arguments in the for loop to unpack items\n",
    "temp_list7 = [[\"Fede\", 24, \"ULB\"], [\"Ale\", 27, \"Sapienza\"]]\n",
    "for x, y, z in temp_list7:\n",
    "    print(f\"Item in the list {x}, {y}, {z}\")\n"
   ]
  },
  {
   "cell_type": "markdown",
   "metadata": {
    "slideshow": {
     "slide_type": "subslide"
    }
   },
   "source": [
    "### Break statement\n",
    "The *break* statement exits the loop"
   ]
  },
  {
   "cell_type": "code",
   "execution_count": null,
   "metadata": {
    "slideshow": {
     "slide_type": "-"
    }
   },
   "outputs": [],
   "source": [
    "for i in range(10):\n",
    "    if i <= 7:\n",
    "        print(i, end=\" \")\n",
    "    else:\n",
    "        break"
   ]
  },
  {
   "cell_type": "code",
   "execution_count": null,
   "metadata": {
    "slideshow": {
     "slide_type": "fragment"
    }
   },
   "outputs": [],
   "source": [
    "i = 0\n",
    "while i < 10:\n",
    "    print(i, end=\" \")\n",
    "    i += 1\n",
    "    if i == 9:\n",
    "        break "
   ]
  },
  {
   "cell_type": "markdown",
   "metadata": {
    "slideshow": {
     "slide_type": "subslide"
    }
   },
   "source": [
    "### Continue statement\n",
    "The *continue* statement restart the loop moving to the next iteration"
   ]
  },
  {
   "cell_type": "code",
   "execution_count": null,
   "metadata": {
    "slideshow": {
     "slide_type": "-"
    }
   },
   "outputs": [],
   "source": [
    "temp_list8 = list(range(10))\n",
    "temp_list8[5] = \"five\"\n",
    "print(temp_list8)\n",
    "for i in temp_list8:\n",
    "    try:\n",
    "        print(i + 1, end=\" \")\n",
    "    except TypeError:\n",
    "        continue"
   ]
  },
  {
   "cell_type": "code",
   "execution_count": null,
   "metadata": {
    "slideshow": {
     "slide_type": "fragment"
    }
   },
   "outputs": [],
   "source": [
    "temp_list8 = list(range(10))\n",
    "temp_list8[5] = \"five\"\n",
    "i = 0\n",
    "while i < 10:\n",
    "    if type(temp_list8[i]) == int:\n",
    "        i += 1\n",
    "        continue\n",
    "    temp = temp_list8[i]\n",
    "    i += 1\n",
    "    print(temp, type(temp))"
   ]
  },
  {
   "cell_type": "markdown",
   "metadata": {
    "slideshow": {
     "slide_type": "subslide"
    }
   },
   "source": [
    "### Else clause\n",
    "The else clause is executed only if the for loop has been completed without breaks"
   ]
  },
  {
   "cell_type": "code",
   "execution_count": null,
   "metadata": {
    "slideshow": {
     "slide_type": "-"
    }
   },
   "outputs": [],
   "source": [
    "def example_1(container: list):\n",
    "    for i in container:\n",
    "        if type(i) == float:\n",
    "            print(\"This list contains at least one float\")\n",
    "            break\n",
    "    else:\n",
    "        print(\"This list does not contain a float\")\n",
    "        \n",
    "temp_list9 = [1, 2, 3, 4]\n",
    "temp_list10 = [1, 2, 3.0, 4]\n",
    "example_1(temp_list9)\n",
    "example_1(temp_list10)"
   ]
  },
  {
   "cell_type": "code",
   "execution_count": null,
   "metadata": {
    "slideshow": {
     "slide_type": "subslide"
    }
   },
   "outputs": [],
   "source": [
    "def example_2(i: int, n: int, c: int):\n",
    "    initial_value = i\n",
    "    while i <= n:\n",
    "        i += 1\n",
    "        if i == (2/3)*c:\n",
    "            print(f\"The value {i} is 2/3 of {c}. Stop the loop.\")\n",
    "            break\n",
    "    else:\n",
    "        print(f\"2/3 of {c} is {(2/3)*c}; it is not part of the interval [{initial_value}, {n}]\")\n",
    "\n",
    "example_2(0, 10, 12)\n",
    "example_2(0, 10, 30)"
   ]
  },
  {
   "cell_type": "markdown",
   "metadata": {
    "slideshow": {
     "slide_type": "slide"
    }
   },
   "source": [
    "### Classes in Python"
   ]
  },
  {
   "cell_type": "code",
   "execution_count": null,
   "metadata": {
    "slideshow": {
     "slide_type": "-"
    }
   },
   "outputs": [],
   "source": [
    "class Savings:\n",
    "    \n",
    "    def __init__(self, w):\n",
    "        self.wealth = w\n",
    "        self.new_wealth = w\n",
    "        \n",
    "    def salary(self, x):\n",
    "        self.new_wealth += x\n",
    "    \n",
    "    def expenditures(self, **kwargs):\n",
    "        total_expenditures = 0\n",
    "        for key, value in kwargs.items():\n",
    "            total_expenditures += value\n",
    "            print(f\"You plan to spend {value} euro on {key}\")\n",
    "        new_wealth = self.new_wealth - total_expenditures\n",
    "        if new_wealth < 0:\n",
    "            print(\"Insufficient savings, try decreasing your expenditures\")\n",
    "        else:\n",
    "            self.new_wealth = new_wealth\n",
    "            print(f\"Your new wealth after the expenditures will be: {self.new_wealth} euro\")\n",
    "            if self.new_wealth < self.wealth:\n",
    "                print(f\"You will be below your initial wealth by {self.wealth - self.new_wealth} euro\")\n",
    "            elif self.new_wealth == self.wealth:\n",
    "                print(f\"Your new wealth will be the same as the initial one: {self.new_wealth} euro\")\n",
    "            else:\n",
    "                print(f\"You will be above your initial wealth by {self.new_wealth - self.wealth} euro\")"
   ]
  },
  {
   "cell_type": "code",
   "execution_count": null,
   "metadata": {
    "slideshow": {
     "slide_type": "subslide"
    }
   },
   "outputs": [],
   "source": [
    "person = Savings(1000)\n",
    "print(person.wealth)\n",
    "person.salary(200)\n",
    "print(person.new_wealth)\n",
    "person.expenditures(chocolate = 50, beer = 75)\n",
    "print(person.new_wealth)\n",
    "person.expenditures(chocolate = 400, beer = 600)\n",
    "print(person.new_wealth)\n",
    "person. expenditures(chocolate = 100)"
   ]
  },
  {
   "cell_type": "markdown",
   "metadata": {
    "slideshow": {
     "slide_type": "slide"
    }
   },
   "source": [
    "### Debugger using jupyter notebook\n",
    "In jupyter notebook you can use the *%debug* magic to launch the debugger. In jupyter lab you can have a better graphical interface for the debugger using the debugger extension."
   ]
  },
  {
   "cell_type": "code",
   "execution_count": null,
   "metadata": {
    "slideshow": {
     "slide_type": "-"
    }
   },
   "outputs": [],
   "source": [
    "def example3(s1: set, s2: set):\n",
    "    s3 = s1 & s2\n",
    "    %debug\n",
    "    print(s3[1])\n",
    "    return s3"
   ]
  },
  {
   "cell_type": "code",
   "execution_count": null,
   "metadata": {
    "slideshow": {
     "slide_type": "fragment"
    }
   },
   "outputs": [],
   "source": [
    "temp_set1 = set(range(0 , 20, 2))\n",
    "temp_set2 = set(range(0, 20, 4))\n",
    "print(temp_set1)\n",
    "print(temp_set2)\n",
    "example3(temp_set1, temp_set2)"
   ]
  }
 ],
 "metadata": {
  "celltoolbar": "Slideshow",
  "file_extension": ".py",
  "kernelspec": {
   "display_name": "Python 3",
   "language": "python",
   "name": "python3"
  },
  "language_info": {
   "codemirror_mode": {
    "name": "ipython",
    "version": 3
   },
   "file_extension": ".py",
   "mimetype": "text/x-python",
   "name": "python",
   "nbconvert_exporter": "python",
   "pygments_lexer": "ipython3",
   "version": "3.7.4"
  },
  "mimetype": "text/x-python",
  "name": "python",
  "npconvert_exporter": "python",
  "pygments_lexer": "ipython3",
  "version": 3
 },
 "nbformat": 4,
 "nbformat_minor": 4
}
